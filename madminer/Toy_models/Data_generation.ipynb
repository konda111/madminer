{
 "cells": [
  {
   "attachments": {},
   "cell_type": "markdown",
   "metadata": {},
   "source": [
    "### Notebook"
   ]
  },
  {
   "cell_type": "code",
   "execution_count": 139,
   "metadata": {},
   "outputs": [],
   "source": [
    "import numpy as np\n",
    "from scipy.stats import norm\n",
    "from scipy.stats import multivariate_normal\n",
    "import matplotlib.pyplot as plt\n",
    "from scipy.optimize import minimize"
   ]
  },
  {
   "cell_type": "code",
   "execution_count": 140,
   "metadata": {},
   "outputs": [
    {
     "name": "stdout",
     "output_type": "stream",
     "text": [
      "[-0.94825702  0.21046343]\n",
      "[0.5 2. ]\n"
     ]
    }
   ],
   "source": [
    "#Keep this stuff fixed in a whole run\n",
    "\n",
    "D = 1\n",
    "N = 1\n",
    "means = np.random.uniform(-2,2,D+1)\n",
    "scales = np.linspace(0.5,2,D+1)\n",
    "print(means)\n",
    "print(scales)\n",
    "# define left and right bounds for sampling\n",
    "left_r = np.min(means)-3*np.max(scales)\n",
    "right_r = np.max(means)+3*np.max(scales)\n",
    "base = right_r-left_r"
   ]
  },
  {
   "cell_type": "code",
   "execution_count": 141,
   "metadata": {},
   "outputs": [
    {
     "name": "stdout",
     "output_type": "stream",
     "text": [
      "6.210463429569887\n"
     ]
    }
   ],
   "source": [
    "print(right_r)"
   ]
  },
  {
   "attachments": {},
   "cell_type": "markdown",
   "metadata": {},
   "source": [
    "An event is defined by $(\\theta, z)$, where $\\theta$ is $D$-dimesional and $z$ is $N$-dimensional. For now keep $N=1$.\n",
    "\n",
    "The toy model states the following:\n",
    "$$\n",
    "p(z|theta) = \\frac{(\\mathcal{N}_0(z)+\\theta_a\\mathcal{N}^a(z))^2}{(\\sigma(\\theta))}\n",
    "$$\n",
    "\n",
    "where the normal gaussian $\\mathcal{N}_a$ are defined by the first cell (random means)"
   ]
  },
  {
   "cell_type": "code",
   "execution_count": 142,
   "metadata": {},
   "outputs": [],
   "source": [
    "def unnormed_prob(event):\n",
    "    n_trials = np.shape(event)[0]\n",
    "    theta_coefficients = (event[:,0:D])\n",
    "    theta_coefficients = np.column_stack(((np.ones(n_trials)),theta_coefficients))\n",
    "    z_events = event[:,D]\n",
    "    function_values = []\n",
    "    for (m,s) in zip(means,scales):\n",
    "        function_values.append(norm.pdf(z_events,loc=m,scale=s))\n",
    "    return np.sum(np.asarray(function_values).T*theta_coefficients,axis=1)**2\n",
    "    "
   ]
  },
  {
   "cell_type": "code",
   "execution_count": 143,
   "metadata": {},
   "outputs": [],
   "source": [
    "#Find maximum for integration\n",
    "theta_events = np.random.uniform(-4,4,(1000000,D))\n",
    "z_events = np.random.uniform(left_r,right_r,1000000)\n",
    "events = np.column_stack((theta_events,z_events))\n",
    "height = np.max(unnormed_prob(events))"
   ]
  },
  {
   "cell_type": "code",
   "execution_count": 144,
   "metadata": {},
   "outputs": [],
   "source": [
    "def simulation_random_theta(n_reps):\n",
    "    #Simulate  in order to get to n_reps accepted counts\n",
    "    effective_number = 0\n",
    "    total_number = 0\n",
    "    zs = []\n",
    "    ths = [[0]*D]\n",
    "    while effective_number < n_reps:\n",
    "        theta_events = np.random.uniform(-4,4,(n_reps,D))\n",
    "        z_events = np.random.uniform(left_r,right_r,n_reps)\n",
    "        events = np.column_stack((theta_events,z_events))\n",
    "        probabilities = unnormed_prob(events)\n",
    "        mask = probabilities > np.random.uniform(0,height,n_reps)\n",
    "        true_events = events[mask]\n",
    "        thetas = true_events[:,0:D]\n",
    "        z = true_events[:,D]\n",
    "        if np.sum(mask>0):\n",
    "            ths += list(thetas)\n",
    "            zs += list(z)\n",
    "        effective_number += np.sum(mask)\n",
    "        total_number += n_reps\n",
    "    sigma = effective_number/total_number*height*base*8**D\n",
    "    return thetas, z, sigma"
   ]
  },
  {
   "cell_type": "code",
   "execution_count": 145,
   "metadata": {},
   "outputs": [],
   "source": [
    "def simulation_fixed_theta(n_reps,th):\n",
    "    #Simulate  in order to get to n_reps accepted counts\n",
    "    effective_number = 0\n",
    "    total_number = 0\n",
    "    zs = []\n",
    "    ths = [[0]*D]\n",
    "    while effective_number < n_reps:\n",
    "        theta_events = np.full((n_reps,D),th)\n",
    "        z_events = np.random.uniform(left_r,right_r,n_reps)\n",
    "        events = np.column_stack((theta_events,z_events))\n",
    "        probabilities = unnormed_prob(events)\n",
    "        mask = probabilities > np.random.uniform(0,height,n_reps)\n",
    "        true_events = events[mask]\n",
    "        thetas = true_events[:,0:D]\n",
    "        #print(thetas)\n",
    "        z = true_events[:,D]\n",
    "        if np.sum(mask>0):\n",
    "            ths += list(thetas)\n",
    "            zs += list(z)\n",
    "        effective_number += np.sum(mask)\n",
    "        total_number += n_reps\n",
    "    ths.pop(0)\n",
    "    sigma = effective_number/total_number*height*base\n",
    "    return ths, zs, sigma"
   ]
  },
  {
   "cell_type": "code",
   "execution_count": 146,
   "metadata": {},
   "outputs": [],
   "source": [
    "a = np.random.uniform(-1,1,(3,1))\n",
    "A = a@a.T"
   ]
  },
  {
   "cell_type": "code",
   "execution_count": 147,
   "metadata": {},
   "outputs": [
    {
     "data": {
      "text/plain": [
       "[1, 1, 2, 3]"
      ]
     },
     "execution_count": 147,
     "metadata": {},
     "output_type": "execute_result"
    }
   ],
   "source": [
    "[1]+[1,2,3]"
   ]
  },
  {
   "cell_type": "code",
   "execution_count": 199,
   "metadata": {},
   "outputs": [],
   "source": [
    "def diff_weights(theta):\n",
    "    thetas = np.asarray([1]+list(theta)).reshape(D+1,1)\n",
    "    matrix = thetas@thetas.T\n",
    "    for i in range(D+1):\n",
    "        for j in range(D+1):\n",
    "            if i != j:\n",
    "                matrix[i][j] = matrix[i][j]*2\n",
    "    return np.asarray(matrix[np.triu_indices(D+1)])\n",
    "\n",
    "def matrix_system(basis):\n",
    "    m = []\n",
    "    for elem in basis:\n",
    "        m.append(diff_weights(elem))\n",
    "    return m\n",
    "\n",
    "def cross_section(basis,theta):\n",
    "    basis_cross_sections = []\n",
    "    for elem in basis:\n",
    "        basis_cross_sections.append(simulation_fixed_theta(100000,elem)[2])\n",
    "    print(basis_cross_sections)\n",
    "    return diff_weights(theta)@(np.linalg.inv((matrix_system(basis))))@basis_cross_sections\n"
   ]
  },
  {
   "cell_type": "code",
   "execution_count": 200,
   "metadata": {},
   "outputs": [],
   "source": [
    "def der(basis,b,i):\n",
    "    ws = diff_weights(basis[b])\n",
    "    return ws[i]\n",
    "\n",
    "def fish_ij(basis,i,j):\n",
    "    s = 0\n",
    "    for b in range((int((D**2+D)/2+D+1))):\n",
    "        s+=der(basis,b,i)*der(basis,b,j)\n",
    "    return s\n",
    "def fish(basis):\n",
    "    m = []\n",
    "    for i in range(D):\n",
    "        row = []\n",
    "        for j in range(D):\n",
    "            row.append(fish_ij(basis,i,j))\n",
    "        m.append(row)\n",
    "    return m\n",
    "\n",
    "def cov(basis):\n",
    "    basis = np.reshape(basis,(int((D**2+D)/2+D+1),D))\n",
    "    inv = np.linalg.inv(fish(basis))\n",
    "    #print(np.linalg.det(fish(basis)))\n",
    "    return np.trace(inv)"
   ]
  },
  {
   "cell_type": "code",
   "execution_count": 201,
   "metadata": {},
   "outputs": [
    {
     "data": {
      "text/plain": [
       "3"
      ]
     },
     "execution_count": 201,
     "metadata": {},
     "output_type": "execute_result"
    }
   ],
   "source": [
    "(int((D**2+D)/2+D+1))*D"
   ]
  },
  {
   "cell_type": "code",
   "execution_count": 202,
   "metadata": {},
   "outputs": [
    {
     "data": {
      "text/plain": [
       "array([ 17.76750436, -13.39949568,  -1.3902577 ])"
      ]
     },
     "execution_count": 202,
     "metadata": {},
     "output_type": "execute_result"
    }
   ],
   "source": [
    "np.random.uniform(-20,20,(int((D**2+D)/2+D+1))*D)"
   ]
  },
  {
   "attachments": {},
   "cell_type": "markdown",
   "metadata": {},
   "source": [
    "The shape of the basis should be $\\frac{D^2+D}{2}+D+1$"
   ]
  },
  {
   "cell_type": "code",
   "execution_count": 208,
   "metadata": {},
   "outputs": [
    {
     "name": "stdout",
     "output_type": "stream",
     "text": [
      "0.3333333333333333\n",
      "21.493781240138592\n",
      "[6.854209460746944, 9.255404730269642, 14.251960311080685]\n",
      "-712.7587333987085\n"
     ]
    }
   ],
   "source": [
    "minimal = minimize(cov,np.random.uniform(-20,20,(int((D**2+D)/2+D+1))*D))\n",
    "print(minimal[\"fun\"])\n",
    "basis = minimal[\"x\"].reshape((int((D**2+D)/2+D+1),D))\n",
    "print(simulation_fixed_theta(10000,100*np.ones(D))[2])\n",
    "print(cross_section(basis,100*np.ones(D)))"
   ]
  },
  {
   "cell_type": "code",
   "execution_count": 116,
   "metadata": {},
   "outputs": [
    {
     "name": "stderr",
     "output_type": "stream",
     "text": [
      "/Users/giovannidecrescenzo/miniconda3/envs/madminer/lib/python3.10/site-packages/numpy/lib/histograms.py:885: RuntimeWarning: invalid value encountered in divide\n",
      "  return n/db/n.sum(), bin_edges\n"
     ]
    },
    {
     "data": {
      "text/plain": [
       "<matplotlib.legend.Legend at 0x7fd44a9e3820>"
      ]
     },
     "execution_count": 116,
     "metadata": {},
     "output_type": "execute_result"
    },
    {
     "data": {
      "image/png": "[encoded data removed]",
      "text/plain": [
       "<Figure size 640x480 with 1 Axes>"
      ]
     },
     "metadata": {},
     "output_type": "display_data"
    }
   ],
   "source": [
    "#plt.hist(p,label=\"True\",density=True)\n",
    "plt.hist(p1,label=\"Regressed\",density=True)\n",
    "plt.legend()"
   ]
  },
  {
   "cell_type": "code",
   "execution_count": null,
   "metadata": {},
   "outputs": [],
   "source": [
    "def fun(th)"
   ]
  },
  {
   "cell_type": "code",
   "execution_count": 243,
   "metadata": {},
   "outputs": [],
   "source": [
    "basis_cross_sections = []\n",
    "\n",
    "for elem in basis:\n",
    "    basis_cross_sections.append(simulation_fixed_theta(100000,elem)[2])"
   ]
  },
  {
   "cell_type": "code",
   "execution_count": 204,
   "metadata": {},
   "outputs": [],
   "source": [
    "cross_sections_coefficients = np.linalg.inv(matrix_system(basis))@basis_cross_sections"
   ]
  },
  {
   "cell_type": "code",
   "execution_count": 205,
   "metadata": {},
   "outputs": [
    {
     "data": {
      "text/plain": [
       "array([1.64763368, 0.48943329, 0.23307566, 0.26166767, 0.15454767,\n",
       "       0.18439497, 0.15292265, 0.1011256 , 0.20817286, 0.21085598])"
      ]
     },
     "execution_count": 205,
     "metadata": {},
     "output_type": "execute_result"
    }
   ],
   "source": [
    "cross_sections_coefficients"
   ]
  },
  {
   "cell_type": "code",
   "execution_count": null,
   "metadata": {},
   "outputs": [],
   "source": []
  }
 ],
 "metadata": {
  "kernelspec": {
   "display_name": "madminer",
   "language": "python",
   "name": "python3"
  },
  "language_info": {
   "codemirror_mode": {
    "name": "ipython",
    "version": 3
   },
   "file_extension": ".py",
   "mimetype": "text/x-python",
   "name": "python",
   "nbconvert_exporter": "python",
   "pygments_lexer": "ipython3",
   "version": "3.10.13"
  },
  "orig_nbformat": 4
 },
 "nbformat": 4,
 "nbformat_minor": 2
}

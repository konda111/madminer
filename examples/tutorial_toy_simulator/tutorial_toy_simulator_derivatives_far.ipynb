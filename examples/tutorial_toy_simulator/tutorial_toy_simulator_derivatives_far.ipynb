{
 "cells": [
  {
   "cell_type": "markdown",
   "metadata": {},
   "source": [
    "# Toy example\n",
    "\n",
    "Original notebook by Alexander Held, edited for the MadMiner repository by Johann Brehmer, Irina Espejo, Felix Kling, and Kyle Cranmer 2018-2019."
   ]
  },
  {
   "cell_type": "markdown",
   "metadata": {},
   "source": [
    "In this notebook, we use a simple toy example to demonstrate the machine learning and inference algorithms in MadMiner. This allows us to skip many of the more technical steps, and there's no dependency on MadGraph, Pythia, or Delphes.\n",
    "\n",
    "What this tutorial does not do, is explaining the inference methods. To understand what's happening, please have a look at [\"Constraining Effective Field Theories With Machine Learning\"](https://arxiv.org/abs/1805.00013), which will explain the basic idea in just a few pages. If you really want to get down to the dirty details, [\"A Guide to Constraining Effective Field Theories With Machine Learning\"](https://arxiv.org/abs/1805.00020) has you covered."
   ]
  },
  {
   "cell_type": "markdown",
   "metadata": {},
   "source": [
    "## Preparations"
   ]
  },
  {
   "cell_type": "code",
   "execution_count": 75,
   "metadata": {},
   "outputs": [],
   "source": [
    "import os\n",
    "import logging\n",
    "import numpy as np\n",
    "from scipy.stats import norm\n",
    "from matplotlib import pyplot as plt\n",
    "\n",
    "%matplotlib inline\n",
    "import sys\n",
    "sys.path.append('/remote/gpu02/crescenzo/MadMiner')\n",
    "\n",
    "from madminer.ml import ScoreEstimator"
   ]
  },
  {
   "cell_type": "code",
   "execution_count": 76,
   "metadata": {},
   "outputs": [],
   "source": [
    "if not os.path.exists(\"data_der_far\"):\n",
    "    os.makedirs(\"data_der_far\")"
   ]
  },
  {
   "cell_type": "markdown",
   "metadata": {},
   "source": [
    "MadMiner uses the Python `logging` module to provide additional information and debugging output. You can choose how much of this output you want to see by switching the level in the following lines to `logging.DEBUG` or `logging.WARNING`."
   ]
  },
  {
   "cell_type": "code",
   "execution_count": 77,
   "metadata": {},
   "outputs": [],
   "source": [
    "# MadMiner output\n",
    "logging.basicConfig(\n",
    "    format=\"%(asctime)-5.5s %(name)-20.20s %(levelname)-7.7s %(message)s\",\n",
    "    datefmt=\"%H:%M\",\n",
    "    level=logging.INFO,\n",
    ")\n",
    "\n",
    "# Output of all other modules (e.g. matplotlib)\n",
    "for key in logging.Logger.manager.loggerDict:\n",
    "    if \"madminer\" not in key:\n",
    "        logging.getLogger(key).setLevel(logging.WARNING)"
   ]
  },
  {
   "cell_type": "markdown",
   "metadata": {},
   "source": [
    "## 1. A toy simulator"
   ]
  },
  {
   "cell_type": "markdown",
   "metadata": {},
   "source": [
    "Our simulator depends on just one parameter `theta` and produces one-dimensional observables `x`. It is characterized by one latent variable `z`. \"Running\" the simulator consists of two steps:\n",
    "- \"Hard process\": a value of `z` is drawn from a normal distribution, where the mean depends on `theta`. \n",
    "- \"Detector\": a value for `x` is drawn from a normal distribution with mean equal to `z`. There is no explicit dependence on `theta`.\n",
    "\n",
    "As in the particle physics case, we assume that we can calculate the joint likelihood ratio `r(x, z | theta0, theta1)` as well as the joint score `t(x, z | theta)`, which depend explicitly on `z` (and where the \"detector\" part cancels).\n",
    "\n",
    "Here are some general settings (feel free to play with them): "
   ]
  },
  {
   "cell_type": "code",
   "execution_count": 78,
   "metadata": {},
   "outputs": [],
   "source": [
    "z_std = 2.0\n",
    "x_std = 1.0"
   ]
  },
  {
   "cell_type": "markdown",
   "metadata": {},
   "source": [
    "The following function runs the simulator for a value of `theta` and calculates the joint likelihood ratio between `theta0` and `theta1` as well as the joint score at `theta_score`:"
   ]
  },
  {
   "cell_type": "code",
   "execution_count": 79,
   "metadata": {},
   "outputs": [],
   "source": [
    "alpha=10"
   ]
  },
  {
   "cell_type": "code",
   "execution_count": 80,
   "metadata": {},
   "outputs": [],
   "source": [
    "npoints = 100"
   ]
  },
  {
   "cell_type": "code",
   "execution_count": 81,
   "metadata": {},
   "outputs": [],
   "source": [
    "theta = 100"
   ]
  },
  {
   "cell_type": "code",
   "execution_count": 82,
   "metadata": {},
   "outputs": [],
   "source": [
    "z1 = np.random.normal(loc=0, scale=z_std, size=npoints)\n",
    "z2 = np.random.normal(loc=alpha, scale=z_std, size=npoints)\n",
    "mask = np.random.choice([True, False],p=[1./(1+theta**2),theta**2/(1+theta**2)],size=npoints)"
   ]
  },
  {
   "cell_type": "code",
   "execution_count": 83,
   "metadata": {},
   "outputs": [
    {
     "data": {
      "text/plain": [
       "array([], dtype=float64)"
      ]
     },
     "execution_count": 83,
     "metadata": {},
     "output_type": "execute_result"
    }
   ],
   "source": [
    "z1[mask].flatten()"
   ]
  },
  {
   "cell_type": "code",
   "execution_count": 84,
   "metadata": {},
   "outputs": [
    {
     "data": {
      "text/plain": [
       "array([ 6.14006181, 10.00947669,  8.58306871, 11.94725206, 10.23545383,\n",
       "       12.37747331,  8.5577339 , 12.08352805,  7.81245807,  8.18017233,\n",
       "        9.52694907,  8.43732353, 10.18270689,  9.9039064 ,  8.1371029 ,\n",
       "        9.87367227, 11.25179288, 13.50975235, 14.87066761, 10.6892306 ,\n",
       "       15.09738795,  9.35305855, 15.89488078, 10.50979476, 12.16894758,\n",
       "        7.4709402 , 11.37617571, 10.47473575,  8.32692986, 12.45775039,\n",
       "       13.01473224,  5.28449049, 11.03821912, 10.73587242,  9.74368521,\n",
       "       11.13069121,  6.43957019, 12.56841971,  9.11408867, 11.67815941,\n",
       "        9.77693093,  8.7932042 , 10.49158726,  9.99303837,  8.01249724,\n",
       "       14.75345692, 11.96828785, 12.81376426, 10.30732379,  8.15923464,\n",
       "        8.31257185,  7.67941714, 11.87268306,  7.20104777,  9.88635149,\n",
       "        9.77406253,  9.74208036, 13.24398104,  7.4358357 ,  8.15718913,\n",
       "        5.8651965 , 11.49417591,  8.9311767 ,  8.87935816,  8.18164355,\n",
       "       13.70004024,  9.6931507 ,  9.39436055,  8.7690437 , 11.32903532,\n",
       "       12.1893839 , 10.51628838,  7.00563049, 13.30807443, 11.68761184,\n",
       "       14.70718628, 12.14373799,  8.32806662,  8.22766213,  9.51546109,\n",
       "       12.35023135,  6.52925058, 10.30745489, 10.21231504, 11.120858  ,\n",
       "        6.83477218, 10.16341887,  9.46746014,  7.58931913,  8.24673428,\n",
       "       10.2841595 , 11.49818331,  7.01516864, 13.93173369,  8.85131089,\n",
       "       10.57707747, 12.68361017,  9.77501982, 10.87199329,  7.2161991 ])"
      ]
     },
     "execution_count": 84,
     "metadata": {},
     "output_type": "execute_result"
    }
   ],
   "source": [
    "np.concatenate((z1[mask],z2[~mask]))"
   ]
  },
  {
   "cell_type": "code",
   "execution_count": 85,
   "metadata": {},
   "outputs": [
    {
     "data": {
      "text/plain": [
       "True"
      ]
     },
     "execution_count": 85,
     "metadata": {},
     "output_type": "execute_result"
    }
   ],
   "source": [
    "np.random.choice([True,False],p = [0.5,0.5],size = None)"
   ]
  },
  {
   "cell_type": "code",
   "execution_count": 86,
   "metadata": {},
   "outputs": [],
   "source": [
    "def simulate(npoints=None):\n",
    "    # Draw latent variables z\n",
    "    z = np.random.normal(loc=0, scale=z_std, size=npoints)\n",
    "    x = np.random.normal(loc=z, scale=x_std, size=None)\n",
    "    first_der = np.zeros(npoints)\n",
    "    second_der = norm(loc=alpha,scale=z_std).pdf(z)/norm(loc=0,scale=z_std).pdf(z)\n",
    "    shuf = np.random.permutation(z.shape[0])\n",
    "    return x[shuf], first_der[shuf], second_der[shuf]"
   ]
  },
  {
   "cell_type": "code",
   "execution_count": 87,
   "metadata": {},
   "outputs": [],
   "source": [
    "def simulate_2(theta, theta0=None, theta1=None, theta_score=None, npoints=None):\n",
    "    # Draw latent variables z\n",
    "    z1 = np.random.normal(loc=0, scale=z_std, size=npoints)\n",
    "    z2 = np.random.normal(loc=alpha, scale=z_std, size=npoints)\n",
    "    mask = np.random.choice([True, False],p=[1./(1+theta**2),theta**2/(1+theta**2)],size=npoints)\n",
    "    try:\n",
    "        z = np.concatenate((z1[mask],z2[~mask]))\n",
    "    except:\n",
    "        if mask:\n",
    "            z = z1\n",
    "        else:\n",
    "            z = z2\n",
    "    # Draw observables x\n",
    "    x = np.random.normal(loc=z, scale=x_std, size=None)\n",
    "\n",
    "    # Calculate joint likelihood ratio and joint score\n",
    "    if theta0 is not None and theta1 is not None:\n",
    "        r_xz = (norm(loc=theta1, scale=z_std).pdf(z)+(theta0**2)*norm(loc=alpha, scale=z_std).pdf(z) )/ ((1+theta0**2)*norm(loc=theta1, scale=z_std).pdf(z))\n",
    "    else:\n",
    "        r_xz = None\n",
    "\n",
    "    if theta_score is not None:\n",
    "        t_xz = (x - theta_score) / z_std**2\n",
    "    else:\n",
    "        t_xz = None\n",
    "\n",
    "    return x, r_xz, t_xz"
   ]
  },
  {
   "cell_type": "code",
   "execution_count": 88,
   "metadata": {},
   "outputs": [
    {
     "data": {
      "text/plain": [
       "<matplotlib.collections.PathCollection at 0x7f8397dca4d0>"
      ]
     },
     "execution_count": 88,
     "metadata": {},
     "output_type": "execute_result"
    },
    {
     "data": {
      "image/png": "[encoded data removed]",
      "text/plain": [
       "<Figure size 640x480 with 1 Axes>"
      ]
     },
     "metadata": {},
     "output_type": "display_data"
    }
   ],
   "source": [
    "s = simulate(100)\n",
    "plt.scatter(s[0],s[2])"
   ]
  },
  {
   "cell_type": "markdown",
   "metadata": {},
   "source": [
    "Usually the likelihood function `p(x|theta)` is intractable, but in this toy example it is just given by the convolution of two Gaussians, which is again a Gaussian. We will use this to validate the results later:"
   ]
  },
  {
   "cell_type": "code",
   "execution_count": 89,
   "metadata": {},
   "outputs": [],
   "source": [
    "def calculate_likelihood_ratio(x, theta0, theta1=0.0):\n",
    "    combined_std = (z_std**2 + x_std**2) ** 0.5\n",
    "    r_x = (norm(loc=theta1, scale=combined_std).pdf(x)+(theta0**2)*norm(loc=alpha, scale=combined_std).pdf(x) )/ ((1+theta0**2)*norm(loc=theta1, scale=combined_std).pdf(x))\n",
    "    return r_x"
   ]
  },
  {
   "cell_type": "code",
   "execution_count": 90,
   "metadata": {},
   "outputs": [],
   "source": [
    "x_train, first_der, second_der = simulate(100000)"
   ]
  },
  {
   "cell_type": "code",
   "execution_count": 91,
   "metadata": {},
   "outputs": [],
   "source": [
    "np.save(\"data_der_far/x_train.npy\",x_train)\n",
    "np.save(\"data_der_far/first_der.npy\",first_der)\n",
    "np.save(\"data_der_far/second_der.npy\",second_der)"
   ]
  },
  {
   "cell_type": "code",
   "execution_count": 92,
   "metadata": {},
   "outputs": [
    {
     "name": "stderr",
     "output_type": "stream",
     "text": [
      "14:47 madminer.ml.score    INFO    Starting training\n",
      "14:47 madminer.ml.score    INFO      Batch size:             128\n",
      "14:47 madminer.ml.score    INFO      Optimizer:              amsgrad\n",
      "14:47 madminer.ml.score    INFO      Epochs:                 20\n",
      "14:47 madminer.ml.score    INFO      Learning rate:          0.001 initially, decaying to 0.0001\n",
      "14:47 madminer.ml.score    INFO      Validation split:       0.25\n",
      "14:47 madminer.ml.score    INFO      Early stopping:         True\n",
      "14:47 madminer.ml.score    INFO      Scale inputs:           True\n",
      "14:47 madminer.ml.score    INFO      Shuffle labels          False\n",
      "14:47 madminer.ml.score    INFO      Samples:                all\n",
      "14:47 madminer.ml.score    INFO    Loading training data\n",
      "14:47 madminer.utils.vario INFO      Loading data_der_far/x_train.npy into RAM\n",
      "14:47 madminer.utils.vario INFO      Loading data_der_far/first_der.npy into RAM\n",
      "14:47 madminer.ml.score    INFO    Found 100000 samples with 1 parameters and 1 observables\n",
      "14:47 madminer.ml.base     INFO    Setting up input rescaling\n",
      "14:47 madminer.ml.score    INFO    Creating model\n",
      "14:47 madminer.ml.score    INFO    Training model\n",
      "14:47 madminer.utils.ml.tr INFO    Training on CPU with single precision\n",
      "14:47 madminer.utils.ml.tr WARNING Augmented training data contains NaNs, aborting training!\n",
      "14:47 madminer.utils.ml.tr INFO    Ending training during epoch 1 because NaNs appeared\n",
      "14:47 madminer.utils.ml.tr INFO    Training time spend on:\n",
      "14:47 madminer.utils.ml.tr INFO                      initialize model:   0.00h\n",
      "14:47 madminer.utils.ml.tr INFO                                   ALL:   0.00h\n",
      "14:47 madminer.utils.ml.tr INFO                            check data:   0.00h\n",
      "14:47 madminer.utils.ml.tr INFO                          make dataset:   0.00h\n",
      "14:47 madminer.utils.ml.tr INFO                       make dataloader:   0.00h\n",
      "14:47 madminer.utils.ml.tr INFO                       setup optimizer:   0.00h\n",
      "14:47 madminer.utils.ml.tr INFO                   initialize training:   0.00h\n",
      "14:47 madminer.utils.ml.tr INFO                                set lr:   0.00h\n",
      "14:47 madminer.utils.ml.tr INFO                   load training batch:   0.00h\n",
      "14:47 madminer.utils.ml.tr INFO                        fwd: move data:   0.00h\n",
      "14:47 madminer.utils.ml.tr INFO                        early stopping:   0.00h\n",
      "14:47 madminer.ml.base     INFO    Saving model to models_der_far/sally_first\n"
     ]
    }
   ],
   "source": [
    "sally = ScoreEstimator(n_hidden=(20, 20))\n",
    "\n",
    "sally.train(\n",
    "    method=\"sally\",\n",
    "    x=\"data_der_far/x_train.npy\",\n",
    "    t_xz=\"data_der_far/first_der.npy\",\n",
    "    n_epochs=20,\n",
    ")\n",
    "\n",
    "sally.save(\"models_der_far/sally_first\")"
   ]
  },
  {
   "cell_type": "code",
   "execution_count": 93,
   "metadata": {},
   "outputs": [
    {
     "name": "stderr",
     "output_type": "stream",
     "text": [
      "14:47 madminer.ml.score    INFO    Starting training\n",
      "14:47 madminer.ml.score    INFO      Batch size:             128\n",
      "14:47 madminer.ml.score    INFO      Optimizer:              amsgrad\n",
      "14:47 madminer.ml.score    INFO      Epochs:                 100\n",
      "14:47 madminer.ml.score    INFO      Learning rate:          0.001 initially, decaying to 0.0001\n",
      "14:47 madminer.ml.score    INFO      Validation split:       0.25\n",
      "14:47 madminer.ml.score    INFO      Early stopping:         True\n",
      "14:47 madminer.ml.score    INFO      Scale inputs:           True\n",
      "14:47 madminer.ml.score    INFO      Shuffle labels          False\n",
      "14:47 madminer.ml.score    INFO      Samples:                all\n",
      "14:47 madminer.ml.score    INFO    Loading training data\n",
      "14:47 madminer.utils.vario INFO      Loading data_der_far/x_train.npy into RAM\n",
      "14:47 madminer.utils.vario INFO      Loading data_der_far/second_der.npy into RAM\n",
      "14:47 madminer.ml.score    INFO    Found 100000 samples with 1 parameters and 1 observables\n",
      "14:47 madminer.ml.base     INFO    Setting up input rescaling\n",
      "14:47 madminer.ml.score    INFO    Creating model\n",
      "14:47 madminer.ml.score    INFO    Training model\n",
      "14:47 madminer.utils.ml.tr INFO    Training on CPU with single precision\n",
      "14:48 madminer.utils.ml.tr INFO      Epoch   5: train loss  0.00003 (mse_score:  0.000)\n",
      "14:48 madminer.utils.ml.tr INFO                 val. loss   0.00002 (mse_score:  0.000)\n",
      "14:48 madminer.utils.ml.tr INFO      Epoch  10: train loss  0.00003 (mse_score:  0.000)\n",
      "14:48 madminer.utils.ml.tr INFO                 val. loss   0.00002 (mse_score:  0.000)\n",
      "14:48 madminer.utils.ml.tr INFO      Epoch  15: train loss  0.00003 (mse_score:  0.000)\n",
      "14:48 madminer.utils.ml.tr INFO                 val. loss   0.00002 (mse_score:  0.000)\n",
      "14:48 madminer.utils.ml.tr INFO      Epoch  20: train loss  0.00003 (mse_score:  0.000)\n",
      "14:48 madminer.utils.ml.tr INFO                 val. loss   0.00002 (mse_score:  0.000)\n",
      "14:48 madminer.utils.ml.tr INFO      Epoch  25: train loss  0.00003 (mse_score:  0.000)\n",
      "14:48 madminer.utils.ml.tr INFO                 val. loss   0.00002 (mse_score:  0.000)\n",
      "14:49 madminer.utils.ml.tr INFO      Epoch  30: train loss  0.00003 (mse_score:  0.000)\n",
      "14:49 madminer.utils.ml.tr INFO                 val. loss   0.00002 (mse_score:  0.000)\n",
      "14:49 madminer.utils.ml.tr INFO      Epoch  35: train loss  0.00003 (mse_score:  0.000)\n",
      "14:49 madminer.utils.ml.tr INFO                 val. loss   0.00002 (mse_score:  0.000)\n",
      "14:49 madminer.utils.ml.tr INFO      Epoch  40: train loss  0.00003 (mse_score:  0.000)\n",
      "14:49 madminer.utils.ml.tr INFO                 val. loss   0.00004 (mse_score:  0.000)\n",
      "14:49 madminer.utils.ml.tr INFO      Epoch  45: train loss  0.00003 (mse_score:  0.000)\n",
      "14:49 madminer.utils.ml.tr INFO                 val. loss   0.00002 (mse_score:  0.000)\n",
      "14:49 madminer.utils.ml.tr INFO      Epoch  50: train loss  0.00003 (mse_score:  0.000)\n",
      "14:49 madminer.utils.ml.tr INFO                 val. loss   0.00002 (mse_score:  0.000)\n",
      "14:49 madminer.utils.ml.tr INFO      Epoch  55: train loss  0.00003 (mse_score:  0.000)\n",
      "14:49 madminer.utils.ml.tr INFO                 val. loss   0.00002 (mse_score:  0.000)\n",
      "14:50 madminer.utils.ml.tr INFO      Epoch  60: train loss  0.00003 (mse_score:  0.000)\n",
      "14:50 madminer.utils.ml.tr INFO                 val. loss   0.00002 (mse_score:  0.000)\n",
      "14:50 madminer.utils.ml.tr INFO      Epoch  65: train loss  0.00003 (mse_score:  0.000)\n",
      "14:50 madminer.utils.ml.tr INFO                 val. loss   0.00002 (mse_score:  0.000)\n",
      "14:50 madminer.utils.ml.tr INFO      Epoch  70: train loss  0.00003 (mse_score:  0.000)\n",
      "14:50 madminer.utils.ml.tr INFO                 val. loss   0.00002 (mse_score:  0.000)\n",
      "14:50 madminer.utils.ml.tr INFO      Epoch  75: train loss  0.00003 (mse_score:  0.000)\n",
      "14:50 madminer.utils.ml.tr INFO                 val. loss   0.00002 (mse_score:  0.000)\n",
      "14:50 madminer.utils.ml.tr INFO      Epoch  80: train loss  0.00003 (mse_score:  0.000)\n",
      "14:50 madminer.utils.ml.tr INFO                 val. loss   0.00002 (mse_score:  0.000)\n",
      "14:51 madminer.utils.ml.tr INFO      Epoch  85: train loss  0.00003 (mse_score:  0.000)\n",
      "14:51 madminer.utils.ml.tr INFO                 val. loss   0.00002 (mse_score:  0.000)\n",
      "14:51 madminer.utils.ml.tr INFO      Epoch  90: train loss  0.00003 (mse_score:  0.000)\n",
      "14:51 madminer.utils.ml.tr INFO                 val. loss   0.00002 (mse_score:  0.000)\n",
      "14:51 madminer.utils.ml.tr INFO      Epoch  95: train loss  0.00003 (mse_score:  0.000)\n",
      "14:51 madminer.utils.ml.tr INFO                 val. loss   0.00002 (mse_score:  0.000)\n",
      "14:51 madminer.utils.ml.tr INFO      Epoch 100: train loss  0.00003 (mse_score:  0.000)\n",
      "14:51 madminer.utils.ml.tr INFO                 val. loss   0.00002 (mse_score:  0.000)\n",
      "14:51 madminer.utils.ml.tr INFO    Early stopping after epoch 96, with loss  0.00002 compared to final loss  0.00002\n",
      "14:51 madminer.utils.ml.tr INFO    Training time spend on:\n",
      "14:51 madminer.utils.ml.tr INFO                      initialize model:   0.00h\n",
      "14:51 madminer.utils.ml.tr INFO                                   ALL:   0.06h\n",
      "14:51 madminer.utils.ml.tr INFO                            check data:   0.00h\n",
      "14:51 madminer.utils.ml.tr INFO                          make dataset:   0.00h\n",
      "14:51 madminer.utils.ml.tr INFO                       make dataloader:   0.00h\n",
      "14:51 madminer.utils.ml.tr INFO                       setup optimizer:   0.00h\n",
      "14:51 madminer.utils.ml.tr INFO                   initialize training:   0.00h\n",
      "14:51 madminer.utils.ml.tr INFO                                set lr:   0.00h\n",
      "14:51 madminer.utils.ml.tr INFO                   load training batch:   0.02h\n",
      "14:51 madminer.utils.ml.tr INFO                        fwd: move data:   0.00h\n",
      "14:51 madminer.utils.ml.tr INFO                   fwd: check for nans:   0.00h\n",
      "14:51 madminer.utils.ml.tr INFO                    fwd: model.forward:   0.01h\n",
      "14:51 madminer.utils.ml.tr INFO                 fwd: calculate losses:   0.00h\n",
      "14:51 madminer.utils.ml.tr INFO                 training forward pass:   0.01h\n",
      "14:51 madminer.utils.ml.tr INFO                   training sum losses:   0.00h\n",
      "14:51 madminer.utils.ml.tr INFO                        opt: zero grad:   0.00h\n",
      "14:51 madminer.utils.ml.tr INFO                         opt: backward:   0.01h\n",
      "14:51 madminer.utils.ml.tr INFO                   opt: clip grad norm:   0.00h\n",
      "14:51 madminer.utils.ml.tr INFO                             opt: step:   0.01h\n",
      "14:51 madminer.utils.ml.tr INFO                        optimizer step:   0.02h\n",
      "14:51 madminer.utils.ml.tr INFO                 load validation batch:   0.01h\n",
      "14:51 madminer.utils.ml.tr INFO               validation forward pass:   0.00h\n",
      "14:51 madminer.utils.ml.tr INFO                 validation sum losses:   0.00h\n",
      "14:51 madminer.utils.ml.tr INFO                        early stopping:   0.00h\n",
      "14:51 madminer.utils.ml.tr INFO                          report epoch:   0.00h\n",
      "14:51 madminer.ml.base     INFO    Saving model to models_der_far/sally_second\n"
     ]
    }
   ],
   "source": [
    "sally = ScoreEstimator(n_hidden=(20, 20))\n",
    "\n",
    "loss = sally.train(\n",
    "    method=\"sally\",\n",
    "    x=\"data_der_far/x_train.npy\",\n",
    "    t_xz=\"data_der_far/second_der.npy\",\n",
    "    n_epochs=100,\n",
    ")\n",
    "\n",
    "sally.save(\"models_der_far/sally_second\")"
   ]
  },
  {
   "cell_type": "code",
   "execution_count": 94,
   "metadata": {},
   "outputs": [
    {
     "data": {
      "text/plain": [
       "[<matplotlib.lines.Line2D at 0x7f839970a550>]"
      ]
     },
     "execution_count": 94,
     "metadata": {},
     "output_type": "execute_result"
    },
    {
     "data": {
      "image/png": "[encoded data removed]",
      "text/plain": [
       "<Figure size 640x480 with 1 Axes>"
      ]
     },
     "metadata": {},
     "output_type": "display_data"
    }
   ],
   "source": [
    "plt.plot(loss[0])\n",
    "plt.plot(loss[1])"
   ]
  },
  {
   "cell_type": "code",
   "execution_count": 95,
   "metadata": {},
   "outputs": [
    {
     "name": "stderr",
     "output_type": "stream",
     "text": [
      "14:51 madminer.ml.base     INFO    Loading model from models_der_far/sally_second\n"
     ]
    }
   ],
   "source": [
    "sally = ScoreEstimator(n_hidden=(20, 20))\n",
    "sally.load(\"models_der_far/sally_second\")"
   ]
  },
  {
   "cell_type": "code",
   "execution_count": 96,
   "metadata": {},
   "outputs": [],
   "source": [
    "def evaluate_der_perfect(first,second,theta):\n",
    "    return (1+theta*first+theta**2*second)/((1+theta**2)*(1))\n",
    "def evaluate_der_error(first,second,theta):\n",
    "    return (1+theta*first+theta**2*second)/((1+theta**2)*(1+np.random.normal(0,(1+theta**2)/1000)))"
   ]
  },
  {
   "cell_type": "code",
   "execution_count": 97,
   "metadata": {},
   "outputs": [
    {
     "data": {
      "text/plain": [
       "7943.00774445766"
      ]
     },
     "execution_count": 97,
     "metadata": {},
     "output_type": "execute_result"
    }
   ],
   "source": [
    "np.max(second_der)"
   ]
  },
  {
   "cell_type": "code",
   "execution_count": 98,
   "metadata": {},
   "outputs": [
    {
     "name": "stderr",
     "output_type": "stream",
     "text": [
      "14:51 madminer.ml.base     INFO    Loading model from models_der_far/sally_first\n",
      "14:51 madminer.ml.base     INFO    Loading model from models_der_far/sally_second\n"
     ]
    }
   ],
   "source": [
    "sally = ScoreEstimator(n_hidden=(20, 20))\n",
    "sally.load(\"models_der_far/sally_first\")\n",
    "x_test = simulate_2(1,npoints=1000)[0]\n",
    "f = sally.evaluate(x_test)*0.\n",
    "sally = ScoreEstimator(n_hidden=(20, 20))\n",
    "sally.load(\"models_der_far/sally_second\")\n",
    "s = (sally.evaluate(x_test)*np.sqrt(np.max(second_der)))**2"
   ]
  },
  {
   "cell_type": "code",
   "execution_count": 99,
   "metadata": {},
   "outputs": [],
   "source": [
    "n_param_points_test = 100\n",
    "th_grid = np.linspace(-4,4,n_param_points_test)\n",
    "means_perfect = []\n",
    "means_error = []\n",
    "for t in th_grid:\n",
    "    r_p = evaluate_der_perfect(f,s,t)\n",
    "    mask_p = r_p>0\n",
    "    r_p = r_p[mask_p]\n",
    "    means_perfect.append(np.mean(-2*np.log(r_p)))\n",
    "    r_e = evaluate_der_error(f,s,t)\n",
    "    mask_e = r_e>0\n",
    "    r_e = r_e[mask_e]\n",
    "    means_error.append(np.mean(-2*np.log(r_e)))"
   ]
  },
  {
   "cell_type": "code",
   "execution_count": 100,
   "metadata": {},
   "outputs": [],
   "source": [
    "all_log_r_test_true = []\n",
    "nllr_test_true = []\n",
    "for theta in th_grid:\n",
    "    log_r = np.log(calculate_likelihood_ratio(x_test, theta))\n",
    "    nllr_test_true.append(-2.0 * np.mean(log_r))\n",
    "    all_log_r_test_true.append(log_r)\n",
    "\n",
    "all_log_r_test_true = np.asarray(all_log_r_test_true).reshape((np.shape(x_test)[0], n_param_points_test))\n",
    "nllr_test_true = np.asarray(nllr_test_true)"
   ]
  },
  {
   "cell_type": "code",
   "execution_count": 101,
   "metadata": {},
   "outputs": [
    {
     "data": {
      "image/png": "[encoded data removed]",
      "text/plain": [
       "<Figure size 500x500 with 1 Axes>"
      ]
     },
     "metadata": {},
     "output_type": "display_data"
    }
   ],
   "source": [
    "fig = plt.figure(figsize=(5, 5))\n",
    "\n",
    "plt.plot(\n",
    "    th_grid,\n",
    "    nllr_test_true,\n",
    "    ls=\"--\",\n",
    "    c=\"black\",\n",
    "    label=r\"Ground truth ($\\theta = 1.0$)\",\n",
    ")\n",
    "plt.plot(\n",
    "    th_grid,\n",
    "    means_perfect,\n",
    "    label=r\"Derivatives learning perfect\",\n",
    ")\n",
    "\n",
    "plt.plot(\n",
    "    th_grid,\n",
    "    means_error,\n",
    "    label=r\"Derivatives learning perfect\",\n",
    ")\n",
    "\n",
    "\n",
    "plt.xlabel(r\"$\\theta$\")\n",
    "plt.ylabel(r\"$\\mathbb{E}_x [ -2\\, \\log \\,r(x | \\theta, \\theta_{1}) ]$\")\n",
    "\n",
    "plt.legend()\n",
    "plt.tight_layout()\n",
    "plt.show()"
   ]
  },
  {
   "cell_type": "code",
   "execution_count": null,
   "metadata": {},
   "outputs": [],
   "source": []
  },
  {
   "cell_type": "code",
   "execution_count": null,
   "metadata": {},
   "outputs": [],
   "source": []
  },
  {
   "cell_type": "code",
   "execution_count": null,
   "metadata": {},
   "outputs": [],
   "source": []
  },
  {
   "cell_type": "code",
   "execution_count": null,
   "metadata": {},
   "outputs": [],
   "source": []
  },
  {
   "cell_type": "code",
   "execution_count": null,
   "metadata": {},
   "outputs": [],
   "source": []
  },
  {
   "cell_type": "code",
   "execution_count": null,
   "metadata": {},
   "outputs": [],
   "source": []
  }
 ],
 "metadata": {
  "kernelspec": {
   "display_name": "madminer",
   "language": "python",
   "name": "python3"
  },
  "language_info": {
   "codemirror_mode": {
    "name": "ipython",
    "version": 3
   },
   "file_extension": ".py",
   "mimetype": "text/x-python",
   "name": "python",
   "nbconvert_exporter": "python",
   "pygments_lexer": "ipython3",
   "version": "3.11.2"
  }
 },
 "nbformat": 4,
 "nbformat_minor": 2
}

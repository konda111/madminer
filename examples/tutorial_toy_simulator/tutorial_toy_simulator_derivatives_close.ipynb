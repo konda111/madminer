{
 "cells": [
  {
   "cell_type": "markdown",
   "metadata": {},
   "source": [
    "# Toy example\n",
    "\n",
    "Original notebook by Alexander Held, edited for the MadMiner repository by Johann Brehmer, Irina Espejo, Felix Kling, and Kyle Cranmer 2018-2019."
   ]
  },
  {
   "cell_type": "markdown",
   "metadata": {},
   "source": [
    "In this notebook, we use a simple toy example to demonstrate the machine learning and inference algorithms in MadMiner. This allows us to skip many of the more technical steps, and there's no dependency on MadGraph, Pythia, or Delphes.\n",
    "\n",
    "What this tutorial does not do, is explaining the inference methods. To understand what's happening, please have a look at [\"Constraining Effective Field Theories With Machine Learning\"](https://arxiv.org/abs/1805.00013), which will explain the basic idea in just a few pages. If you really want to get down to the dirty details, [\"A Guide to Constraining Effective Field Theories With Machine Learning\"](https://arxiv.org/abs/1805.00020) has you covered."
   ]
  },
  {
   "cell_type": "markdown",
   "metadata": {},
   "source": [
    "## Preparations"
   ]
  },
  {
   "cell_type": "code",
   "execution_count": 1,
   "metadata": {},
   "outputs": [],
   "source": [
    "import os\n",
    "import logging\n",
    "import numpy as np\n",
    "from scipy.stats import norm\n",
    "from matplotlib import pyplot as plt\n",
    "\n",
    "%matplotlib inline\n",
    "import sys\n",
    "sys.path.append('/remote/gpu02/crescenzo/MadMiner')\n",
    "\n",
    "from madminer.ml import ScoreEstimator"
   ]
  },
  {
   "cell_type": "code",
   "execution_count": 2,
   "metadata": {},
   "outputs": [],
   "source": [
    "if not os.path.exists(\"data_der_close\"):\n",
    "    os.makedirs(\"data_der_close\")"
   ]
  },
  {
   "cell_type": "markdown",
   "metadata": {},
   "source": [
    "MadMiner uses the Python `logging` module to provide additional information and debugging output. You can choose how much of this output you want to see by switching the level in the following lines to `logging.DEBUG` or `logging.WARNING`."
   ]
  },
  {
   "cell_type": "code",
   "execution_count": 3,
   "metadata": {},
   "outputs": [],
   "source": [
    "# MadMiner output\n",
    "logging.basicConfig(\n",
    "    format=\"%(asctime)-5.5s %(name)-20.20s %(levelname)-7.7s %(message)s\",\n",
    "    datefmt=\"%H:%M\",\n",
    "    level=logging.INFO,\n",
    ")\n",
    "\n",
    "# Output of all other modules (e.g. matplotlib)\n",
    "for key in logging.Logger.manager.loggerDict:\n",
    "    if \"madminer\" not in key:\n",
    "        logging.getLogger(key).setLevel(logging.WARNING)"
   ]
  },
  {
   "cell_type": "markdown",
   "metadata": {},
   "source": [
    "## 1. A toy simulator"
   ]
  },
  {
   "cell_type": "markdown",
   "metadata": {},
   "source": [
    "Our simulator depends on just one parameter `theta` and produces one-dimensional observables `x`. It is characterized by one latent variable `z`. \"Running\" the simulator consists of two steps:\n",
    "- \"Hard process\": a value of `z` is drawn from a normal distribution, where the mean depends on `theta`. \n",
    "- \"Detector\": a value for `x` is drawn from a normal distribution with mean equal to `z`. There is no explicit dependence on `theta`.\n",
    "\n",
    "As in the particle physics case, we assume that we can calculate the joint likelihood ratio `r(x, z | theta0, theta1)` as well as the joint score `t(x, z | theta)`, which depend explicitly on `z` (and where the \"detector\" part cancels).\n",
    "\n",
    "Here are some general settings (feel free to play with them): "
   ]
  },
  {
   "cell_type": "code",
   "execution_count": 4,
   "metadata": {},
   "outputs": [],
   "source": [
    "z_std = 2.0\n",
    "x_std = 1.0"
   ]
  },
  {
   "cell_type": "markdown",
   "metadata": {},
   "source": [
    "The following function runs the simulator for a value of `theta` and calculates the joint likelihood ratio between `theta0` and `theta1` as well as the joint score at `theta_score`:"
   ]
  },
  {
   "cell_type": "code",
   "execution_count": 5,
   "metadata": {},
   "outputs": [],
   "source": [
    "alpha=1"
   ]
  },
  {
   "cell_type": "code",
   "execution_count": 6,
   "metadata": {},
   "outputs": [],
   "source": [
    "npoints = 100"
   ]
  },
  {
   "cell_type": "code",
   "execution_count": 7,
   "metadata": {},
   "outputs": [],
   "source": [
    "theta = 100"
   ]
  },
  {
   "cell_type": "code",
   "execution_count": 8,
   "metadata": {},
   "outputs": [],
   "source": [
    "z1 = np.random.normal(loc=0, scale=z_std, size=npoints)\n",
    "z2 = np.random.normal(loc=alpha, scale=z_std, size=npoints)\n",
    "mask = np.random.choice([True, False],p=[1./(1+theta**2),theta**2/(1+theta**2)],size=npoints)"
   ]
  },
  {
   "cell_type": "code",
   "execution_count": 9,
   "metadata": {},
   "outputs": [
    {
     "data": {
      "text/plain": [
       "array([], dtype=float64)"
      ]
     },
     "execution_count": 9,
     "metadata": {},
     "output_type": "execute_result"
    }
   ],
   "source": [
    "z1[mask].flatten()"
   ]
  },
  {
   "cell_type": "code",
   "execution_count": 10,
   "metadata": {},
   "outputs": [
    {
     "data": {
      "text/plain": [
       "array([ 0.13474289, -0.06214257, -0.57926212, -0.96992213,  3.38069913,\n",
       "        2.0798194 ,  4.68676847,  2.51089688,  2.45780951,  2.50636872,\n",
       "        2.15594013,  1.37446835, -2.08647395,  0.92869392,  0.21948037,\n",
       "        3.2267759 ,  0.10706188,  3.15341323, -0.54951573,  1.00085684,\n",
       "        1.12777992,  3.77852337,  3.14629769,  1.01998824,  2.53031174,\n",
       "       -0.74501427, -4.96711999,  0.77872295,  0.98267078,  2.10600998,\n",
       "        0.394391  , -1.71144315, -0.69607437,  1.32286782,  0.43431187,\n",
       "        0.37302256,  1.84669063,  2.62589123, -0.11530781, -2.13077028,\n",
       "       -1.62229994, -2.59948884, -1.82646069,  2.05850734, -1.72157083,\n",
       "        1.25367894,  1.51074315,  1.8885053 ,  4.71695844, -1.64770963,\n",
       "        3.32282529,  0.22899494,  4.4022698 ,  1.77958171, -0.9865373 ,\n",
       "        1.14126213,  5.79772581,  2.68108721,  2.26648429, -0.34657756,\n",
       "       -0.26125024, -2.02699427,  3.76768124,  4.71486831,  2.45001179,\n",
       "        3.68321677,  2.8319463 ,  2.16853968,  3.2440026 ,  3.22511235,\n",
       "        3.29450024,  3.28868373,  0.34239792,  1.57990699,  2.90873608,\n",
       "        3.68937379, -1.03629348, -0.0555957 ,  0.53810751,  3.48982504,\n",
       "        3.02715609, -0.1965386 , -2.04896775,  1.45250869,  0.8016205 ,\n",
       "        0.51262527,  3.33337537, -0.66569554, -0.28866948, -0.66409408,\n",
       "       -1.16197308,  7.46235568,  4.20719481,  1.97101311,  0.12944625,\n",
       "        5.04472696,  0.99622763,  1.77515112,  1.83711958,  1.3776128 ])"
      ]
     },
     "execution_count": 10,
     "metadata": {},
     "output_type": "execute_result"
    }
   ],
   "source": [
    "np.concatenate((z1[mask],z2[~mask]))"
   ]
  },
  {
   "cell_type": "code",
   "execution_count": 11,
   "metadata": {},
   "outputs": [
    {
     "data": {
      "text/plain": [
       "False"
      ]
     },
     "execution_count": 11,
     "metadata": {},
     "output_type": "execute_result"
    }
   ],
   "source": [
    "np.random.choice([True,False],p = [0.5,0.5],size = None)"
   ]
  },
  {
   "cell_type": "code",
   "execution_count": 12,
   "metadata": {},
   "outputs": [],
   "source": [
    "def simulate(npoints=None):\n",
    "    # Draw latent variables z\n",
    "    z = np.random.normal(loc=0, scale=z_std, size=npoints)\n",
    "    x = np.random.normal(loc=z, scale=x_std, size=None)\n",
    "    first_der = np.zeros(npoints)\n",
    "    second_der = norm(loc=alpha,scale=z_std).pdf(z)/norm(loc=0,scale=z_std).pdf(z)\n",
    "\n",
    "    return x, first_der, second_der"
   ]
  },
  {
   "cell_type": "code",
   "execution_count": 13,
   "metadata": {},
   "outputs": [],
   "source": [
    "def simulate_2(theta, theta0=None, theta1=None, theta_score=None, npoints=None):\n",
    "    # Draw latent variables z\n",
    "    z1 = np.random.normal(loc=0, scale=z_std, size=npoints)\n",
    "    z2 = np.random.normal(loc=alpha, scale=z_std, size=npoints)\n",
    "    mask = np.random.choice([True, False],p=[1./(1+theta**2),theta**2/(1+theta**2)],size=npoints)\n",
    "    try:\n",
    "        z = np.concatenate((z1[mask],z2[~mask]))\n",
    "    except:\n",
    "        if mask:\n",
    "            z = z1\n",
    "        else:\n",
    "            z = z2\n",
    "    # Draw observables x\n",
    "    x = np.random.normal(loc=z, scale=x_std, size=None)\n",
    "\n",
    "    # Calculate joint likelihood ratio and joint score\n",
    "    if theta0 is not None and theta1 is not None:\n",
    "        r_xz = (norm(loc=theta1, scale=z_std).pdf(z)+(theta0**2)*norm(loc=alpha, scale=z_std).pdf(z) )/ ((1+theta0**2)*norm(loc=theta1, scale=z_std).pdf(z))\n",
    "    else:\n",
    "        r_xz = None\n",
    "\n",
    "    if theta_score is not None:\n",
    "        t_xz = (x - theta_score) / z_std**2\n",
    "    else:\n",
    "        t_xz = None\n",
    "\n",
    "    return x, r_xz, t_xz"
   ]
  },
  {
   "cell_type": "code",
   "execution_count": 14,
   "metadata": {},
   "outputs": [
    {
     "data": {
      "text/plain": [
       "<matplotlib.collections.PathCollection at 0x7efd98b4a850>"
      ]
     },
     "execution_count": 14,
     "metadata": {},
     "output_type": "execute_result"
    },
    {
     "data": {
      "image/png": "[encoded data removed]",
      "text/plain": [
       "<Figure size 640x480 with 1 Axes>"
      ]
     },
     "metadata": {},
     "output_type": "display_data"
    }
   ],
   "source": [
    "s = simulate(100)\n",
    "plt.scatter(s[0],s[2])"
   ]
  },
  {
   "cell_type": "markdown",
   "metadata": {},
   "source": [
    "Usually the likelihood function `p(x|theta)` is intractable, but in this toy example it is just given by the convolution of two Gaussians, which is again a Gaussian. We will use this to validate the results later:"
   ]
  },
  {
   "cell_type": "code",
   "execution_count": 15,
   "metadata": {},
   "outputs": [],
   "source": [
    "def calculate_likelihood_ratio(x, theta0, theta1=0.0):\n",
    "    combined_std = (z_std**2 + x_std**2) ** 0.5\n",
    "    r_x = (norm(loc=theta1, scale=combined_std).pdf(x)+(theta0**2)*norm(loc=alpha, scale=combined_std).pdf(x) )/ ((1+theta0**2)*norm(loc=theta1, scale=combined_std).pdf(x))\n",
    "    return r_x"
   ]
  },
  {
   "cell_type": "code",
   "execution_count": 16,
   "metadata": {},
   "outputs": [],
   "source": [
    "x_train, first_der, second_der = simulate(10000)"
   ]
  },
  {
   "cell_type": "code",
   "execution_count": 17,
   "metadata": {},
   "outputs": [],
   "source": [
    "np.save(\"data_der_close/x_train.npy\",x_train)\n",
    "np.save(\"data_der_close/first_der.npy\",first_der)\n",
    "np.save(\"data_der_close/second_der.npy\",second_der)"
   ]
  },
  {
   "cell_type": "code",
   "execution_count": 18,
   "metadata": {},
   "outputs": [
    {
     "name": "stderr",
     "output_type": "stream",
     "text": [
      "11:37 madminer.ml.score    INFO    Starting training\n",
      "11:37 madminer.ml.score    INFO      Batch size:             128\n",
      "11:37 madminer.ml.score    INFO      Optimizer:              amsgrad\n",
      "11:37 madminer.ml.score    INFO      Epochs:                 100\n",
      "11:37 madminer.ml.score    INFO      Learning rate:          0.001 initially, decaying to 0.0001\n",
      "11:37 madminer.ml.score    INFO      Validation split:       0.25\n",
      "11:37 madminer.ml.score    INFO      Early stopping:         True\n",
      "11:37 madminer.ml.score    INFO      Scale inputs:           True\n",
      "11:37 madminer.ml.score    INFO      Shuffle labels          False\n",
      "11:37 madminer.ml.score    INFO      Samples:                all\n",
      "11:37 madminer.ml.score    INFO    Loading training data\n",
      "11:37 madminer.utils.vario INFO      Loading data_der_close/x_train.npy into RAM\n",
      "11:37 madminer.utils.vario INFO      Loading data_der_close/first_der.npy into RAM\n",
      "11:37 madminer.ml.score    INFO    Found 10000 samples with 1 parameters and 1 observables\n",
      "11:37 madminer.ml.base     INFO    Setting up input rescaling\n",
      "11:37 madminer.ml.score    INFO    Creating model\n",
      "11:37 madminer.ml.score    INFO    Training model\n",
      "11:37 madminer.utils.ml.tr INFO    Training on CPU with single precision\n",
      "11:38 madminer.utils.ml.tr INFO      Epoch   5: train loss  0.00005 (mse_score:  0.000)\n",
      "11:38 madminer.utils.ml.tr INFO                 val. loss   0.00003 (mse_score:  0.000)\n",
      "11:38 madminer.utils.ml.tr INFO      Epoch  10: train loss  0.00002 (mse_score:  0.000)\n",
      "11:38 madminer.utils.ml.tr INFO                 val. loss   0.00001 (mse_score:  0.000)\n",
      "11:38 madminer.utils.ml.tr INFO      Epoch  15: train loss  0.00001 (mse_score:  0.000)\n",
      "11:38 madminer.utils.ml.tr INFO                 val. loss   0.00001 (mse_score:  0.000)\n",
      "11:38 madminer.utils.ml.tr INFO      Epoch  20: train loss  0.00001 (mse_score:  0.000)\n",
      "11:38 madminer.utils.ml.tr INFO                 val. loss   0.00001 (mse_score:  0.000)\n",
      "11:38 madminer.utils.ml.tr INFO      Epoch  25: train loss  0.00001 (mse_score:  0.000)\n",
      "11:38 madminer.utils.ml.tr INFO                 val. loss   0.00001 (mse_score:  0.000)\n",
      "11:38 madminer.utils.ml.tr INFO      Epoch  30: train loss  0.00000 (mse_score:  0.000)\n",
      "11:38 madminer.utils.ml.tr INFO                 val. loss   0.00000 (mse_score:  0.000)\n",
      "11:38 madminer.utils.ml.tr INFO      Epoch  35: train loss  0.00000 (mse_score:  0.000)\n",
      "11:38 madminer.utils.ml.tr INFO                 val. loss   0.00000 (mse_score:  0.000)\n",
      "11:38 madminer.utils.ml.tr INFO      Epoch  40: train loss  0.00000 (mse_score:  0.000)\n",
      "11:38 madminer.utils.ml.tr INFO                 val. loss   0.00000 (mse_score:  0.000)\n",
      "11:38 madminer.utils.ml.tr INFO      Epoch  45: train loss  0.00000 (mse_score:  0.000)\n",
      "11:38 madminer.utils.ml.tr INFO                 val. loss   0.00000 (mse_score:  0.000)\n",
      "11:38 madminer.utils.ml.tr INFO      Epoch  50: train loss  0.00000 (mse_score:  0.000)\n",
      "11:38 madminer.utils.ml.tr INFO                 val. loss   0.00000 (mse_score:  0.000)\n",
      "11:38 madminer.utils.ml.tr INFO      Epoch  55: train loss  0.00000 (mse_score:  0.000)\n",
      "11:38 madminer.utils.ml.tr INFO                 val. loss   0.00000 (mse_score:  0.000)\n",
      "11:38 madminer.utils.ml.tr INFO      Epoch  60: train loss  0.00000 (mse_score:  0.000)\n",
      "11:38 madminer.utils.ml.tr INFO                 val. loss   0.00000 (mse_score:  0.000)\n",
      "11:38 madminer.utils.ml.tr INFO      Epoch  65: train loss  0.00000 (mse_score:  0.000)\n",
      "11:38 madminer.utils.ml.tr INFO                 val. loss   0.00000 (mse_score:  0.000)\n",
      "11:38 madminer.utils.ml.tr INFO      Epoch  70: train loss  0.00000 (mse_score:  0.000)\n",
      "11:38 madminer.utils.ml.tr INFO                 val. loss   0.00000 (mse_score:  0.000)\n",
      "11:38 madminer.utils.ml.tr INFO      Epoch  75: train loss  0.00000 (mse_score:  0.000)\n",
      "11:38 madminer.utils.ml.tr INFO                 val. loss   0.00000 (mse_score:  0.000)\n",
      "11:38 madminer.utils.ml.tr INFO      Epoch  80: train loss  0.00000 (mse_score:  0.000)\n",
      "11:38 madminer.utils.ml.tr INFO                 val. loss   0.00000 (mse_score:  0.000)\n",
      "11:38 madminer.utils.ml.tr INFO      Epoch  85: train loss  0.00000 (mse_score:  0.000)\n",
      "11:38 madminer.utils.ml.tr INFO                 val. loss   0.00000 (mse_score:  0.000)\n",
      "11:38 madminer.utils.ml.tr INFO      Epoch  90: train loss  0.00000 (mse_score:  0.000)\n",
      "11:38 madminer.utils.ml.tr INFO                 val. loss   0.00000 (mse_score:  0.000)\n",
      "11:38 madminer.utils.ml.tr INFO      Epoch  95: train loss  0.00000 (mse_score:  0.000)\n",
      "11:38 madminer.utils.ml.tr INFO                 val. loss   0.00000 (mse_score:  0.000)\n",
      "11:38 madminer.utils.ml.tr INFO      Epoch 100: train loss  0.00000 (mse_score:  0.000)\n",
      "11:38 madminer.utils.ml.tr INFO                 val. loss   0.00000 (mse_score:  0.000)\n",
      "11:38 madminer.utils.ml.tr INFO    Early stopping after epoch 98, with loss  0.00000 compared to final loss  0.00000\n",
      "11:38 madminer.utils.ml.tr INFO    Training time spend on:\n",
      "11:38 madminer.utils.ml.tr INFO                      initialize model:   0.00h\n",
      "11:38 madminer.utils.ml.tr INFO                                   ALL:   0.01h\n",
      "11:38 madminer.utils.ml.tr INFO                            check data:   0.00h\n",
      "11:38 madminer.utils.ml.tr INFO                          make dataset:   0.00h\n",
      "11:38 madminer.utils.ml.tr INFO                       make dataloader:   0.00h\n",
      "11:38 madminer.utils.ml.tr INFO                       setup optimizer:   0.00h\n",
      "11:38 madminer.utils.ml.tr INFO                   initialize training:   0.00h\n",
      "11:38 madminer.utils.ml.tr INFO                                set lr:   0.00h\n",
      "11:38 madminer.utils.ml.tr INFO                   load training batch:   0.00h\n",
      "11:38 madminer.utils.ml.tr INFO                        fwd: move data:   0.00h\n",
      "11:38 madminer.utils.ml.tr INFO                   fwd: check for nans:   0.00h\n",
      "11:38 madminer.utils.ml.tr INFO                    fwd: model.forward:   0.00h\n",
      "11:38 madminer.utils.ml.tr INFO                 fwd: calculate losses:   0.00h\n",
      "11:38 madminer.utils.ml.tr INFO                 training forward pass:   0.00h\n",
      "11:38 madminer.utils.ml.tr INFO                   training sum losses:   0.00h\n",
      "11:38 madminer.utils.ml.tr INFO                        opt: zero grad:   0.00h\n",
      "11:38 madminer.utils.ml.tr INFO                         opt: backward:   0.00h\n",
      "11:38 madminer.utils.ml.tr INFO                   opt: clip grad norm:   0.00h\n",
      "11:38 madminer.utils.ml.tr INFO                             opt: step:   0.00h\n",
      "11:38 madminer.utils.ml.tr INFO                        optimizer step:   0.00h\n",
      "11:38 madminer.utils.ml.tr INFO                 load validation batch:   0.00h\n",
      "11:38 madminer.utils.ml.tr INFO               validation forward pass:   0.00h\n",
      "11:38 madminer.utils.ml.tr INFO                 validation sum losses:   0.00h\n",
      "11:38 madminer.utils.ml.tr INFO                        early stopping:   0.00h\n",
      "11:38 madminer.utils.ml.tr INFO                          report epoch:   0.00h\n",
      "11:38 madminer.ml.base     INFO    Saving model to models_der_close/sally_first\n"
     ]
    }
   ],
   "source": [
    "sally = ScoreEstimator(n_hidden=(20, 20))\n",
    "\n",
    "sally.train(\n",
    "    method=\"sally\",\n",
    "    x=\"data_der_close/x_train.npy\",\n",
    "    t_xz=\"data_der_close/first_der.npy\",\n",
    "    n_epochs=100,\n",
    ")\n",
    "\n",
    "sally.save(\"models_der_close/sally_first\")"
   ]
  },
  {
   "cell_type": "code",
   "execution_count": 19,
   "metadata": {},
   "outputs": [
    {
     "name": "stderr",
     "output_type": "stream",
     "text": [
      "11:38 madminer.ml.score    INFO    Starting training\n",
      "11:38 madminer.ml.score    INFO      Batch size:             128\n",
      "11:38 madminer.ml.score    INFO      Optimizer:              amsgrad\n",
      "11:38 madminer.ml.score    INFO      Epochs:                 100\n",
      "11:38 madminer.ml.score    INFO      Learning rate:          0.001 initially, decaying to 0.0001\n",
      "11:38 madminer.ml.score    INFO      Validation split:       0.25\n",
      "11:38 madminer.ml.score    INFO      Early stopping:         True\n",
      "11:38 madminer.ml.score    INFO      Scale inputs:           True\n",
      "11:38 madminer.ml.score    INFO      Shuffle labels          False\n",
      "11:38 madminer.ml.score    INFO      Samples:                all\n",
      "11:38 madminer.ml.score    INFO    Loading training data\n",
      "11:38 madminer.utils.vario INFO      Loading data_der_close/x_train.npy into RAM\n",
      "11:38 madminer.utils.vario INFO      Loading data_der_close/second_der.npy into RAM\n",
      "11:38 madminer.ml.score    INFO    Found 10000 samples with 1 parameters and 1 observables\n",
      "11:38 madminer.ml.base     INFO    Setting up input rescaling\n",
      "11:38 madminer.ml.score    INFO    Creating model\n",
      "11:38 madminer.ml.score    INFO    Training model\n",
      "11:38 madminer.utils.ml.tr INFO    Training on CPU with single precision\n",
      "11:38 madminer.utils.ml.tr INFO      Epoch   5: train loss  0.10493 (mse_score:  0.105)\n",
      "11:38 madminer.utils.ml.tr INFO                 val. loss   0.09571 (mse_score:  0.096)\n",
      "11:38 madminer.utils.ml.tr INFO      Epoch  10: train loss  0.07857 (mse_score:  0.079)\n",
      "11:38 madminer.utils.ml.tr INFO                 val. loss   0.07217 (mse_score:  0.072)\n",
      "11:38 madminer.utils.ml.tr INFO      Epoch  15: train loss  0.07066 (mse_score:  0.071)\n",
      "11:38 madminer.utils.ml.tr INFO                 val. loss   0.06557 (mse_score:  0.066)\n",
      "11:38 madminer.utils.ml.tr INFO      Epoch  20: train loss  0.06748 (mse_score:  0.067)\n",
      "11:38 madminer.utils.ml.tr INFO                 val. loss   0.06343 (mse_score:  0.063)\n",
      "11:38 madminer.utils.ml.tr INFO      Epoch  25: train loss  0.06552 (mse_score:  0.066)\n",
      "11:38 madminer.utils.ml.tr INFO                 val. loss   0.06278 (mse_score:  0.063)\n",
      "11:38 madminer.utils.ml.tr INFO      Epoch  30: train loss  0.06470 (mse_score:  0.065)\n",
      "11:38 madminer.utils.ml.tr INFO                 val. loss   0.06307 (mse_score:  0.063)\n",
      "11:38 madminer.utils.ml.tr INFO      Epoch  35: train loss  0.06431 (mse_score:  0.064)\n",
      "11:38 madminer.utils.ml.tr INFO                 val. loss   0.06309 (mse_score:  0.063)\n",
      "11:38 madminer.utils.ml.tr INFO      Epoch  40: train loss  0.06390 (mse_score:  0.064)\n",
      "11:38 madminer.utils.ml.tr INFO                 val. loss   0.06261 (mse_score:  0.063)\n",
      "11:38 madminer.utils.ml.tr INFO      Epoch  45: train loss  0.06360 (mse_score:  0.064)\n",
      "11:38 madminer.utils.ml.tr INFO                 val. loss   0.06242 (mse_score:  0.062)\n",
      "11:38 madminer.utils.ml.tr INFO      Epoch  50: train loss  0.06329 (mse_score:  0.063)\n",
      "11:38 madminer.utils.ml.tr INFO                 val. loss   0.06251 (mse_score:  0.063)\n",
      "11:38 madminer.utils.ml.tr INFO      Epoch  55: train loss  0.06327 (mse_score:  0.063)\n",
      "11:38 madminer.utils.ml.tr INFO                 val. loss   0.06257 (mse_score:  0.063)\n",
      "11:38 madminer.utils.ml.tr INFO      Epoch  60: train loss  0.06292 (mse_score:  0.063)\n",
      "11:38 madminer.utils.ml.tr INFO                 val. loss   0.06253 (mse_score:  0.063)\n",
      "11:38 madminer.utils.ml.tr INFO      Epoch  65: train loss  0.06269 (mse_score:  0.063)\n",
      "11:38 madminer.utils.ml.tr INFO                 val. loss   0.06205 (mse_score:  0.062)\n",
      "11:38 madminer.utils.ml.tr INFO      Epoch  70: train loss  0.06262 (mse_score:  0.063)\n",
      "11:38 madminer.utils.ml.tr INFO                 val. loss   0.06318 (mse_score:  0.063)\n",
      "11:38 madminer.utils.ml.tr INFO      Epoch  75: train loss  0.06253 (mse_score:  0.063)\n",
      "11:38 madminer.utils.ml.tr INFO                 val. loss   0.06223 (mse_score:  0.062)\n",
      "11:38 madminer.utils.ml.tr INFO      Epoch  80: train loss  0.06248 (mse_score:  0.062)\n",
      "11:38 madminer.utils.ml.tr INFO                 val. loss   0.06250 (mse_score:  0.062)\n",
      "11:38 madminer.utils.ml.tr INFO      Epoch  85: train loss  0.06242 (mse_score:  0.062)\n",
      "11:38 madminer.utils.ml.tr INFO                 val. loss   0.06228 (mse_score:  0.062)\n",
      "11:38 madminer.utils.ml.tr INFO      Epoch  90: train loss  0.06244 (mse_score:  0.062)\n",
      "11:38 madminer.utils.ml.tr INFO                 val. loss   0.06217 (mse_score:  0.062)\n",
      "11:38 madminer.utils.ml.tr INFO      Epoch  95: train loss  0.06257 (mse_score:  0.063)\n",
      "11:38 madminer.utils.ml.tr INFO                 val. loss   0.06279 (mse_score:  0.063)\n",
      "11:38 madminer.utils.ml.tr INFO      Epoch 100: train loss  0.06257 (mse_score:  0.063)\n",
      "11:38 madminer.utils.ml.tr INFO                 val. loss   0.06247 (mse_score:  0.062)\n",
      "11:38 madminer.utils.ml.tr INFO    Early stopping after epoch 91, with loss  0.06183 compared to final loss  0.06247\n",
      "11:38 madminer.utils.ml.tr INFO    Training time spend on:\n",
      "11:38 madminer.utils.ml.tr INFO                      initialize model:   0.00h\n",
      "11:38 madminer.utils.ml.tr INFO                                   ALL:   0.01h\n",
      "11:38 madminer.utils.ml.tr INFO                            check data:   0.00h\n",
      "11:38 madminer.utils.ml.tr INFO                          make dataset:   0.00h\n",
      "11:38 madminer.utils.ml.tr INFO                       make dataloader:   0.00h\n",
      "11:38 madminer.utils.ml.tr INFO                       setup optimizer:   0.00h\n",
      "11:38 madminer.utils.ml.tr INFO                   initialize training:   0.00h\n",
      "11:38 madminer.utils.ml.tr INFO                                set lr:   0.00h\n",
      "11:38 madminer.utils.ml.tr INFO                   load training batch:   0.00h\n",
      "11:38 madminer.utils.ml.tr INFO                        fwd: move data:   0.00h\n",
      "11:38 madminer.utils.ml.tr INFO                   fwd: check for nans:   0.00h\n",
      "11:38 madminer.utils.ml.tr INFO                    fwd: model.forward:   0.00h\n",
      "11:38 madminer.utils.ml.tr INFO                 fwd: calculate losses:   0.00h\n",
      "11:38 madminer.utils.ml.tr INFO                 training forward pass:   0.00h\n",
      "11:38 madminer.utils.ml.tr INFO                   training sum losses:   0.00h\n",
      "11:38 madminer.utils.ml.tr INFO                        opt: zero grad:   0.00h\n",
      "11:38 madminer.utils.ml.tr INFO                         opt: backward:   0.00h\n",
      "11:38 madminer.utils.ml.tr INFO                   opt: clip grad norm:   0.00h\n",
      "11:38 madminer.utils.ml.tr INFO                             opt: step:   0.00h\n",
      "11:38 madminer.utils.ml.tr INFO                        optimizer step:   0.00h\n",
      "11:38 madminer.utils.ml.tr INFO                 load validation batch:   0.00h\n",
      "11:38 madminer.utils.ml.tr INFO               validation forward pass:   0.00h\n",
      "11:38 madminer.utils.ml.tr INFO                 validation sum losses:   0.00h\n",
      "11:38 madminer.utils.ml.tr INFO                        early stopping:   0.00h\n",
      "11:38 madminer.utils.ml.tr INFO                          report epoch:   0.00h\n",
      "11:38 madminer.ml.base     INFO    Saving model to models_der_close/sally_second\n"
     ]
    }
   ],
   "source": [
    "sally = ScoreEstimator(n_hidden=(20, 20))\n",
    "\n",
    "loss = sally.train(\n",
    "    method=\"sally\",\n",
    "    x=\"data_der_close/x_train.npy\",\n",
    "    t_xz=\"data_der_close/second_der.npy\",\n",
    "    n_epochs=100,\n",
    ")\n",
    "\n",
    "sally.save(\"models_der_close/sally_second\")"
   ]
  },
  {
   "cell_type": "code",
   "execution_count": 20,
   "metadata": {},
   "outputs": [
    {
     "data": {
      "text/plain": [
       "[<matplotlib.lines.Line2D at 0x7efd96812710>]"
      ]
     },
     "execution_count": 20,
     "metadata": {},
     "output_type": "execute_result"
    },
    {
     "data": {
      "image/png": "[encoded data removed]",
      "text/plain": [
       "<Figure size 640x480 with 1 Axes>"
      ]
     },
     "metadata": {},
     "output_type": "display_data"
    }
   ],
   "source": [
    "plt.plot(loss[0])\n",
    "plt.plot(loss[1])"
   ]
  },
  {
   "cell_type": "code",
   "execution_count": 21,
   "metadata": {},
   "outputs": [
    {
     "name": "stderr",
     "output_type": "stream",
     "text": [
      "11:38 madminer.ml.base     INFO    Loading model from models_der_close/sally_second\n"
     ]
    }
   ],
   "source": [
    "sally = ScoreEstimator(n_hidden=(20, 20))\n",
    "sally.load(\"models_der_close/sally_second\")"
   ]
  },
  {
   "cell_type": "code",
   "execution_count": 22,
   "metadata": {},
   "outputs": [],
   "source": [
    "def evaluate_der(first,second,theta):\n",
    "    return (1+theta*first+theta**2*second)/(1+theta**2)"
   ]
  },
  {
   "cell_type": "code",
   "execution_count": 23,
   "metadata": {},
   "outputs": [
    {
     "name": "stderr",
     "output_type": "stream",
     "text": [
      "11:38 madminer.ml.base     INFO    Loading model from models_der_close/sally_first\n",
      "11:38 madminer.ml.base     INFO    Loading model from models_der_close/sally_second\n"
     ]
    }
   ],
   "source": [
    "sally = ScoreEstimator(n_hidden=(20, 20))\n",
    "sally.load(\"models_der_close/sally_first\")\n",
    "x_test = simulate_2(1,npoints=1000)[0]\n",
    "f = sally.evaluate(x_test)\n",
    "sally = ScoreEstimator(n_hidden=(20, 20))\n",
    "sally.load(\"models_der_close/sally_second\")\n",
    "s = sally.evaluate(x_test)"
   ]
  },
  {
   "cell_type": "code",
   "execution_count": 27,
   "metadata": {},
   "outputs": [],
   "source": [
    "n_param_points_test = 200\n",
    "th_grid = np.linspace(-40,40,n_param_points_test)\n",
    "means = []\n",
    "for t in th_grid:\n",
    "    r = evaluate_der(f,s,t)\n",
    "    mask = r>0\n",
    "    r = r[mask]\n",
    "    means.append(np.mean(-2*np.log(r)))"
   ]
  },
  {
   "cell_type": "code",
   "execution_count": 28,
   "metadata": {},
   "outputs": [],
   "source": [
    "all_log_r_test_true = []\n",
    "nllr_test_true = []\n",
    "for theta in th_grid:\n",
    "    log_r = np.log(calculate_likelihood_ratio(x_test, theta))\n",
    "    nllr_test_true.append(-2.0 * np.mean(log_r))\n",
    "    all_log_r_test_true.append(log_r)\n",
    "\n",
    "all_log_r_test_true = np.asarray(all_log_r_test_true).reshape((np.shape(x_test)[0], n_param_points_test))\n",
    "nllr_test_true = np.asarray(nllr_test_true)"
   ]
  },
  {
   "cell_type": "code",
   "execution_count": 29,
   "metadata": {},
   "outputs": [
    {
     "data": {
      "image/png": "[encoded data removed]",
      "text/plain": [
       "<Figure size 500x500 with 1 Axes>"
      ]
     },
     "metadata": {},
     "output_type": "display_data"
    }
   ],
   "source": [
    "fig = plt.figure(figsize=(5, 5))\n",
    "\n",
    "plt.plot(\n",
    "    th_grid,\n",
    "    nllr_test_true,\n",
    "    ls=\"--\",\n",
    "    c=\"black\",\n",
    "    label=r\"Ground truth ($\\theta = 1.0$)\",\n",
    ")\n",
    "plt.plot(\n",
    "    th_grid,\n",
    "    means,\n",
    "    label=r\"Derivatives learning\",\n",
    ")\n",
    "\n",
    "\n",
    "plt.xlabel(r\"$\\theta$\")\n",
    "plt.ylabel(r\"$\\mathbb{E}_x [ -2\\, \\log \\,r(x | \\theta, \\theta_{1}) ]$\")\n",
    "\n",
    "plt.legend()\n",
    "plt.tight_layout()\n",
    "plt.show()"
   ]
  },
  {
   "cell_type": "code",
   "execution_count": null,
   "metadata": {},
   "outputs": [],
   "source": []
  },
  {
   "cell_type": "code",
   "execution_count": null,
   "metadata": {},
   "outputs": [],
   "source": []
  },
  {
   "cell_type": "code",
   "execution_count": null,
   "metadata": {},
   "outputs": [],
   "source": []
  },
  {
   "cell_type": "code",
   "execution_count": null,
   "metadata": {},
   "outputs": [],
   "source": []
  },
  {
   "cell_type": "code",
   "execution_count": null,
   "metadata": {},
   "outputs": [],
   "source": []
  },
  {
   "cell_type": "code",
   "execution_count": null,
   "metadata": {},
   "outputs": [],
   "source": []
  }
 ],
 "metadata": {
  "kernelspec": {
   "display_name": "madminer",
   "language": "python",
   "name": "python3"
  },
  "language_info": {
   "codemirror_mode": {
    "name": "ipython",
    "version": 3
   },
   "file_extension": ".py",
   "mimetype": "text/x-python",
   "name": "python",
   "nbconvert_exporter": "python",
   "pygments_lexer": "ipython3",
   "version": "3.11.2"
  }
 },
 "nbformat": 4,
 "nbformat_minor": 2
}

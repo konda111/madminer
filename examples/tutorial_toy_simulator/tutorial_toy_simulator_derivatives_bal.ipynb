{
 "cells": [
  {
   "cell_type": "markdown",
   "metadata": {},
   "source": [
    "# Toy example\n",
    "\n",
    "Original notebook by Alexander Held, edited for the MadMiner repository by Johann Brehmer, Irina Espejo, Felix Kling, and Kyle Cranmer 2018-2019."
   ]
  },
  {
   "cell_type": "markdown",
   "metadata": {},
   "source": [
    "In this notebook, we use a simple toy example to demonstrate the machine learning and inference algorithms in MadMiner. This allows us to skip many of the more technical steps, and there's no dependency on MadGraph, Pythia, or Delphes.\n",
    "\n",
    "What this tutorial does not do, is explaining the inference methods. To understand what's happening, please have a look at [\"Constraining Effective Field Theories With Machine Learning\"](https://arxiv.org/abs/1805.00013), which will explain the basic idea in just a few pages. If you really want to get down to the dirty details, [\"A Guide to Constraining Effective Field Theories With Machine Learning\"](https://arxiv.org/abs/1805.00020) has you covered."
   ]
  },
  {
   "cell_type": "markdown",
   "metadata": {},
   "source": [
    "## Preparations"
   ]
  },
  {
   "cell_type": "code",
   "execution_count": 2,
   "metadata": {},
   "outputs": [],
   "source": [
    "import os\n",
    "import logging\n",
    "import numpy as np\n",
    "from scipy.stats import norm\n",
    "from matplotlib import pyplot as plt\n",
    "\n",
    "%matplotlib inline\n",
    "import sys\n",
    "sys.path.append('/remote/gpu02/crescenzo/MadMiner')\n",
    "\n",
    "from madminer.ml import ScoreEstimator"
   ]
  },
  {
   "cell_type": "code",
   "execution_count": 3,
   "metadata": {},
   "outputs": [],
   "source": [
    "if not os.path.exists(\"data_der_bal\"):\n",
    "    os.makedirs(\"data_der_bal\")"
   ]
  },
  {
   "cell_type": "markdown",
   "metadata": {},
   "source": [
    "MadMiner uses the Python `logging` module to provide additional information and debugging output. You can choose how much of this output you want to see by switching the level in the following lines to `logging.DEBUG` or `logging.WARNING`."
   ]
  },
  {
   "cell_type": "code",
   "execution_count": 4,
   "metadata": {},
   "outputs": [],
   "source": [
    "# MadMiner output\n",
    "logging.basicConfig(\n",
    "    format=\"%(asctime)-5.5s %(name)-20.20s %(levelname)-7.7s %(message)s\",\n",
    "    datefmt=\"%H:%M\",\n",
    "    level=logging.INFO,\n",
    ")\n",
    "\n",
    "# Output of all other modules (e.g. matplotlib)\n",
    "for key in logging.Logger.manager.loggerDict:\n",
    "    if \"madminer\" not in key:\n",
    "        logging.getLogger(key).setLevel(logging.WARNING)"
   ]
  },
  {
   "cell_type": "markdown",
   "metadata": {},
   "source": [
    "## 1. A toy simulator"
   ]
  },
  {
   "cell_type": "markdown",
   "metadata": {},
   "source": [
    "Our simulator depends on just one parameter `theta` and produces one-dimensional observables `x`. It is characterized by one latent variable `z`. \"Running\" the simulator consists of two steps:\n",
    "- \"Hard process\": a value of `z` is drawn from a normal distribution, where the mean depends on `theta`. \n",
    "- \"Detector\": a value for `x` is drawn from a normal distribution with mean equal to `z`. There is no explicit dependence on `theta`.\n",
    "\n",
    "As in the particle physics case, we assume that we can calculate the joint likelihood ratio `r(x, z | theta0, theta1)` as well as the joint score `t(x, z | theta)`, which depend explicitly on `z` (and where the \"detector\" part cancels).\n",
    "\n",
    "Here are some general settings (feel free to play with them): "
   ]
  },
  {
   "cell_type": "code",
   "execution_count": 5,
   "metadata": {},
   "outputs": [],
   "source": [
    "z_std = 2.0\n",
    "x_std = 1.0"
   ]
  },
  {
   "cell_type": "markdown",
   "metadata": {},
   "source": [
    "The following function runs the simulator for a value of `theta` and calculates the joint likelihood ratio between `theta0` and `theta1` as well as the joint score at `theta_score`:"
   ]
  },
  {
   "cell_type": "code",
   "execution_count": 6,
   "metadata": {},
   "outputs": [],
   "source": [
    "alpha=3"
   ]
  },
  {
   "cell_type": "code",
   "execution_count": 7,
   "metadata": {},
   "outputs": [],
   "source": [
    "npoints = 100"
   ]
  },
  {
   "cell_type": "code",
   "execution_count": 8,
   "metadata": {},
   "outputs": [],
   "source": [
    "theta = 100"
   ]
  },
  {
   "cell_type": "code",
   "execution_count": 9,
   "metadata": {},
   "outputs": [],
   "source": [
    "z1 = np.random.normal(loc=0, scale=z_std, size=npoints)\n",
    "z2 = np.random.normal(loc=alpha, scale=z_std, size=npoints)\n",
    "mask = np.random.choice([True, False],p=[1./(1+theta**2),theta**2/(1+theta**2)],size=npoints)"
   ]
  },
  {
   "cell_type": "code",
   "execution_count": 10,
   "metadata": {},
   "outputs": [
    {
     "data": {
      "text/plain": [
       "array([], dtype=float64)"
      ]
     },
     "execution_count": 10,
     "metadata": {},
     "output_type": "execute_result"
    }
   ],
   "source": [
    "z1[mask].flatten()"
   ]
  },
  {
   "cell_type": "code",
   "execution_count": 11,
   "metadata": {},
   "outputs": [
    {
     "data": {
      "text/plain": [
       "array([-0.61955168,  3.26147556,  2.7638172 ,  2.69383908,  3.67044775,\n",
       "        2.28245847, -1.12993034,  3.91279376,  3.05060016,  2.42077834,\n",
       "        3.72203291,  3.653755  ,  2.52396901,  4.09972899,  5.47144458,\n",
       "        2.60733822, -0.87926705,  2.46356451,  1.46925891,  2.3784203 ,\n",
       "        5.31945282,  0.5684661 ,  3.08367881,  1.19299012,  2.18474359,\n",
       "        4.52782652,  0.18885595,  2.90377458,  3.2814006 ,  0.63122366,\n",
       "        4.78084951,  5.66407241,  3.33762913,  0.99444793,  3.60778227,\n",
       "        4.41023668,  3.78563751,  0.88948622,  1.89582221, -0.76413116,\n",
       "       -0.49134794,  3.85766148, -0.48835001,  1.49223505,  1.48071991,\n",
       "        2.44784434,  3.78934288,  7.4104788 ,  1.74405218,  5.67986174,\n",
       "        0.18766224,  4.70068669,  1.78570056,  4.46189586,  1.96626173,\n",
       "        0.41902869,  0.77063533,  2.75482195,  3.23996176,  1.30339474,\n",
       "        3.66092244,  1.32496139,  2.0203905 ,  0.34832199,  2.93702859,\n",
       "        3.68965235,  6.43072487,  3.94284469,  3.73267997, -2.11493481,\n",
       "        1.7411208 ,  2.75851623,  0.13470412,  4.23175136,  2.22527394,\n",
       "        1.02128013,  0.14903446,  4.33659621,  3.28911706,  5.89969492,\n",
       "        2.01671517,  3.8033598 ,  1.91419342,  1.45135889, -1.6429134 ,\n",
       "        1.10601295,  1.82215103,  2.83817068,  0.49227533,  3.72085361,\n",
       "        2.47149535,  5.68241415,  5.75444402,  0.18250619,  2.03132206,\n",
       "        0.55188017,  4.00439167,  4.03040331,  0.23343927,  3.89611894])"
      ]
     },
     "execution_count": 11,
     "metadata": {},
     "output_type": "execute_result"
    }
   ],
   "source": [
    "np.concatenate((z1[mask],z2[~mask]))"
   ]
  },
  {
   "cell_type": "code",
   "execution_count": 12,
   "metadata": {},
   "outputs": [
    {
     "data": {
      "text/plain": [
       "True"
      ]
     },
     "execution_count": 12,
     "metadata": {},
     "output_type": "execute_result"
    }
   ],
   "source": [
    "np.random.choice([True,False],p = [0.5,0.5],size = None)"
   ]
  },
  {
   "cell_type": "code",
   "execution_count": 13,
   "metadata": {},
   "outputs": [],
   "source": [
    "def simulate(npoints=None):\n",
    "    # Draw latent variables z\n",
    "    z = np.random.normal(loc=0, scale=z_std, size=npoints)\n",
    "    x = np.random.normal(loc=z, scale=x_std, size=None)\n",
    "    first_der = np.zeros(npoints)\n",
    "    second_der = norm(loc=alpha,scale=z_std).pdf(z)/norm(loc=0,scale=z_std).pdf(z)\n",
    "\n",
    "    return x, first_der, second_der"
   ]
  },
  {
   "cell_type": "code",
   "execution_count": 14,
   "metadata": {},
   "outputs": [],
   "source": [
    "def simulate_2(theta, theta0=None, theta1=None, theta_score=None, npoints=None):\n",
    "    # Draw latent variables z\n",
    "    z1 = np.random.normal(loc=0, scale=z_std, size=npoints)\n",
    "    z2 = np.random.normal(loc=alpha, scale=z_std, size=npoints)\n",
    "    mask = np.random.choice([True, False],p=[1./(1+theta**2),theta**2/(1+theta**2)],size=npoints)\n",
    "    try:\n",
    "        z = np.concatenate((z1[mask],z2[~mask]))\n",
    "    except:\n",
    "        if mask:\n",
    "            z = z1\n",
    "        else:\n",
    "            z = z2\n",
    "    # Draw observables x\n",
    "    x = np.random.normal(loc=z, scale=x_std, size=None)\n",
    "\n",
    "    # Calculate joint likelihood ratio and joint score\n",
    "    if theta0 is not None and theta1 is not None:\n",
    "        r_xz = (norm(loc=theta1, scale=z_std).pdf(z)+(theta0**2)*norm(loc=alpha, scale=z_std).pdf(z) )/ ((1+theta0**2)*norm(loc=theta1, scale=z_std).pdf(z))\n",
    "    else:\n",
    "        r_xz = None\n",
    "\n",
    "    if theta_score is not None:\n",
    "        t_xz = (x - theta_score) / z_std**2\n",
    "    else:\n",
    "        t_xz = None\n",
    "\n",
    "    return x, r_xz, t_xz"
   ]
  },
  {
   "cell_type": "code",
   "execution_count": 15,
   "metadata": {},
   "outputs": [
    {
     "data": {
      "text/plain": [
       "<matplotlib.collections.PathCollection at 0x7f4b9d99b650>"
      ]
     },
     "execution_count": 15,
     "metadata": {},
     "output_type": "execute_result"
    },
    {
     "data": {
      "image/png": "[encoded data removed]",
      "text/plain": [
       "<Figure size 640x480 with 1 Axes>"
      ]
     },
     "metadata": {},
     "output_type": "display_data"
    }
   ],
   "source": [
    "s = simulate(100)\n",
    "plt.scatter(s[0],s[2])"
   ]
  },
  {
   "cell_type": "markdown",
   "metadata": {},
   "source": [
    "Usually the likelihood function `p(x|theta)` is intractable, but in this toy example it is just given by the convolution of two Gaussians, which is again a Gaussian. We will use this to validate the results later:"
   ]
  },
  {
   "cell_type": "code",
   "execution_count": 16,
   "metadata": {},
   "outputs": [],
   "source": [
    "def calculate_likelihood_ratio(x, theta0, theta1=0.0):\n",
    "    combined_std = (z_std**2 + x_std**2) ** 0.5\n",
    "    r_x = (norm(loc=theta1, scale=combined_std).pdf(x)+(theta0**2)*norm(loc=alpha, scale=combined_std).pdf(x) )/ ((1+theta0**2)*norm(loc=theta1, scale=combined_std).pdf(x))\n",
    "    return r_x"
   ]
  },
  {
   "cell_type": "code",
   "execution_count": 17,
   "metadata": {},
   "outputs": [],
   "source": [
    "x_train, first_der, second_der = simulate(10000)"
   ]
  },
  {
   "cell_type": "code",
   "execution_count": 18,
   "metadata": {},
   "outputs": [],
   "source": [
    "np.save(\"data_der_bal/x_train.npy\",x_train)\n",
    "np.save(\"data_der_bal/first_der.npy\",first_der)\n",
    "np.save(\"data_der_bal/second_der.npy\",second_der)"
   ]
  },
  {
   "cell_type": "code",
   "execution_count": 19,
   "metadata": {},
   "outputs": [
    {
     "name": "stderr",
     "output_type": "stream",
     "text": [
      "11:36 madminer.ml.score    INFO    Starting training\n",
      "11:36 madminer.ml.score    INFO      Batch size:             128\n",
      "11:36 madminer.ml.score    INFO      Optimizer:              amsgrad\n",
      "11:36 madminer.ml.score    INFO      Epochs:                 100\n",
      "11:36 madminer.ml.score    INFO      Learning rate:          0.001 initially, decaying to 0.0001\n",
      "11:36 madminer.ml.score    INFO      Validation split:       0.25\n",
      "11:36 madminer.ml.score    INFO      Early stopping:         True\n",
      "11:36 madminer.ml.score    INFO      Scale inputs:           True\n",
      "11:36 madminer.ml.score    INFO      Shuffle labels          False\n",
      "11:36 madminer.ml.score    INFO      Samples:                all\n",
      "11:36 madminer.ml.score    INFO    Loading training data\n",
      "11:36 madminer.utils.vario INFO      Loading data_der_bal/x_train.npy into RAM\n",
      "11:36 madminer.utils.vario INFO      Loading data_der_bal/first_der.npy into RAM\n",
      "11:36 madminer.ml.score    INFO    Found 10000 samples with 1 parameters and 1 observables\n",
      "11:36 madminer.ml.base     INFO    Setting up input rescaling\n",
      "11:36 madminer.ml.score    INFO    Creating model\n",
      "11:36 madminer.ml.score    INFO    Training model\n",
      "11:36 madminer.utils.ml.tr INFO    Training on CPU with single precision\n",
      "11:36 madminer.utils.ml.tr INFO      Epoch   5: train loss  0.00002 (mse_score:  0.000)\n",
      "11:36 madminer.utils.ml.tr INFO                 val. loss   0.00002 (mse_score:  0.000)\n",
      "11:36 madminer.utils.ml.tr INFO      Epoch  10: train loss  0.00001 (mse_score:  0.000)\n",
      "11:36 madminer.utils.ml.tr INFO                 val. loss   0.00001 (mse_score:  0.000)\n",
      "11:36 madminer.utils.ml.tr INFO      Epoch  15: train loss  0.00001 (mse_score:  0.000)\n",
      "11:36 madminer.utils.ml.tr INFO                 val. loss   0.00001 (mse_score:  0.000)\n",
      "11:36 madminer.utils.ml.tr INFO      Epoch  20: train loss  0.00001 (mse_score:  0.000)\n",
      "11:36 madminer.utils.ml.tr INFO                 val. loss   0.00001 (mse_score:  0.000)\n",
      "11:36 madminer.utils.ml.tr INFO      Epoch  25: train loss  0.00000 (mse_score:  0.000)\n",
      "11:36 madminer.utils.ml.tr INFO                 val. loss   0.00000 (mse_score:  0.000)\n",
      "11:36 madminer.utils.ml.tr INFO      Epoch  30: train loss  0.00000 (mse_score:  0.000)\n",
      "11:36 madminer.utils.ml.tr INFO                 val. loss   0.00000 (mse_score:  0.000)\n",
      "11:36 madminer.utils.ml.tr INFO      Epoch  35: train loss  0.00000 (mse_score:  0.000)\n",
      "11:36 madminer.utils.ml.tr INFO                 val. loss   0.00000 (mse_score:  0.000)\n",
      "11:36 madminer.utils.ml.tr INFO      Epoch  40: train loss  0.00000 (mse_score:  0.000)\n",
      "11:36 madminer.utils.ml.tr INFO                 val. loss   0.00000 (mse_score:  0.000)\n",
      "11:36 madminer.utils.ml.tr INFO      Epoch  45: train loss  0.00000 (mse_score:  0.000)\n",
      "11:36 madminer.utils.ml.tr INFO                 val. loss   0.00000 (mse_score:  0.000)\n",
      "11:36 madminer.utils.ml.tr INFO      Epoch  50: train loss  0.00000 (mse_score:  0.000)\n",
      "11:36 madminer.utils.ml.tr INFO                 val. loss   0.00000 (mse_score:  0.000)\n",
      "11:36 madminer.utils.ml.tr INFO      Epoch  55: train loss  0.00000 (mse_score:  0.000)\n",
      "11:36 madminer.utils.ml.tr INFO                 val. loss   0.00000 (mse_score:  0.000)\n",
      "11:36 madminer.utils.ml.tr INFO      Epoch  60: train loss  0.00000 (mse_score:  0.000)\n",
      "11:36 madminer.utils.ml.tr INFO                 val. loss   0.00000 (mse_score:  0.000)\n",
      "11:36 madminer.utils.ml.tr INFO      Epoch  65: train loss  0.00000 (mse_score:  0.000)\n",
      "11:36 madminer.utils.ml.tr INFO                 val. loss   0.00000 (mse_score:  0.000)\n",
      "11:36 madminer.utils.ml.tr INFO      Epoch  70: train loss  0.00000 (mse_score:  0.000)\n",
      "11:36 madminer.utils.ml.tr INFO                 val. loss   0.00000 (mse_score:  0.000)\n",
      "11:36 madminer.utils.ml.tr INFO      Epoch  75: train loss  0.00000 (mse_score:  0.000)\n",
      "11:36 madminer.utils.ml.tr INFO                 val. loss   0.00000 (mse_score:  0.000)\n",
      "11:36 madminer.utils.ml.tr INFO      Epoch  80: train loss  0.00000 (mse_score:  0.000)\n",
      "11:36 madminer.utils.ml.tr INFO                 val. loss   0.00000 (mse_score:  0.000)\n",
      "11:36 madminer.utils.ml.tr INFO      Epoch  85: train loss  0.00000 (mse_score:  0.000)\n",
      "11:36 madminer.utils.ml.tr INFO                 val. loss   0.00000 (mse_score:  0.000)\n",
      "11:36 madminer.utils.ml.tr INFO      Epoch  90: train loss  0.00000 (mse_score:  0.000)\n",
      "11:36 madminer.utils.ml.tr INFO                 val. loss   0.00000 (mse_score:  0.000)\n",
      "11:36 madminer.utils.ml.tr INFO      Epoch  95: train loss  0.00000 (mse_score:  0.000)\n",
      "11:36 madminer.utils.ml.tr INFO                 val. loss   0.00000 (mse_score:  0.000)\n",
      "11:36 madminer.utils.ml.tr INFO      Epoch 100: train loss  0.00000 (mse_score:  0.000)\n",
      "11:36 madminer.utils.ml.tr INFO                 val. loss   0.00000 (mse_score:  0.000)\n",
      "11:36 madminer.utils.ml.tr INFO    Early stopping did not improve performance\n",
      "11:36 madminer.utils.ml.tr INFO    Training time spend on:\n",
      "11:36 madminer.utils.ml.tr INFO                      initialize model:   0.00h\n",
      "11:36 madminer.utils.ml.tr INFO                                   ALL:   0.01h\n",
      "11:36 madminer.utils.ml.tr INFO                            check data:   0.00h\n",
      "11:36 madminer.utils.ml.tr INFO                          make dataset:   0.00h\n",
      "11:36 madminer.utils.ml.tr INFO                       make dataloader:   0.00h\n",
      "11:36 madminer.utils.ml.tr INFO                       setup optimizer:   0.00h\n",
      "11:36 madminer.utils.ml.tr INFO                   initialize training:   0.00h\n",
      "11:36 madminer.utils.ml.tr INFO                                set lr:   0.00h\n",
      "11:36 madminer.utils.ml.tr INFO                   load training batch:   0.00h\n",
      "11:36 madminer.utils.ml.tr INFO                        fwd: move data:   0.00h\n",
      "11:36 madminer.utils.ml.tr INFO                   fwd: check for nans:   0.00h\n",
      "11:36 madminer.utils.ml.tr INFO                    fwd: model.forward:   0.00h\n",
      "11:36 madminer.utils.ml.tr INFO                 fwd: calculate losses:   0.00h\n",
      "11:36 madminer.utils.ml.tr INFO                 training forward pass:   0.00h\n",
      "11:36 madminer.utils.ml.tr INFO                   training sum losses:   0.00h\n",
      "11:36 madminer.utils.ml.tr INFO                        opt: zero grad:   0.00h\n",
      "11:36 madminer.utils.ml.tr INFO                         opt: backward:   0.00h\n",
      "11:36 madminer.utils.ml.tr INFO                   opt: clip grad norm:   0.00h\n",
      "11:36 madminer.utils.ml.tr INFO                             opt: step:   0.00h\n",
      "11:36 madminer.utils.ml.tr INFO                        optimizer step:   0.00h\n",
      "11:36 madminer.utils.ml.tr INFO                 load validation batch:   0.00h\n",
      "11:36 madminer.utils.ml.tr INFO               validation forward pass:   0.00h\n",
      "11:36 madminer.utils.ml.tr INFO                 validation sum losses:   0.00h\n",
      "11:36 madminer.utils.ml.tr INFO                        early stopping:   0.00h\n",
      "11:36 madminer.utils.ml.tr INFO                          report epoch:   0.00h\n",
      "11:36 madminer.ml.base     INFO    Saving model to models_der_bal/sally_first\n"
     ]
    }
   ],
   "source": [
    "sally = ScoreEstimator(n_hidden=(20, 20))\n",
    "\n",
    "sally.train(\n",
    "    method=\"sally\",\n",
    "    x=\"data_der_bal/x_train.npy\",\n",
    "    t_xz=\"data_der_bal/first_der.npy\",\n",
    "    n_epochs=100,\n",
    ")\n",
    "\n",
    "sally.save(\"models_der_bal/sally_first\")"
   ]
  },
  {
   "cell_type": "code",
   "execution_count": 20,
   "metadata": {},
   "outputs": [
    {
     "name": "stderr",
     "output_type": "stream",
     "text": [
      "11:36 madminer.ml.score    INFO    Starting training\n",
      "11:36 madminer.ml.score    INFO      Batch size:             128\n",
      "11:36 madminer.ml.score    INFO      Optimizer:              amsgrad\n",
      "11:36 madminer.ml.score    INFO      Epochs:                 100\n",
      "11:36 madminer.ml.score    INFO      Learning rate:          0.001 initially, decaying to 0.0001\n",
      "11:36 madminer.ml.score    INFO      Validation split:       0.25\n",
      "11:36 madminer.ml.score    INFO      Early stopping:         True\n",
      "11:36 madminer.ml.score    INFO      Scale inputs:           True\n",
      "11:36 madminer.ml.score    INFO      Shuffle labels          False\n",
      "11:36 madminer.ml.score    INFO      Samples:                all\n",
      "11:36 madminer.ml.score    INFO    Loading training data\n",
      "11:36 madminer.utils.vario INFO      Loading data_der_bal/x_train.npy into RAM\n",
      "11:36 madminer.utils.vario INFO      Loading data_der_bal/second_der.npy into RAM\n",
      "11:36 madminer.ml.score    INFO    Found 10000 samples with 1 parameters and 1 observables\n",
      "11:36 madminer.ml.base     INFO    Setting up input rescaling\n",
      "11:36 madminer.ml.score    INFO    Creating model\n",
      "11:36 madminer.ml.score    INFO    Training model\n",
      "11:36 madminer.utils.ml.tr INFO    Training on CPU with single precision\n",
      "11:36 madminer.utils.ml.tr INFO      Epoch   5: train loss  5.03093 (mse_score:  5.031)\n",
      "11:36 madminer.utils.ml.tr INFO                 val. loss   4.97202 (mse_score:  4.972)\n",
      "11:36 madminer.utils.ml.tr INFO      Epoch  10: train loss  4.04534 (mse_score:  4.045)\n",
      "11:36 madminer.utils.ml.tr INFO                 val. loss   5.13979 (mse_score:  5.140)\n",
      "11:36 madminer.utils.ml.tr INFO      Epoch  15: train loss  3.67961 (mse_score:  3.680)\n",
      "11:36 madminer.utils.ml.tr INFO                 val. loss   3.93578 (mse_score:  3.936)\n",
      "11:37 madminer.utils.ml.tr INFO      Epoch  20: train loss  3.48705 (mse_score:  3.487)\n",
      "11:37 madminer.utils.ml.tr INFO                 val. loss   3.80338 (mse_score:  3.803)\n",
      "11:37 madminer.utils.ml.tr INFO      Epoch  25: train loss  3.35967 (mse_score:  3.360)\n",
      "11:37 madminer.utils.ml.tr INFO                 val. loss   3.73297 (mse_score:  3.733)\n",
      "11:37 madminer.utils.ml.tr INFO      Epoch  30: train loss  3.27806 (mse_score:  3.278)\n",
      "11:37 madminer.utils.ml.tr INFO                 val. loss   4.13254 (mse_score:  4.133)\n",
      "11:37 madminer.utils.ml.tr INFO      Epoch  35: train loss  3.21143 (mse_score:  3.211)\n",
      "11:37 madminer.utils.ml.tr INFO                 val. loss   3.55440 (mse_score:  3.554)\n",
      "11:37 madminer.utils.ml.tr INFO      Epoch  40: train loss  3.15626 (mse_score:  3.156)\n",
      "11:37 madminer.utils.ml.tr INFO                 val. loss   3.52989 (mse_score:  3.530)\n",
      "11:37 madminer.utils.ml.tr INFO      Epoch  45: train loss  3.11760 (mse_score:  3.118)\n",
      "11:37 madminer.utils.ml.tr INFO                 val. loss   3.48871 (mse_score:  3.489)\n",
      "11:37 madminer.utils.ml.tr INFO      Epoch  50: train loss  3.09721 (mse_score:  3.097)\n",
      "11:37 madminer.utils.ml.tr INFO                 val. loss   3.44447 (mse_score:  3.444)\n",
      "11:37 madminer.utils.ml.tr INFO      Epoch  55: train loss  3.06554 (mse_score:  3.066)\n",
      "11:37 madminer.utils.ml.tr INFO                 val. loss   3.43952 (mse_score:  3.440)\n",
      "11:37 madminer.utils.ml.tr INFO      Epoch  60: train loss  3.04214 (mse_score:  3.042)\n",
      "11:37 madminer.utils.ml.tr INFO                 val. loss   3.39832 (mse_score:  3.398)\n",
      "11:37 madminer.utils.ml.tr INFO      Epoch  65: train loss  3.03332 (mse_score:  3.033)\n",
      "11:37 madminer.utils.ml.tr INFO                 val. loss   3.39059 (mse_score:  3.391)\n",
      "11:37 madminer.utils.ml.tr INFO      Epoch  70: train loss  3.01044 (mse_score:  3.010)\n",
      "11:37 madminer.utils.ml.tr INFO                 val. loss   3.41641 (mse_score:  3.416)\n",
      "11:37 madminer.utils.ml.tr INFO      Epoch  75: train loss  2.99572 (mse_score:  2.996)\n",
      "11:37 madminer.utils.ml.tr INFO                 val. loss   3.34685 (mse_score:  3.347)\n",
      "11:37 madminer.utils.ml.tr INFO      Epoch  80: train loss  3.10726 (mse_score:  3.107)\n",
      "11:37 madminer.utils.ml.tr INFO                 val. loss   3.34534 (mse_score:  3.345)\n",
      "11:37 madminer.utils.ml.tr INFO      Epoch  85: train loss  3.00200 (mse_score:  3.002)\n",
      "11:37 madminer.utils.ml.tr INFO                 val. loss   3.33148 (mse_score:  3.331)\n",
      "11:37 madminer.utils.ml.tr INFO      Epoch  90: train loss  2.97567 (mse_score:  2.976)\n",
      "11:37 madminer.utils.ml.tr INFO                 val. loss   3.65890 (mse_score:  3.659)\n",
      "11:37 madminer.utils.ml.tr INFO      Epoch  95: train loss  2.96240 (mse_score:  2.962)\n",
      "11:37 madminer.utils.ml.tr INFO                 val. loss   3.34140 (mse_score:  3.341)\n",
      "11:37 madminer.utils.ml.tr INFO      Epoch 100: train loss  2.96817 (mse_score:  2.968)\n",
      "11:37 madminer.utils.ml.tr INFO                 val. loss   3.38970 (mse_score:  3.390)\n",
      "11:37 madminer.utils.ml.tr INFO    Early stopping after epoch 97, with loss  3.30848 compared to final loss  3.38970\n",
      "11:37 madminer.utils.ml.tr INFO    Training time spend on:\n",
      "11:37 madminer.utils.ml.tr INFO                      initialize model:   0.00h\n",
      "11:37 madminer.utils.ml.tr INFO                                   ALL:   0.01h\n",
      "11:37 madminer.utils.ml.tr INFO                            check data:   0.00h\n",
      "11:37 madminer.utils.ml.tr INFO                          make dataset:   0.00h\n",
      "11:37 madminer.utils.ml.tr INFO                       make dataloader:   0.00h\n",
      "11:37 madminer.utils.ml.tr INFO                       setup optimizer:   0.00h\n",
      "11:37 madminer.utils.ml.tr INFO                   initialize training:   0.00h\n",
      "11:37 madminer.utils.ml.tr INFO                                set lr:   0.00h\n",
      "11:37 madminer.utils.ml.tr INFO                   load training batch:   0.00h\n",
      "11:37 madminer.utils.ml.tr INFO                        fwd: move data:   0.00h\n",
      "11:37 madminer.utils.ml.tr INFO                   fwd: check for nans:   0.00h\n",
      "11:37 madminer.utils.ml.tr INFO                    fwd: model.forward:   0.00h\n",
      "11:37 madminer.utils.ml.tr INFO                 fwd: calculate losses:   0.00h\n",
      "11:37 madminer.utils.ml.tr INFO                 training forward pass:   0.00h\n",
      "11:37 madminer.utils.ml.tr INFO                   training sum losses:   0.00h\n",
      "11:37 madminer.utils.ml.tr INFO                        opt: zero grad:   0.00h\n",
      "11:37 madminer.utils.ml.tr INFO                         opt: backward:   0.00h\n",
      "11:37 madminer.utils.ml.tr INFO                   opt: clip grad norm:   0.00h\n",
      "11:37 madminer.utils.ml.tr INFO                             opt: step:   0.00h\n",
      "11:37 madminer.utils.ml.tr INFO                        optimizer step:   0.00h\n",
      "11:37 madminer.utils.ml.tr INFO                 load validation batch:   0.00h\n",
      "11:37 madminer.utils.ml.tr INFO               validation forward pass:   0.00h\n",
      "11:37 madminer.utils.ml.tr INFO                 validation sum losses:   0.00h\n",
      "11:37 madminer.utils.ml.tr INFO                        early stopping:   0.00h\n",
      "11:37 madminer.utils.ml.tr INFO                          report epoch:   0.00h\n",
      "11:37 madminer.ml.base     INFO    Saving model to models_der_bal/sally_second\n"
     ]
    }
   ],
   "source": [
    "sally = ScoreEstimator(n_hidden=(20, 20))\n",
    "\n",
    "loss = sally.train(\n",
    "    method=\"sally\",\n",
    "    x=\"data_der_bal/x_train.npy\",\n",
    "    t_xz=\"data_der_bal/second_der.npy\",\n",
    "    n_epochs=100,\n",
    ")\n",
    "\n",
    "sally.save(\"models_der_bal/sally_second\")"
   ]
  },
  {
   "cell_type": "code",
   "execution_count": 21,
   "metadata": {},
   "outputs": [
    {
     "data": {
      "text/plain": [
       "[<matplotlib.lines.Line2D at 0x7f4b9d7cda90>]"
      ]
     },
     "execution_count": 21,
     "metadata": {},
     "output_type": "execute_result"
    },
    {
     "data": {
      "image/png": "[encoded data removed]",
      "text/plain": [
       "<Figure size 640x480 with 1 Axes>"
      ]
     },
     "metadata": {},
     "output_type": "display_data"
    }
   ],
   "source": [
    "plt.plot(loss[0])\n",
    "plt.plot(loss[1])"
   ]
  },
  {
   "cell_type": "code",
   "execution_count": 22,
   "metadata": {},
   "outputs": [
    {
     "name": "stderr",
     "output_type": "stream",
     "text": [
      "11:37 madminer.ml.base     INFO    Loading model from models_der_bal/sally_second\n"
     ]
    }
   ],
   "source": [
    "sally = ScoreEstimator(n_hidden=(20, 20))\n",
    "sally.load(\"models_der_bal/sally_second\")"
   ]
  },
  {
   "cell_type": "code",
   "execution_count": 23,
   "metadata": {},
   "outputs": [],
   "source": [
    "def evaluate_der(first,second,theta):\n",
    "    return (1+theta*first+theta**2*second)/(1+theta**2)"
   ]
  },
  {
   "cell_type": "code",
   "execution_count": 24,
   "metadata": {},
   "outputs": [
    {
     "name": "stderr",
     "output_type": "stream",
     "text": [
      "11:37 madminer.ml.base     INFO    Loading model from models_der_bal/sally_first\n",
      "11:37 madminer.ml.base     INFO    Loading model from models_der_bal/sally_second\n"
     ]
    }
   ],
   "source": [
    "sally = ScoreEstimator(n_hidden=(20, 20))\n",
    "sally.load(\"models_der_bal/sally_first\")\n",
    "x_test = simulate_2(1,npoints=1000)[0]\n",
    "f = sally.evaluate(x_test)\n",
    "sally = ScoreEstimator(n_hidden=(20, 20))\n",
    "sally.load(\"models_der_bal/sally_second\")\n",
    "s = sally.evaluate(x_test)"
   ]
  },
  {
   "cell_type": "code",
   "execution_count": 28,
   "metadata": {},
   "outputs": [],
   "source": [
    "n_param_points_test = 200\n",
    "th_grid = np.linspace(-40,40,n_param_points_test)\n",
    "means = []\n",
    "for t in th_grid:\n",
    "    r = evaluate_der(f,s,t)\n",
    "    mask = r>0\n",
    "    r = r[mask]\n",
    "    means.append(np.mean(-2*np.log(r)))"
   ]
  },
  {
   "cell_type": "code",
   "execution_count": 29,
   "metadata": {},
   "outputs": [],
   "source": [
    "all_log_r_test_true = []\n",
    "nllr_test_true = []\n",
    "for theta in th_grid:\n",
    "    log_r = np.log(calculate_likelihood_ratio(x_test, theta))\n",
    "    nllr_test_true.append(-2.0 * np.mean(log_r))\n",
    "    all_log_r_test_true.append(log_r)\n",
    "\n",
    "all_log_r_test_true = np.asarray(all_log_r_test_true).reshape((np.shape(x_test)[0], n_param_points_test))\n",
    "nllr_test_true = np.asarray(nllr_test_true)"
   ]
  },
  {
   "cell_type": "code",
   "execution_count": 30,
   "metadata": {},
   "outputs": [
    {
     "data": {
      "image/png": "[encoded data removed]",
      "text/plain": [
       "<Figure size 500x500 with 1 Axes>"
      ]
     },
     "metadata": {},
     "output_type": "display_data"
    }
   ],
   "source": [
    "fig = plt.figure(figsize=(5, 5))\n",
    "\n",
    "plt.plot(\n",
    "    th_grid,\n",
    "    nllr_test_true,\n",
    "    ls=\"--\",\n",
    "    c=\"black\",\n",
    "    label=r\"Ground truth ($\\theta = 1.0$)\",\n",
    ")\n",
    "plt.plot(\n",
    "    th_grid,\n",
    "    means,\n",
    "    label=r\"Derivatives learning\",\n",
    ")\n",
    "\n",
    "\n",
    "plt.xlabel(r\"$\\theta$\")\n",
    "plt.ylabel(r\"$\\mathbb{E}_x [ -2\\, \\log \\,r(x | \\theta, \\theta_{1}) ]$\")\n",
    "\n",
    "plt.legend()\n",
    "plt.tight_layout()\n",
    "plt.show()"
   ]
  },
  {
   "cell_type": "code",
   "execution_count": null,
   "metadata": {},
   "outputs": [],
   "source": []
  },
  {
   "cell_type": "code",
   "execution_count": null,
   "metadata": {},
   "outputs": [],
   "source": []
  },
  {
   "cell_type": "code",
   "execution_count": null,
   "metadata": {},
   "outputs": [],
   "source": []
  },
  {
   "cell_type": "code",
   "execution_count": null,
   "metadata": {},
   "outputs": [],
   "source": []
  },
  {
   "cell_type": "code",
   "execution_count": null,
   "metadata": {},
   "outputs": [],
   "source": []
  },
  {
   "cell_type": "code",
   "execution_count": null,
   "metadata": {},
   "outputs": [],
   "source": []
  }
 ],
 "metadata": {
  "kernelspec": {
   "display_name": "madminer",
   "language": "python",
   "name": "python3"
  },
  "language_info": {
   "codemirror_mode": {
    "name": "ipython",
    "version": 3
   },
   "file_extension": ".py",
   "mimetype": "text/x-python",
   "name": "python",
   "nbconvert_exporter": "python",
   "pygments_lexer": "ipython3",
   "version": "3.11.2"
  }
 },
 "nbformat": 4,
 "nbformat_minor": 2
}

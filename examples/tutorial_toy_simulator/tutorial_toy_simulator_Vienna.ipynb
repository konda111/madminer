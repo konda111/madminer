{
 "cells": [
  {
   "cell_type": "markdown",
   "metadata": {},
   "source": [
    "# Toy example\n",
    "\n",
    "Original notebook by Alexander Held, edited for the MadMiner repository by Johann Brehmer, Irina Espejo, Felix Kling, and Kyle Cranmer 2018-2019."
   ]
  },
  {
   "cell_type": "markdown",
   "metadata": {},
   "source": [
    "In this notebook, we use a simple toy example to demonstrate the machine learning and inference algorithms in MadMiner. This allows us to skip many of the more technical steps, and there's no dependency on MadGraph, Pythia, or Delphes.\n",
    "\n",
    "What this tutorial does not do, is explaining the inference methods. To understand what's happening, please have a look at [\"Constraining Effective Field Theories With Machine Learning\"](https://arxiv.org/abs/1805.00013), which will explain the basic idea in just a few pages. If you really want to get down to the dirty details, [\"A Guide to Constraining Effective Field Theories With Machine Learning\"](https://arxiv.org/abs/1805.00020) has you covered."
   ]
  },
  {
   "cell_type": "markdown",
   "metadata": {},
   "source": [
    "## Preparations"
   ]
  },
  {
   "cell_type": "code",
   "execution_count": 53,
   "metadata": {},
   "outputs": [],
   "source": [
    "import os\n",
    "import logging\n",
    "import numpy as np\n",
    "from scipy.stats import norm\n",
    "from matplotlib import pyplot as plt\n",
    "\n",
    "%matplotlib inline\n",
    "import sys\n",
    "sys.path.append('/remote/gpu02/crescenzo/MadMiner')\n",
    "\n",
    "from madminer.ml import ParameterizedRatioEstimator"
   ]
  },
  {
   "cell_type": "code",
   "execution_count": 54,
   "metadata": {},
   "outputs": [],
   "source": [
    "if not os.path.exists(\"data\"):\n",
    "    os.makedirs(\"data\")"
   ]
  },
  {
   "cell_type": "markdown",
   "metadata": {},
   "source": [
    "MadMiner uses the Python `logging` module to provide additional information and debugging output. You can choose how much of this output you want to see by switching the level in the following lines to `logging.DEBUG` or `logging.WARNING`."
   ]
  },
  {
   "cell_type": "code",
   "execution_count": 55,
   "metadata": {},
   "outputs": [],
   "source": [
    "# MadMiner output\n",
    "logging.basicConfig(\n",
    "    format=\"%(asctime)-5.5s %(name)-20.20s %(levelname)-7.7s %(message)s\",\n",
    "    datefmt=\"%H:%M\",\n",
    "    level=logging.INFO,\n",
    ")\n",
    "\n",
    "# Output of all other modules (e.g. matplotlib)\n",
    "for key in logging.Logger.manager.loggerDict:\n",
    "    if \"madminer\" not in key:\n",
    "        logging.getLogger(key).setLevel(logging.WARNING)"
   ]
  },
  {
   "cell_type": "markdown",
   "metadata": {},
   "source": [
    "## 1. A toy simulator"
   ]
  },
  {
   "cell_type": "markdown",
   "metadata": {},
   "source": [
    "Our simulator depends on just one parameter `theta` and produces one-dimensional observables `x`. It is characterized by one latent variable `z`. \"Running\" the simulator consists of two steps:\n",
    "- \"Hard process\": a value of `z` is drawn from a normal distribution, where the mean depends on `theta`. \n",
    "- \"Detector\": a value for `x` is drawn from a normal distribution with mean equal to `z`. There is no explicit dependence on `theta`.\n",
    "\n",
    "As in the particle physics case, we assume that we can calculate the joint likelihood ratio `r(x, z | theta0, theta1)` as well as the joint score `t(x, z | theta)`, which depend explicitly on `z` (and where the \"detector\" part cancels).\n",
    "\n",
    "Here are some general settings (feel free to play with them): "
   ]
  },
  {
   "cell_type": "code",
   "execution_count": 56,
   "metadata": {},
   "outputs": [],
   "source": [
    "z_std = 2.0\n",
    "x_std = 1.0"
   ]
  },
  {
   "cell_type": "markdown",
   "metadata": {},
   "source": [
    "The following function runs the simulator for a value of `theta` and calculates the joint likelihood ratio between `theta0` and `theta1` as well as the joint score at `theta_score`:"
   ]
  },
  {
   "cell_type": "code",
   "execution_count": 89,
   "metadata": {},
   "outputs": [],
   "source": [
    "alpha=10"
   ]
  },
  {
   "cell_type": "code",
   "execution_count": 90,
   "metadata": {},
   "outputs": [],
   "source": [
    "npoints = 100"
   ]
  },
  {
   "cell_type": "code",
   "execution_count": 91,
   "metadata": {},
   "outputs": [],
   "source": [
    "theta = 100"
   ]
  },
  {
   "cell_type": "code",
   "execution_count": 92,
   "metadata": {},
   "outputs": [],
   "source": [
    "z1 = np.random.normal(loc=0, scale=z_std, size=npoints)\n",
    "z2 = np.random.normal(loc=alpha, scale=z_std, size=npoints)\n",
    "mask = np.random.choice([True, False],p=[1./(1+theta**2),theta**2/(1+theta**2)],size=npoints)"
   ]
  },
  {
   "cell_type": "code",
   "execution_count": 93,
   "metadata": {},
   "outputs": [
    {
     "data": {
      "text/plain": [
       "array([], dtype=float64)"
      ]
     },
     "execution_count": 93,
     "metadata": {},
     "output_type": "execute_result"
    }
   ],
   "source": [
    "z1[mask].flatten()"
   ]
  },
  {
   "cell_type": "code",
   "execution_count": 94,
   "metadata": {},
   "outputs": [
    {
     "data": {
      "text/plain": [
       "array([ 7.02889492, 11.35780733, 10.11799472,  8.88636785, 11.7647881 ,\n",
       "        7.89783118, 13.76954433,  8.79513629, 10.74116461, 10.83703073,\n",
       "        9.93477012, 11.26570122, 11.81971232,  8.43718318,  9.22641409,\n",
       "        9.86892156, 10.78295902,  8.00953709, 10.10854042,  8.20297427,\n",
       "        8.92418398,  7.60380522,  6.87607062, 12.31482085,  7.77359546,\n",
       "       10.67253935,  9.82037438,  8.47620721, 14.80474739,  7.80977635,\n",
       "       10.40785516, 11.47107301,  8.99563345,  9.14700827,  9.32168404,\n",
       "        6.81153678,  9.36447817, 11.90814347, 12.8287497 , 12.9643802 ,\n",
       "        7.36412982, 10.1041048 ,  6.42493673,  9.85689695,  9.60914077,\n",
       "       10.78763241, 12.16845021,  8.52772276,  9.23347181,  9.24025351,\n",
       "       10.44630736, 11.73260776, 10.28096798, 10.30321779, 10.08795385,\n",
       "        8.73583037, 10.69269712,  8.40346244,  9.27949909, 11.45369587,\n",
       "       10.82554952, 10.85102427, 11.14738807,  9.56362515,  7.94808377,\n",
       "        8.1473077 ,  6.96120738, 11.73971116, 10.75101387,  7.85850935,\n",
       "        9.02959223, 11.53860846, 11.18901938,  9.42184693,  9.64766257,\n",
       "       10.63027038, 10.91544581, 10.65851597, 11.54019829,  8.51103827,\n",
       "        9.20222478,  6.68309627, 10.83060582,  8.46336356,  9.20927605,\n",
       "        9.93134084,  8.17108575,  8.6019579 ,  9.82705301,  9.88216979,\n",
       "        6.3320958 , 12.96767461, 11.18695169,  8.92279821, 13.86487961,\n",
       "        7.65454437,  7.45987438, 11.80120801,  6.49002082,  7.81465757])"
      ]
     },
     "execution_count": 94,
     "metadata": {},
     "output_type": "execute_result"
    }
   ],
   "source": [
    "np.concatenate((z1[mask],z2[~mask]))"
   ]
  },
  {
   "cell_type": "code",
   "execution_count": 106,
   "metadata": {},
   "outputs": [],
   "source": [
    "def simulate(theta, theta0=None, theta1=None, theta_score=None, npoints=None):\n",
    "    # Draw latent variables z\n",
    "    z1 = np.random.normal(loc=0, scale=z_std, size=npoints)\n",
    "    z2 = np.random.normal(loc=alpha, scale=z_std, size=npoints)\n",
    "    mask = np.random.choice([True, False],p=[1./(1+theta**2),theta**2/(1+theta**2)],size=npoints)\n",
    "    z = np.concatenate((z1[mask],z2[~mask]))\n",
    "    # Draw observables x\n",
    "    x = np.random.normal(loc=z, scale=x_std, size=None)\n",
    "\n",
    "    # Calculate joint likelihood ratio and joint score\n",
    "    if theta0 is not None and theta1 is not None:\n",
    "        r_xz = norm(loc=theta0, scale=z_std).pdf(z) / norm(loc=theta1, scale=z_std).pdf(z)\n",
    "    else:\n",
    "        r_xz = None\n",
    "\n",
    "    if theta_score is not None:\n",
    "        t_xz = (x - theta_score) / z_std**2\n",
    "    else:\n",
    "        t_xz = None\n",
    "\n",
    "    return x, r_xz, t_xz"
   ]
  },
  {
   "cell_type": "markdown",
   "metadata": {},
   "source": [
    "Usually the likelihood function `p(x|theta)` is intractable, but in this toy example it is just given by the convolution of two Gaussians, which is again a Gaussian. We will use this to validate the results later:"
   ]
  },
  {
   "cell_type": "code",
   "execution_count": 107,
   "metadata": {},
   "outputs": [],
   "source": [
    "def calculate_likelihood_ratio(x, theta0, theta1=0.0):\n",
    "    combined_std = (z_std**2 + x_std**2) ** 0.5\n",
    "    r_x = (norm(loc=theta1, scale=combined_std).pdf(x)+(theta**2)*norm(loc=theta0, scale=combined_std).pdf(x) )/ ((1+theta0**2)*norm(loc=theta1, scale=combined_std).pdf(x))\n",
    "    return r_x"
   ]
  },
  {
   "cell_type": "markdown",
   "metadata": {},
   "source": [
    "Let's now visualize that: we run the simulation and plot the probability distributions $p(x | \\theta_i)$. Additionally, we also plot the true log-likelihood ratio $\\log\\,r(x|\\theta_0,\\theta_1)$. "
   ]
  },
  {
   "cell_type": "code",
   "execution_count": 108,
   "metadata": {},
   "outputs": [
    {
     "data": {
      "image/png": "[encoded data removed]",
      "text/plain": [
       "<Figure size 500x500 with 2 Axes>"
      ]
     },
     "metadata": {},
     "output_type": "display_data"
    }
   ],
   "source": [
    "x0, _, _ = simulate(0, npoints=10000)\n",
    "x1, _, _ = simulate(100, npoints=10000)\n",
    "\n",
    "xr = np.linspace(-20.0, 20.0, 100)\n",
    "rx = np.log(calculate_likelihood_ratio(xr, -2, 2))\n",
    "\n",
    "fig, ax1 = plt.subplots()\n",
    "fig.set_size_inches(5, 5)\n",
    "ax1.set_xlabel(\"$x$\")\n",
    "ax1.hist(x0, bins=50, range=(-20, 20.0), histtype=\"step\", label=r\"$p(x | \\theta_0)$\", density=True)\n",
    "ax1.hist(x1, bins=50, range=(-20, 20.0), histtype=\"step\", label=r\"$p(x | \\theta_1)$\", density=True)\n",
    "ax1.set_ylabel(r\"$p(x|\\theta)$\")\n",
    "ax1.legend(loc=2)\n",
    "\n",
    "ax2 = ax1.twinx()\n",
    "ax2.plot(xr, rx, color=\"black\", label=r\"$\\log\\,r(x|\\theta_0,\\theta_1)$\")\n",
    "ax2.set_ylabel(r\"$\\log\\,r(x|\\theta_0,\\theta_1)$\")\n",
    "ax2.legend(loc=1)\n",
    "\n",
    "plt.show()"
   ]
  },
  {
   "cell_type": "code",
   "execution_count": 110,
   "metadata": {},
   "outputs": [
    {
     "data": {
      "text/plain": [
       "(10000,)"
      ]
     },
     "execution_count": 110,
     "metadata": {},
     "output_type": "execute_result"
    }
   ],
   "source": [
    "x0.shape"
   ]
  },
  {
   "cell_type": "markdown",
   "metadata": {},
   "source": [
    "## 2. Run the simulation and generate training data"
   ]
  },
  {
   "cell_type": "markdown",
   "metadata": {},
   "source": [
    "First, we define the parameter points we want to use for training: `theta0` is uniformly distributed while the reference model `theta1` is fixed at zero. "
   ]
  },
  {
   "cell_type": "code",
   "execution_count": 104,
   "metadata": {},
   "outputs": [],
   "source": [
    "# number of parameter points to train\n",
    "n_param_points = 50000\n",
    "\n",
    "# numerator, uniform prior\n",
    "theta0 = np.random.uniform(low=-4.0, high=4.0, size=n_param_points)\n",
    "\n",
    "# denominator: fixed at 0\n",
    "theta1 = np.zeros(shape=n_param_points)"
   ]
  },
  {
   "cell_type": "markdown",
   "metadata": {},
   "source": [
    "We then run the simulator (one sample per parameter point). Remember that `simulate(theta, theta0, theta1, theta_score)` generates data `x` following a theory with `theta` and then evaluates the joint likelihood ratio `r(x,z|theta0,theta1)` and the join score `t(x,z|theta_score)` for each data point."
   ]
  },
  {
   "cell_type": "code",
   "execution_count": 111,
   "metadata": {},
   "outputs": [
    {
     "ename": "ValueError",
     "evalue": "'p' must be 1-dimensional",
     "output_type": "error",
     "traceback": [
      "\u001b[0;31m---------------------------------------------------------------------------\u001b[0m",
      "\u001b[0;31mValueError\u001b[0m                                Traceback (most recent call last)",
      "Cell \u001b[0;32mIn[111], line 2\u001b[0m\n\u001b[1;32m      1\u001b[0m \u001b[39m# Sample from theta0\u001b[39;00m\n\u001b[0;32m----> 2\u001b[0m x_from_theta0, r_xz_from_theta0, t_xz_from_theta0 \u001b[39m=\u001b[39m simulate(theta0, theta0, theta1, theta0)\n\u001b[1;32m      4\u001b[0m \u001b[39m# Sample from theta1\u001b[39;00m\n\u001b[1;32m      5\u001b[0m x_from_theta1, r_xz_from_theta1, t_xz_from_theta1 \u001b[39m=\u001b[39m simulate(theta1, theta0, theta1, theta0)\n",
      "Cell \u001b[0;32mIn[106], line 5\u001b[0m, in \u001b[0;36msimulate\u001b[0;34m(theta, theta0, theta1, theta_score, npoints)\u001b[0m\n\u001b[1;32m      3\u001b[0m z1 \u001b[39m=\u001b[39m np\u001b[39m.\u001b[39mrandom\u001b[39m.\u001b[39mnormal(loc\u001b[39m=\u001b[39m\u001b[39m0\u001b[39m, scale\u001b[39m=\u001b[39mz_std, size\u001b[39m=\u001b[39mnpoints)\n\u001b[1;32m      4\u001b[0m z2 \u001b[39m=\u001b[39m np\u001b[39m.\u001b[39mrandom\u001b[39m.\u001b[39mnormal(loc\u001b[39m=\u001b[39malpha, scale\u001b[39m=\u001b[39mz_std, size\u001b[39m=\u001b[39mnpoints)\n\u001b[0;32m----> 5\u001b[0m mask \u001b[39m=\u001b[39m np\u001b[39m.\u001b[39;49mrandom\u001b[39m.\u001b[39;49mchoice([\u001b[39mTrue\u001b[39;49;00m, \u001b[39mFalse\u001b[39;49;00m],p\u001b[39m=\u001b[39;49m[\u001b[39m1.\u001b[39;49m\u001b[39m/\u001b[39;49m(\u001b[39m1\u001b[39;49m\u001b[39m+\u001b[39;49mtheta\u001b[39m*\u001b[39;49m\u001b[39m*\u001b[39;49m\u001b[39m2\u001b[39;49m),theta\u001b[39m*\u001b[39;49m\u001b[39m*\u001b[39;49m\u001b[39m2\u001b[39;49m\u001b[39m/\u001b[39;49m(\u001b[39m1\u001b[39;49m\u001b[39m+\u001b[39;49mtheta\u001b[39m*\u001b[39;49m\u001b[39m*\u001b[39;49m\u001b[39m2\u001b[39;49m)],size\u001b[39m=\u001b[39;49mnpoints)\n\u001b[1;32m      6\u001b[0m z \u001b[39m=\u001b[39m np\u001b[39m.\u001b[39mconcatenate((z1[mask],z2[\u001b[39m~\u001b[39mmask]))\n\u001b[1;32m      7\u001b[0m \u001b[39m# Draw observables x\u001b[39;00m\n",
      "File \u001b[0;32mnumpy/random/mtrand.pyx:966\u001b[0m, in \u001b[0;36mnumpy.random.mtrand.RandomState.choice\u001b[0;34m()\u001b[0m\n",
      "\u001b[0;31mValueError\u001b[0m: 'p' must be 1-dimensional"
     ]
    }
   ],
   "source": [
    "# Sample from theta0\n",
    "for t in theta0:\n",
    "    out = simulate(theta0, theta0, theta1, theta0)\n",
    "    x_from_theta0, r_xz_from_theta0, t_xz_from_theta0 = simulate(t, t, theta1, t)\n",
    "\n",
    "# Sample from theta1\n",
    "x_from_theta1, r_xz_from_theta1, t_xz_from_theta1 = simulate(theta1, theta0, theta1, theta0)"
   ]
  },
  {
   "cell_type": "markdown",
   "metadata": {},
   "source": [
    "Now we combine and reshape the results (nothing interesting happening here) and save everything to files, so that we can load it later."
   ]
  },
  {
   "cell_type": "code",
   "execution_count": null,
   "metadata": {},
   "outputs": [],
   "source": [
    "# Combine results and reshape\n",
    "x_train = np.hstack((x_from_theta0, x_from_theta1)).reshape(-1, 1)\n",
    "r_xz_train = np.hstack((r_xz_from_theta0, r_xz_from_theta1)).reshape(-1, 1)\n",
    "t_xz_train = np.hstack((t_xz_from_theta0, t_xz_from_theta1)).reshape(-1, 1)\n",
    "y_train = np.hstack((np.zeros_like(x_from_theta0), np.ones_like(np.ones_like(x_from_theta1)))).reshape(-1, 1)\n",
    "theta0_train = np.hstack((theta0, theta0)).reshape(-1, 1)\n",
    "\n",
    "# Save to file\n",
    "np.save(\"data/theta0_train.npy\", theta0_train)\n",
    "np.save(\"data/x_train.npy\", x_train)\n",
    "np.save(\"data/y_train.npy\", y_train)\n",
    "np.save(\"data/r_xz_train.npy\", r_xz_train)\n",
    "np.save(\"data/t_xz_train.npy\", t_xz_train)"
   ]
  },
  {
   "cell_type": "code",
   "execution_count": 32,
   "metadata": {},
   "outputs": [
    {
     "data": {
      "text/plain": [
       "(100000, 1)"
      ]
     },
     "execution_count": 32,
     "metadata": {},
     "output_type": "execute_result"
    }
   ],
   "source": [
    "theta0_train.shape"
   ]
  },
  {
   "cell_type": "markdown",
   "metadata": {},
   "source": [
    "## 3. Model training"
   ]
  },
  {
   "cell_type": "markdown",
   "metadata": {},
   "source": [
    "Let's train two neural networks to estimate the likelihood ratio. For one we use the CARL method introduced in [\"Approximating Likelihood Ratios with Calibrated Discriminative Classifiers\"](https://arxiv.org/abs/1506.02169), for the other the new ALICES method introduced in [\"Likelihood-free inference with an improved cross-entropy estimator\"](https://arxiv.org/abs/1808.00973)."
   ]
  },
  {
   "cell_type": "code",
   "execution_count": 33,
   "metadata": {},
   "outputs": [
    {
     "name": "stderr",
     "output_type": "stream",
     "text": [
      "14:01 madminer.ml.paramete INFO    Starting training\n",
      "14:01 madminer.ml.paramete INFO      Method:                 carl\n",
      "14:01 madminer.ml.paramete INFO      Batch size:             128\n",
      "14:01 madminer.ml.paramete INFO      Optimizer:              amsgrad\n",
      "14:01 madminer.ml.paramete INFO      Epochs:                 20\n",
      "14:01 madminer.ml.paramete INFO      Learning rate:          0.001 initially, decaying to 0.0001\n",
      "14:01 madminer.ml.paramete INFO      Validation split:       0.25\n",
      "14:01 madminer.ml.paramete INFO      Early stopping:         True\n",
      "14:01 madminer.ml.paramete INFO      Scale inputs:           True\n",
      "14:01 madminer.ml.paramete INFO      Scale parameters:       True\n",
      "14:01 madminer.ml.paramete INFO      Shuffle labels          False\n",
      "14:01 madminer.ml.paramete INFO      Samples:                all\n",
      "14:01 madminer.ml.paramete INFO    Loading training data\n",
      "14:01 madminer.utils.vario INFO      Loading data/theta0_train.npy into RAM\n",
      "14:01 madminer.utils.vario INFO      Loading data/x_train.npy into RAM\n",
      "14:01 madminer.utils.vario INFO      Loading data/y_train.npy into RAM\n",
      "14:01 madminer.ml.paramete INFO    Found 100000 samples with 1 parameters and 1 observables\n",
      "14:01 madminer.ml.base     INFO    Setting up input rescaling\n",
      "14:01 madminer.ml.paramete INFO    Rescaling parameters\n",
      "14:01 madminer.ml.base     INFO    Setting up parameter rescaling\n",
      "14:01 madminer.ml.paramete INFO    Creating model\n",
      "14:01 madminer.ml.paramete INFO    Training model\n",
      "14:01 madminer.utils.ml.tr INFO    Training on CPU with single precision\n",
      "14:01 madminer.utils.ml.tr INFO      Epoch   1: train loss  0.36097 (xe:  0.361)\n",
      "14:01 madminer.utils.ml.tr INFO                 val. loss   0.20185 (xe:  0.202)\n",
      "14:01 madminer.utils.ml.tr INFO      Epoch   2: train loss  0.19090 (xe:  0.191)\n",
      "14:01 madminer.utils.ml.tr INFO                 val. loss   0.18073 (xe:  0.181)\n",
      "14:01 madminer.utils.ml.tr INFO      Epoch   3: train loss  0.18120 (xe:  0.181)\n",
      "14:01 madminer.utils.ml.tr INFO                 val. loss   0.17624 (xe:  0.176)\n",
      "14:02 madminer.utils.ml.tr INFO      Epoch   4: train loss  0.17900 (xe:  0.179)\n",
      "14:02 madminer.utils.ml.tr INFO                 val. loss   0.17507 (xe:  0.175)\n",
      "14:02 madminer.utils.ml.tr INFO      Epoch   5: train loss  0.17802 (xe:  0.178)\n",
      "14:02 madminer.utils.ml.tr INFO                 val. loss   0.17430 (xe:  0.174)\n",
      "14:02 madminer.utils.ml.tr INFO      Epoch   6: train loss  0.17777 (xe:  0.178)\n",
      "14:02 madminer.utils.ml.tr INFO                 val. loss   0.17476 (xe:  0.175)\n",
      "14:02 madminer.utils.ml.tr INFO      Epoch   7: train loss  0.17732 (xe:  0.177)\n",
      "14:02 madminer.utils.ml.tr INFO                 val. loss   0.17630 (xe:  0.176)\n",
      "14:02 madminer.utils.ml.tr INFO      Epoch   8: train loss  0.17738 (xe:  0.177)\n",
      "14:02 madminer.utils.ml.tr INFO                 val. loss   0.17431 (xe:  0.174)\n",
      "14:02 madminer.utils.ml.tr INFO      Epoch   9: train loss  0.17726 (xe:  0.177)\n",
      "14:02 madminer.utils.ml.tr INFO                 val. loss   0.17377 (xe:  0.174)\n",
      "14:02 madminer.utils.ml.tr INFO      Epoch  10: train loss  0.17727 (xe:  0.177)\n",
      "14:02 madminer.utils.ml.tr INFO                 val. loss   0.17414 (xe:  0.174)\n",
      "14:02 madminer.utils.ml.tr INFO      Epoch  11: train loss  0.17707 (xe:  0.177)\n",
      "14:02 madminer.utils.ml.tr INFO                 val. loss   0.17456 (xe:  0.175)\n",
      "14:02 madminer.utils.ml.tr INFO      Epoch  12: train loss  0.17695 (xe:  0.177)\n",
      "14:02 madminer.utils.ml.tr INFO                 val. loss   0.17488 (xe:  0.175)\n",
      "14:02 madminer.utils.ml.tr INFO      Epoch  13: train loss  0.17692 (xe:  0.177)\n",
      "14:02 madminer.utils.ml.tr INFO                 val. loss   0.17396 (xe:  0.174)\n",
      "14:02 madminer.utils.ml.tr INFO      Epoch  14: train loss  0.17685 (xe:  0.177)\n",
      "14:02 madminer.utils.ml.tr INFO                 val. loss   0.17395 (xe:  0.174)\n",
      "14:02 madminer.utils.ml.tr INFO      Epoch  15: train loss  0.17673 (xe:  0.177)\n",
      "14:02 madminer.utils.ml.tr INFO                 val. loss   0.17404 (xe:  0.174)\n",
      "14:02 madminer.utils.ml.tr INFO      Epoch  16: train loss  0.17675 (xe:  0.177)\n",
      "14:02 madminer.utils.ml.tr INFO                 val. loss   0.17417 (xe:  0.174)\n",
      "14:02 madminer.utils.ml.tr INFO      Epoch  17: train loss  0.17679 (xe:  0.177)\n",
      "14:02 madminer.utils.ml.tr INFO                 val. loss   0.17378 (xe:  0.174)\n",
      "14:02 madminer.utils.ml.tr INFO      Epoch  18: train loss  0.17671 (xe:  0.177)\n",
      "14:02 madminer.utils.ml.tr INFO                 val. loss   0.17405 (xe:  0.174)\n",
      "14:02 madminer.utils.ml.tr INFO      Epoch  19: train loss  0.17666 (xe:  0.177)\n",
      "14:02 madminer.utils.ml.tr INFO                 val. loss   0.17415 (xe:  0.174)\n",
      "14:02 madminer.utils.ml.tr INFO      Epoch  20: train loss  0.17670 (xe:  0.177)\n",
      "14:02 madminer.utils.ml.tr INFO                 val. loss   0.17396 (xe:  0.174)\n",
      "14:02 madminer.utils.ml.tr INFO    Early stopping after epoch 9, with loss  0.17377 compared to final loss  0.17396\n",
      "14:02 madminer.utils.ml.tr INFO    Training time spend on:\n",
      "14:02 madminer.utils.ml.tr INFO                      initialize model:   0.00h\n",
      "14:02 madminer.utils.ml.tr INFO                                   ALL:   0.02h\n",
      "14:02 madminer.utils.ml.tr INFO                            check data:   0.00h\n",
      "14:02 madminer.utils.ml.tr INFO                          make dataset:   0.00h\n",
      "14:02 madminer.utils.ml.tr INFO                       make dataloader:   0.00h\n",
      "14:02 madminer.utils.ml.tr INFO                       setup optimizer:   0.00h\n",
      "14:02 madminer.utils.ml.tr INFO                   initialize training:   0.00h\n",
      "14:02 madminer.utils.ml.tr INFO                                set lr:   0.00h\n",
      "14:02 madminer.utils.ml.tr INFO                   load training batch:   0.01h\n",
      "14:02 madminer.utils.ml.tr INFO                        fwd: move data:   0.00h\n",
      "14:02 madminer.utils.ml.tr INFO                   fwd: check for nans:   0.00h\n",
      "14:02 madminer.utils.ml.tr INFO                    fwd: model.forward:   0.00h\n",
      "14:02 madminer.utils.ml.tr INFO                 fwd: calculate losses:   0.00h\n",
      "14:02 madminer.utils.ml.tr INFO                 training forward pass:   0.00h\n",
      "14:02 madminer.utils.ml.tr INFO                   training sum losses:   0.00h\n",
      "14:02 madminer.utils.ml.tr INFO                        opt: zero grad:   0.00h\n",
      "14:02 madminer.utils.ml.tr INFO                         opt: backward:   0.00h\n",
      "14:02 madminer.utils.ml.tr INFO                   opt: clip grad norm:   0.00h\n",
      "14:02 madminer.utils.ml.tr INFO                             opt: step:   0.00h\n",
      "14:02 madminer.utils.ml.tr INFO                        optimizer step:   0.00h\n",
      "14:02 madminer.utils.ml.tr INFO                 load validation batch:   0.00h\n",
      "14:02 madminer.utils.ml.tr INFO               validation forward pass:   0.00h\n",
      "14:02 madminer.utils.ml.tr INFO                 validation sum losses:   0.00h\n",
      "14:02 madminer.utils.ml.tr INFO                        early stopping:   0.00h\n",
      "14:02 madminer.utils.ml.tr INFO                          report epoch:   0.00h\n",
      "14:02 madminer.ml.base     INFO    Saving model to models/carl\n"
     ]
    }
   ],
   "source": [
    "carl = ParameterizedRatioEstimator(n_hidden=(20, 20))\n",
    "\n",
    "carl.train(\n",
    "    method=\"carl\",\n",
    "    x=\"data/x_train.npy\",\n",
    "    y=\"data/y_train.npy\",\n",
    "    theta=\"data/theta0_train.npy\",\n",
    "    n_epochs=20,\n",
    ")\n",
    "\n",
    "carl.save(\"models/carl\")"
   ]
  },
  {
   "cell_type": "code",
   "execution_count": 51,
   "metadata": {},
   "outputs": [
    {
     "name": "stderr",
     "output_type": "stream",
     "text": [
      "14:10 madminer.ml.paramete INFO    Starting training\n",
      "14:10 madminer.ml.paramete INFO      Method:                 alice\n",
      "14:10 madminer.ml.paramete INFO      Batch size:             128\n",
      "14:10 madminer.ml.paramete INFO      Optimizer:              amsgrad\n",
      "14:10 madminer.ml.paramete INFO      Epochs:                 20\n",
      "14:10 madminer.ml.paramete INFO      Learning rate:          0.001 initially, decaying to 0.0001\n",
      "14:10 madminer.ml.paramete INFO      Validation split:       0.25\n",
      "14:10 madminer.ml.paramete INFO      Early stopping:         True\n",
      "14:10 madminer.ml.paramete INFO      Scale inputs:           True\n",
      "14:10 madminer.ml.paramete INFO      Scale parameters:       True\n",
      "14:10 madminer.ml.paramete INFO      Shuffle labels          False\n",
      "14:10 madminer.ml.paramete INFO      Samples:                all\n",
      "14:10 madminer.ml.paramete INFO    Loading training data\n",
      "14:10 madminer.utils.vario INFO      Loading data/theta0_train.npy into RAM\n",
      "14:10 madminer.utils.vario INFO      Loading data/x_train.npy into RAM\n",
      "14:10 madminer.utils.vario INFO      Loading data/y_train.npy into RAM\n",
      "14:10 madminer.utils.vario INFO      Loading data/r_xz_train.npy into RAM\n",
      "14:10 madminer.utils.vario WARNING Warning: file data/r_xz_train.npy has some large numbers, ranging from 0.0001283095741368145 to 15965966575.002907\n",
      "14:10 madminer.utils.vario INFO      Loading data/t_xz_train.npy into RAM\n",
      "14:10 madminer.ml.paramete INFO    Found 100000 samples with 1 parameters and 1 observables\n",
      "14:10 madminer.ml.base     INFO    Setting up input rescaling\n",
      "14:10 madminer.ml.paramete INFO    Rescaling parameters\n",
      "14:10 madminer.ml.base     INFO    Setting up parameter rescaling\n",
      "14:10 madminer.ml.paramete INFO    Creating model\n",
      "14:10 madminer.ml.paramete INFO    Training model\n",
      "14:10 madminer.utils.ml.tr INFO    Training on CPU with single precision\n",
      "14:10 madminer.utils.ml.tr INFO      Epoch   1: train loss  0.51877 (improved_xe:  0.519)\n",
      "14:10 madminer.utils.ml.tr INFO                 val. loss   0.42033 (improved_xe:  0.420)\n",
      "14:10 madminer.utils.ml.tr INFO      Epoch   2: train loss  0.41927 (improved_xe:  0.419)\n",
      "14:10 madminer.utils.ml.tr INFO                 val. loss   0.41679 (improved_xe:  0.417)\n",
      "14:10 madminer.utils.ml.tr INFO      Epoch   3: train loss  0.41785 (improved_xe:  0.418)\n",
      "14:10 madminer.utils.ml.tr INFO                 val. loss   0.41655 (improved_xe:  0.417)\n",
      "14:10 madminer.utils.ml.tr INFO      Epoch   4: train loss  0.41743 (improved_xe:  0.417)\n",
      "14:10 madminer.utils.ml.tr INFO                 val. loss   0.41631 (improved_xe:  0.416)\n",
      "14:10 madminer.utils.ml.tr INFO      Epoch   5: train loss  0.41721 (improved_xe:  0.417)\n",
      "14:10 madminer.utils.ml.tr INFO                 val. loss   0.41612 (improved_xe:  0.416)\n",
      "14:11 madminer.utils.ml.tr INFO      Epoch   6: train loss  0.41705 (improved_xe:  0.417)\n",
      "14:11 madminer.utils.ml.tr INFO                 val. loss   0.41609 (improved_xe:  0.416)\n",
      "14:11 madminer.utils.ml.tr INFO      Epoch   7: train loss  0.41698 (improved_xe:  0.417)\n",
      "14:11 madminer.utils.ml.tr INFO                 val. loss   0.41547 (improved_xe:  0.415)\n",
      "14:11 madminer.utils.ml.tr INFO      Epoch   8: train loss  0.41694 (improved_xe:  0.417)\n",
      "14:11 madminer.utils.ml.tr INFO                 val. loss   0.41572 (improved_xe:  0.416)\n",
      "14:11 madminer.utils.ml.tr INFO      Epoch   9: train loss  0.41690 (improved_xe:  0.417)\n",
      "14:11 madminer.utils.ml.tr INFO                 val. loss   0.41580 (improved_xe:  0.416)\n",
      "14:11 madminer.utils.ml.tr INFO      Epoch  10: train loss  0.41686 (improved_xe:  0.417)\n",
      "14:11 madminer.utils.ml.tr INFO                 val. loss   0.41581 (improved_xe:  0.416)\n",
      "14:11 madminer.utils.ml.tr INFO      Epoch  11: train loss  0.41682 (improved_xe:  0.417)\n",
      "14:11 madminer.utils.ml.tr INFO                 val. loss   0.41592 (improved_xe:  0.416)\n",
      "14:11 madminer.utils.ml.tr INFO      Epoch  12: train loss  0.41678 (improved_xe:  0.417)\n",
      "14:11 madminer.utils.ml.tr INFO                 val. loss   0.41576 (improved_xe:  0.416)\n",
      "14:11 madminer.utils.ml.tr INFO      Epoch  13: train loss  0.41677 (improved_xe:  0.417)\n",
      "14:11 madminer.utils.ml.tr INFO                 val. loss   0.41565 (improved_xe:  0.416)\n",
      "14:11 madminer.utils.ml.tr INFO      Epoch  14: train loss  0.41674 (improved_xe:  0.417)\n",
      "14:11 madminer.utils.ml.tr INFO                 val. loss   0.41562 (improved_xe:  0.416)\n",
      "14:11 madminer.utils.ml.tr INFO      Epoch  15: train loss  0.41672 (improved_xe:  0.417)\n",
      "14:11 madminer.utils.ml.tr INFO                 val. loss   0.41556 (improved_xe:  0.416)\n",
      "14:11 madminer.utils.ml.tr INFO      Epoch  16: train loss  0.41673 (improved_xe:  0.417)\n",
      "14:11 madminer.utils.ml.tr INFO                 val. loss   0.41559 (improved_xe:  0.416)\n",
      "14:11 madminer.utils.ml.tr INFO      Epoch  17: train loss  0.41671 (improved_xe:  0.417)\n",
      "14:11 madminer.utils.ml.tr INFO                 val. loss   0.41557 (improved_xe:  0.416)\n",
      "14:11 madminer.utils.ml.tr INFO      Epoch  18: train loss  0.41668 (improved_xe:  0.417)\n",
      "14:11 madminer.utils.ml.tr INFO                 val. loss   0.41555 (improved_xe:  0.416)\n",
      "14:11 madminer.utils.ml.tr INFO      Epoch  19: train loss  0.41668 (improved_xe:  0.417)\n",
      "14:11 madminer.utils.ml.tr INFO                 val. loss   0.41526 (improved_xe:  0.415)\n",
      "14:11 madminer.utils.ml.tr INFO      Epoch  20: train loss  0.41669 (improved_xe:  0.417)\n",
      "14:11 madminer.utils.ml.tr INFO                 val. loss   0.41524 (improved_xe:  0.415)\n",
      "14:11 madminer.utils.ml.tr INFO    Early stopping did not improve performance\n",
      "14:11 madminer.utils.ml.tr INFO    Training time spend on:\n",
      "14:11 madminer.utils.ml.tr INFO                      initialize model:   0.00h\n",
      "14:11 madminer.utils.ml.tr INFO                                   ALL:   0.02h\n",
      "14:11 madminer.utils.ml.tr INFO                            check data:   0.00h\n",
      "14:11 madminer.utils.ml.tr INFO                          make dataset:   0.00h\n",
      "14:11 madminer.utils.ml.tr INFO                       make dataloader:   0.00h\n",
      "14:11 madminer.utils.ml.tr INFO                       setup optimizer:   0.00h\n",
      "14:11 madminer.utils.ml.tr INFO                   initialize training:   0.00h\n",
      "14:11 madminer.utils.ml.tr INFO                                set lr:   0.00h\n",
      "14:11 madminer.utils.ml.tr INFO                   load training batch:   0.01h\n",
      "14:11 madminer.utils.ml.tr INFO                        fwd: move data:   0.00h\n",
      "14:11 madminer.utils.ml.tr INFO                   fwd: check for nans:   0.00h\n",
      "14:11 madminer.utils.ml.tr INFO                    fwd: model.forward:   0.00h\n",
      "14:11 madminer.utils.ml.tr INFO                 fwd: calculate losses:   0.00h\n",
      "14:11 madminer.utils.ml.tr INFO                 training forward pass:   0.00h\n",
      "14:11 madminer.utils.ml.tr INFO                   training sum losses:   0.00h\n",
      "14:11 madminer.utils.ml.tr INFO                        opt: zero grad:   0.00h\n",
      "14:11 madminer.utils.ml.tr INFO                         opt: backward:   0.00h\n",
      "14:11 madminer.utils.ml.tr INFO                   opt: clip grad norm:   0.00h\n",
      "14:11 madminer.utils.ml.tr INFO                             opt: step:   0.00h\n",
      "14:11 madminer.utils.ml.tr INFO                        optimizer step:   0.00h\n",
      "14:11 madminer.utils.ml.tr INFO                 load validation batch:   0.00h\n",
      "14:11 madminer.utils.ml.tr INFO               validation forward pass:   0.00h\n",
      "14:11 madminer.utils.ml.tr INFO                 validation sum losses:   0.00h\n",
      "14:11 madminer.utils.ml.tr INFO                        early stopping:   0.00h\n",
      "14:11 madminer.utils.ml.tr INFO                          report epoch:   0.00h\n",
      "14:11 madminer.ml.base     INFO    Saving model to models/alices\n"
     ]
    }
   ],
   "source": [
    "alices = ParameterizedRatioEstimator(n_hidden=(20, 20))\n",
    "\n",
    "alices.train(\n",
    "    method=\"alice\",\n",
    "    x=\"data/x_train.npy\",\n",
    "    y=\"data/y_train.npy\",\n",
    "    theta=\"data/theta0_train.npy\",\n",
    "    r_xz=\"data/r_xz_train.npy\",\n",
    "    t_xz=\"data/t_xz_train.npy\",\n",
    "    alpha=0.1,\n",
    "    n_epochs=20,\n",
    ")\n",
    "\n",
    "alices.save(\"models/alices\")"
   ]
  },
  {
   "cell_type": "markdown",
   "metadata": {},
   "source": [
    "We can also try a little bit of mixing and matching -- let's train a model with CARL first and then with ALICES:"
   ]
  },
  {
   "cell_type": "code",
   "execution_count": 35,
   "metadata": {},
   "outputs": [
    {
     "name": "stderr",
     "output_type": "stream",
     "text": [
      "14:04 madminer.ml.paramete INFO    Starting training\n",
      "14:04 madminer.ml.paramete INFO      Method:                 carl\n",
      "14:04 madminer.ml.paramete INFO      Batch size:             128\n",
      "14:04 madminer.ml.paramete INFO      Optimizer:              amsgrad\n",
      "14:04 madminer.ml.paramete INFO      Epochs:                 10\n",
      "14:04 madminer.ml.paramete INFO      Learning rate:          0.001 initially, decaying to 0.0003\n",
      "14:04 madminer.ml.paramete INFO      Validation split:       0.25\n",
      "14:04 madminer.ml.paramete INFO      Early stopping:         True\n",
      "14:04 madminer.ml.paramete INFO      Scale inputs:           True\n",
      "14:04 madminer.ml.paramete INFO      Scale parameters:       True\n",
      "14:04 madminer.ml.paramete INFO      Shuffle labels          False\n",
      "14:04 madminer.ml.paramete INFO      Samples:                all\n",
      "14:04 madminer.ml.paramete INFO    Loading training data\n",
      "14:04 madminer.utils.vario INFO      Loading data/theta0_train.npy into RAM\n",
      "14:04 madminer.utils.vario INFO      Loading data/x_train.npy into RAM\n",
      "14:04 madminer.utils.vario INFO      Loading data/y_train.npy into RAM\n",
      "14:04 madminer.ml.paramete INFO    Found 100000 samples with 1 parameters and 1 observables\n",
      "14:04 madminer.ml.base     INFO    Setting up input rescaling\n",
      "14:04 madminer.ml.paramete INFO    Rescaling parameters\n",
      "14:04 madminer.ml.base     INFO    Setting up parameter rescaling\n",
      "14:04 madminer.ml.paramete INFO    Creating model\n",
      "14:04 madminer.ml.paramete INFO    Training model\n",
      "14:04 madminer.utils.ml.tr INFO    Training on CPU with single precision\n",
      "14:04 madminer.utils.ml.tr INFO      Epoch   1: train loss  0.38293 (xe:  0.383)\n",
      "14:04 madminer.utils.ml.tr INFO                 val. loss   0.20291 (xe:  0.203)\n",
      "14:04 madminer.utils.ml.tr INFO      Epoch   2: train loss  0.19094 (xe:  0.191)\n",
      "14:04 madminer.utils.ml.tr INFO                 val. loss   0.18132 (xe:  0.181)\n",
      "14:04 madminer.utils.ml.tr INFO      Epoch   3: train loss  0.18154 (xe:  0.182)\n",
      "14:04 madminer.utils.ml.tr INFO                 val. loss   0.17662 (xe:  0.177)\n",
      "14:04 madminer.utils.ml.tr INFO      Epoch   4: train loss  0.17904 (xe:  0.179)\n",
      "14:04 madminer.utils.ml.tr INFO                 val. loss   0.17514 (xe:  0.175)\n",
      "14:04 madminer.utils.ml.tr INFO      Epoch   5: train loss  0.17811 (xe:  0.178)\n",
      "14:04 madminer.utils.ml.tr INFO                 val. loss   0.17475 (xe:  0.175)\n",
      "14:04 madminer.utils.ml.tr INFO      Epoch   6: train loss  0.17766 (xe:  0.178)\n",
      "14:04 madminer.utils.ml.tr INFO                 val. loss   0.17381 (xe:  0.174)\n",
      "14:04 madminer.utils.ml.tr INFO      Epoch   7: train loss  0.17738 (xe:  0.177)\n",
      "14:04 madminer.utils.ml.tr INFO                 val. loss   0.17432 (xe:  0.174)\n",
      "14:04 madminer.utils.ml.tr INFO      Epoch   8: train loss  0.17735 (xe:  0.177)\n",
      "14:04 madminer.utils.ml.tr INFO                 val. loss   0.17421 (xe:  0.174)\n",
      "14:04 madminer.utils.ml.tr INFO      Epoch   9: train loss  0.17723 (xe:  0.177)\n",
      "14:04 madminer.utils.ml.tr INFO                 val. loss   0.17364 (xe:  0.174)\n",
      "14:04 madminer.utils.ml.tr INFO      Epoch  10: train loss  0.17717 (xe:  0.177)\n",
      "14:04 madminer.utils.ml.tr INFO                 val. loss   0.17361 (xe:  0.174)\n",
      "14:04 madminer.utils.ml.tr INFO    Early stopping did not improve performance\n",
      "14:04 madminer.utils.ml.tr INFO    Training time spend on:\n",
      "14:04 madminer.utils.ml.tr INFO                      initialize model:   0.00h\n",
      "14:04 madminer.utils.ml.tr INFO                                   ALL:   0.01h\n",
      "14:04 madminer.utils.ml.tr INFO                            check data:   0.00h\n",
      "14:04 madminer.utils.ml.tr INFO                          make dataset:   0.00h\n",
      "14:04 madminer.utils.ml.tr INFO                       make dataloader:   0.00h\n",
      "14:04 madminer.utils.ml.tr INFO                       setup optimizer:   0.00h\n",
      "14:04 madminer.utils.ml.tr INFO                   initialize training:   0.00h\n",
      "14:04 madminer.utils.ml.tr INFO                                set lr:   0.00h\n",
      "14:04 madminer.utils.ml.tr INFO                   load training batch:   0.00h\n",
      "14:04 madminer.utils.ml.tr INFO                        fwd: move data:   0.00h\n",
      "14:04 madminer.utils.ml.tr INFO                   fwd: check for nans:   0.00h\n",
      "14:04 madminer.utils.ml.tr INFO                    fwd: model.forward:   0.00h\n",
      "14:04 madminer.utils.ml.tr INFO                 fwd: calculate losses:   0.00h\n",
      "14:04 madminer.utils.ml.tr INFO                 training forward pass:   0.00h\n",
      "14:04 madminer.utils.ml.tr INFO                   training sum losses:   0.00h\n",
      "14:04 madminer.utils.ml.tr INFO                        opt: zero grad:   0.00h\n",
      "14:04 madminer.utils.ml.tr INFO                         opt: backward:   0.00h\n",
      "14:04 madminer.utils.ml.tr INFO                   opt: clip grad norm:   0.00h\n",
      "14:04 madminer.utils.ml.tr INFO                             opt: step:   0.00h\n",
      "14:04 madminer.utils.ml.tr INFO                        optimizer step:   0.00h\n",
      "14:04 madminer.utils.ml.tr INFO                 load validation batch:   0.00h\n",
      "14:04 madminer.utils.ml.tr INFO               validation forward pass:   0.00h\n",
      "14:04 madminer.utils.ml.tr INFO                 validation sum losses:   0.00h\n",
      "14:04 madminer.utils.ml.tr INFO                        early stopping:   0.00h\n",
      "14:04 madminer.utils.ml.tr INFO                          report epoch:   0.00h\n",
      "14:04 madminer.ml.paramete INFO    Starting training\n",
      "14:04 madminer.ml.paramete INFO      Method:                 alices\n",
      "14:04 madminer.ml.paramete INFO      alpha:                  0.1\n",
      "14:04 madminer.ml.paramete INFO      Batch size:             128\n",
      "14:04 madminer.ml.paramete INFO      Optimizer:              amsgrad\n",
      "14:04 madminer.ml.paramete INFO      Epochs:                 10\n",
      "14:04 madminer.ml.paramete INFO      Learning rate:          0.0003 initially, decaying to 0.0001\n",
      "14:04 madminer.ml.paramete INFO      Validation split:       0.25\n",
      "14:04 madminer.ml.paramete INFO      Early stopping:         True\n",
      "14:04 madminer.ml.paramete INFO      Scale inputs:           True\n",
      "14:04 madminer.ml.paramete INFO      Scale parameters:       True\n",
      "14:04 madminer.ml.paramete INFO      Shuffle labels          False\n",
      "14:04 madminer.ml.paramete INFO      Samples:                all\n",
      "14:04 madminer.ml.paramete INFO    Loading training data\n",
      "14:04 madminer.utils.vario INFO      Loading data/theta0_train.npy into RAM\n",
      "14:04 madminer.utils.vario INFO      Loading data/x_train.npy into RAM\n",
      "14:04 madminer.utils.vario INFO      Loading data/y_train.npy into RAM\n",
      "14:04 madminer.utils.vario INFO      Loading data/r_xz_train.npy into RAM\n",
      "14:04 madminer.utils.vario WARNING Warning: file data/r_xz_train.npy has some large numbers, ranging from 0.0001283095741368145 to 15965966575.002907\n",
      "14:04 madminer.utils.vario INFO      Loading data/t_xz_train.npy into RAM\n",
      "14:04 madminer.ml.paramete INFO    Found 100000 samples with 1 parameters and 1 observables\n",
      "14:04 madminer.ml.base     INFO    Input rescaling already defined. To overwrite, call initialize_input_transform(x, overwrite=True).\n",
      "14:04 madminer.ml.paramete INFO    Rescaling parameters\n",
      "14:04 madminer.ml.base     INFO    Setting up parameter rescaling\n",
      "14:04 madminer.ml.paramete INFO    Training model\n",
      "14:04 madminer.utils.ml.tr INFO    Training on CPU with single precision\n",
      "14:05 madminer.utils.ml.tr INFO      Epoch   1: train loss  1.93492 (improved_xe:  0.770, mse_score: 11.648)\n",
      "14:05 madminer.utils.ml.tr INFO                 val. loss   0.99116 (improved_xe:  0.585, mse_score:  4.064)\n",
      "14:05 madminer.utils.ml.tr INFO      Epoch   2: train loss  0.70233 (improved_xe:  0.504, mse_score:  1.988)\n",
      "14:05 madminer.utils.ml.tr INFO                 val. loss   0.53237 (improved_xe:  0.440, mse_score:  0.921)\n",
      "14:05 madminer.utils.ml.tr INFO      Epoch   3: train loss  0.49009 (improved_xe:  0.430, mse_score:  0.601)\n",
      "14:05 madminer.utils.ml.tr INFO                 val. loss   0.46740 (improved_xe:  0.424, mse_score:  0.431)\n",
      "14:05 madminer.utils.ml.tr INFO      Epoch   4: train loss  0.46109 (improved_xe:  0.425, mse_score:  0.361)\n",
      "14:05 madminer.utils.ml.tr INFO                 val. loss   0.45444 (improved_xe:  0.423, mse_score:  0.314)\n",
      "14:05 madminer.utils.ml.tr INFO      Epoch   5: train loss  0.45228 (improved_xe:  0.424, mse_score:  0.280)\n",
      "14:05 madminer.utils.ml.tr INFO                 val. loss   0.44842 (improved_xe:  0.423, mse_score:  0.256)\n",
      "14:05 madminer.utils.ml.tr INFO      Epoch   6: train loss  0.44718 (improved_xe:  0.424, mse_score:  0.233)\n",
      "14:05 madminer.utils.ml.tr INFO                 val. loss   0.44404 (improved_xe:  0.422, mse_score:  0.219)\n",
      "14:05 madminer.utils.ml.tr INFO      Epoch   7: train loss  0.44376 (improved_xe:  0.423, mse_score:  0.204)\n",
      "14:05 madminer.utils.ml.tr INFO                 val. loss   0.44121 (improved_xe:  0.422, mse_score:  0.193)\n",
      "14:05 madminer.utils.ml.tr INFO      Epoch   8: train loss  0.44129 (improved_xe:  0.423, mse_score:  0.182)\n",
      "14:05 madminer.utils.ml.tr INFO                 val. loss   0.43929 (improved_xe:  0.422, mse_score:  0.174)\n",
      "14:05 madminer.utils.ml.tr INFO      Epoch   9: train loss  0.43943 (improved_xe:  0.423, mse_score:  0.166)\n",
      "14:05 madminer.utils.ml.tr INFO                 val. loss   0.43712 (improved_xe:  0.421, mse_score:  0.161)\n",
      "14:05 madminer.utils.ml.tr INFO      Epoch  10: train loss  0.43797 (improved_xe:  0.423, mse_score:  0.154)\n",
      "14:05 madminer.utils.ml.tr INFO                 val. loss   0.43587 (improved_xe:  0.421, mse_score:  0.149)\n",
      "14:05 madminer.utils.ml.tr INFO    Early stopping did not improve performance\n",
      "14:05 madminer.utils.ml.tr INFO    Training time spend on:\n",
      "14:05 madminer.utils.ml.tr INFO                      initialize model:   0.00h\n",
      "14:05 madminer.utils.ml.tr INFO                                   ALL:   0.01h\n",
      "14:05 madminer.utils.ml.tr INFO                            check data:   0.00h\n",
      "14:05 madminer.utils.ml.tr INFO                          make dataset:   0.00h\n",
      "14:05 madminer.utils.ml.tr INFO                       make dataloader:   0.00h\n",
      "14:05 madminer.utils.ml.tr INFO                       setup optimizer:   0.00h\n",
      "14:05 madminer.utils.ml.tr INFO                   initialize training:   0.00h\n",
      "14:05 madminer.utils.ml.tr INFO                                set lr:   0.00h\n",
      "14:05 madminer.utils.ml.tr INFO                   load training batch:   0.00h\n",
      "14:05 madminer.utils.ml.tr INFO                        fwd: move data:   0.00h\n",
      "14:05 madminer.utils.ml.tr INFO                   fwd: check for nans:   0.00h\n",
      "14:05 madminer.utils.ml.tr INFO                    fwd: model.forward:   0.00h\n",
      "14:05 madminer.utils.ml.tr INFO                 fwd: calculate losses:   0.00h\n",
      "14:05 madminer.utils.ml.tr INFO                 training forward pass:   0.00h\n",
      "14:05 madminer.utils.ml.tr INFO                   training sum losses:   0.00h\n",
      "14:05 madminer.utils.ml.tr INFO                        opt: zero grad:   0.00h\n",
      "14:05 madminer.utils.ml.tr INFO                         opt: backward:   0.00h\n",
      "14:05 madminer.utils.ml.tr INFO                   opt: clip grad norm:   0.00h\n",
      "14:05 madminer.utils.ml.tr INFO                             opt: step:   0.00h\n",
      "14:05 madminer.utils.ml.tr INFO                        optimizer step:   0.00h\n",
      "14:05 madminer.utils.ml.tr INFO                 load validation batch:   0.00h\n",
      "14:05 madminer.utils.ml.tr INFO               validation forward pass:   0.00h\n",
      "14:05 madminer.utils.ml.tr INFO                 validation sum losses:   0.00h\n",
      "14:05 madminer.utils.ml.tr INFO                        early stopping:   0.00h\n",
      "14:05 madminer.utils.ml.tr INFO                          report epoch:   0.00h\n",
      "14:05 madminer.ml.base     INFO    Saving model to models/mix\n"
     ]
    }
   ],
   "source": [
    "mix = ParameterizedRatioEstimator(n_hidden=(20, 20))\n",
    "\n",
    "mix.train(\n",
    "    method=\"carl\",\n",
    "    x=\"data/x_train.npy\",\n",
    "    y=\"data/y_train.npy\",\n",
    "    theta=\"data/theta0_train.npy\",\n",
    "    n_epochs=10,\n",
    "    initial_lr=0.001,\n",
    "    final_lr=0.0003,\n",
    ")\n",
    "\n",
    "mix.train(\n",
    "    method=\"alice\",\n",
    "    x=\"data/x_train.npy\",\n",
    "    y=\"data/y_train.npy\",\n",
    "    theta=\"data/theta0_train.npy\",\n",
    "    r_xz=\"data/r_xz_train.npy\",\n",
    "    t_xz=\"data/t_xz_train.npy\",\n",
    "    alpha=0.1,\n",
    "    n_epochs=10,\n",
    "    initial_lr=0.0003,\n",
    "    final_lr=0.0001,\n",
    ")\n",
    "\n",
    "mix.save(\"models/mix\")"
   ]
  },
  {
   "cell_type": "markdown",
   "metadata": {},
   "source": [
    "## 4. Generate evaluation data"
   ]
  },
  {
   "cell_type": "markdown",
   "metadata": {},
   "source": [
    "Let us now generate some test data, which is sampled corresponding to `theta=1`"
   ]
  },
  {
   "cell_type": "code",
   "execution_count": 36,
   "metadata": {},
   "outputs": [],
   "source": [
    "n_param_points_test = 1000  # number of parameter points to test\n",
    "theta_test = 1.0 * np.ones(shape=n_param_points_test).reshape(-1, 1)"
   ]
  },
  {
   "cell_type": "markdown",
   "metadata": {},
   "source": [
    "Run the simulator to get observations:"
   ]
  },
  {
   "cell_type": "code",
   "execution_count": 37,
   "metadata": {},
   "outputs": [],
   "source": [
    "x_test, _, _ = simulate(theta_test)\n",
    "np.save(\"data/x_test.npy\", x_test)"
   ]
  },
  {
   "cell_type": "markdown",
   "metadata": {},
   "source": [
    "We want to evaluate the expected likelihood ratio on a range of parameter points:"
   ]
  },
  {
   "cell_type": "code",
   "execution_count": 38,
   "metadata": {},
   "outputs": [],
   "source": [
    "theta_grid = np.linspace(-5.0, 5.0, 100).reshape(-1, 1)\n",
    "np.save(\"data/theta_grid.npy\", theta_grid)"
   ]
  },
  {
   "cell_type": "markdown",
   "metadata": {},
   "source": [
    "In this toy example, we can calculate the true likelihood ratio. We will save the expected log likelihood ratio (multiplied with a conventional factor of -2):"
   ]
  },
  {
   "cell_type": "code",
   "execution_count": 46,
   "metadata": {},
   "outputs": [],
   "source": [
    "all_log_r_test_true = []\n",
    "nllr_test_true = []\n",
    "\n",
    "for theta in theta_grid:\n",
    "    log_r = np.log(calculate_likelihood_ratio(x_test, theta))\n",
    "    nllr_test_true.append(-2.0 * np.mean(log_r))\n",
    "    all_log_r_test_true.append(log_r)\n",
    "\n",
    "all_log_r_test_true = np.asarray(all_log_r_test_true).reshape((100, n_param_points_test))\n",
    "nllr_test_true = np.asarray(nllr_test_true)"
   ]
  },
  {
   "cell_type": "markdown",
   "metadata": {},
   "source": [
    "## 5. Evaluation"
   ]
  },
  {
   "cell_type": "markdown",
   "metadata": {},
   "source": [
    "It's time to evaluate our likelihood ratio estimators!"
   ]
  },
  {
   "cell_type": "code",
   "execution_count": 47,
   "metadata": {},
   "outputs": [
    {
     "name": "stderr",
     "output_type": "stream",
     "text": [
      "14:07 madminer.ml.base     INFO    Loading model from models/carl\n",
      "14:07 madminer.utils.vario INFO      Loading data/x_test.npy into RAM\n",
      "14:07 madminer.utils.vario INFO      Loading data/theta_grid.npy into RAM\n"
     ]
    },
    {
     "name": "stdout",
     "output_type": "stream",
     "text": [
      "MSE: 727.1095120046906\n"
     ]
    }
   ],
   "source": [
    "carl = ParameterizedRatioEstimator()\n",
    "carl.load(\"models/carl\")\n",
    "\n",
    "log_r, _ = carl.evaluate(\n",
    "    theta=\"data/theta_grid.npy\",\n",
    "    x=\"data/x_test.npy\",\n",
    "    evaluate_score=False,\n",
    ")\n",
    "\n",
    "nllr_test_carl = -2.0 * np.mean(log_r, axis=1)\n",
    "mse_carl = np.mean((all_log_r_test_true - log_r) ** 2)\n",
    "print(\"MSE:\", mse_carl)"
   ]
  },
  {
   "cell_type": "code",
   "execution_count": 48,
   "metadata": {},
   "outputs": [
    {
     "name": "stderr",
     "output_type": "stream",
     "text": [
      "14:07 madminer.ml.base     INFO    Loading model from models/alices\n",
      "14:07 madminer.utils.vario INFO      Loading data/x_test.npy into RAM\n",
      "14:07 madminer.utils.vario INFO      Loading data/theta_grid.npy into RAM\n"
     ]
    },
    {
     "name": "stdout",
     "output_type": "stream",
     "text": [
      "MSE: 961.4757251246231\n"
     ]
    }
   ],
   "source": [
    "alices = ParameterizedRatioEstimator()\n",
    "alices.load(\"models/alices\")\n",
    "\n",
    "log_r, _ = alices.evaluate(\n",
    "    theta=\"data/theta_grid.npy\",\n",
    "    x=\"data/x_test.npy\",\n",
    "    evaluate_score=False,\n",
    ")\n",
    "\n",
    "nllr_test_alices = -2.0 * np.mean(log_r, axis=1)\n",
    "mse_alices = np.mean((all_log_r_test_true - log_r) ** 2)\n",
    "print(\"MSE:\", mse_alices)"
   ]
  },
  {
   "cell_type": "code",
   "execution_count": 49,
   "metadata": {},
   "outputs": [
    {
     "name": "stderr",
     "output_type": "stream",
     "text": [
      "14:07 madminer.ml.base     INFO    Loading model from models/mix\n",
      "14:07 madminer.utils.vario INFO      Loading data/x_test.npy into RAM\n",
      "14:07 madminer.utils.vario INFO      Loading data/theta_grid.npy into RAM\n"
     ]
    },
    {
     "name": "stdout",
     "output_type": "stream",
     "text": [
      "MSE: 972.33601946312\n"
     ]
    }
   ],
   "source": [
    "mix = ParameterizedRatioEstimator()\n",
    "mix.load(\"models/mix\")\n",
    "\n",
    "log_r, _ = mix.evaluate(\n",
    "    theta=\"data/theta_grid.npy\",\n",
    "    x=\"data/x_test.npy\",\n",
    "    evaluate_score=False,\n",
    ")\n",
    "\n",
    "nllr_test_mix = -2.0 * np.mean(log_r, axis=1)\n",
    "mse_mix = np.mean((all_log_r_test_true - log_r) ** 2)\n",
    "print(\"MSE:\", mse_mix)"
   ]
  },
  {
   "cell_type": "markdown",
   "metadata": {},
   "source": [
    "This is the expected log likelihood ratio over parameter space:"
   ]
  },
  {
   "cell_type": "code",
   "execution_count": 52,
   "metadata": {},
   "outputs": [
    {
     "name": "stderr",
     "output_type": "stream",
     "text": [
      "/tmp/ipykernel_2171202/1526069039.py:1: DeprecationWarning: Conversion of an array with ndim > 0 to a scalar is deprecated, and will error in future. Ensure you extract a single element from your array before performing this operation. (Deprecated NumPy 1.25.)\n",
      "  best_fit_alices = float(theta_grid[np.argmin(nllr_test_alices)])\n",
      "/tmp/ipykernel_2171202/1526069039.py:2: DeprecationWarning: Conversion of an array with ndim > 0 to a scalar is deprecated, and will error in future. Ensure you extract a single element from your array before performing this operation. (Deprecated NumPy 1.25.)\n",
      "  best_fit_carl = float(theta_grid[np.argmin(nllr_test_carl)])\n",
      "/tmp/ipykernel_2171202/1526069039.py:3: DeprecationWarning: Conversion of an array with ndim > 0 to a scalar is deprecated, and will error in future. Ensure you extract a single element from your array before performing this operation. (Deprecated NumPy 1.25.)\n",
      "  best_fit_mix = float(theta_grid[np.argmin(nllr_test_mix)])\n"
     ]
    },
    {
     "data": {
      "image/png": "[encoded data removed]",
      "text/plain": [
       "<Figure size 500x500 with 1 Axes>"
      ]
     },
     "metadata": {},
     "output_type": "display_data"
    }
   ],
   "source": [
    "best_fit_alices = float(theta_grid[np.argmin(nllr_test_alices)])\n",
    "best_fit_carl = float(theta_grid[np.argmin(nllr_test_carl)])\n",
    "best_fit_mix = float(theta_grid[np.argmin(nllr_test_mix)])\n",
    "\n",
    "fig = plt.figure(figsize=(5, 5))\n",
    "\n",
    "plt.plot(\n",
    "    theta_grid,\n",
    "    nllr_test_true,\n",
    "    ls=\"--\",\n",
    "    c=\"black\",\n",
    "    label=r\"Ground truth ($\\theta = 1.0$)\",\n",
    ")\n",
    "plt.plot(\n",
    "    theta_grid,\n",
    "    nllr_test_carl,\n",
    "    label=r\"CARL ($\\hat{\\theta} = \" + \"{:.3f}$)\".format(best_fit_carl),\n",
    ")\n",
    "plt.plot(\n",
    "    theta_grid,\n",
    "    nllr_test_alices,\n",
    "    label=r\"ALICES ($\\hat{\\theta} = \" + \"{:.3f}$)\".format(best_fit_alices),\n",
    ")\n",
    "plt.plot(\n",
    "    theta_grid,\n",
    "    nllr_test_mix,\n",
    "    label=r\"CARL-ALICES ($\\hat{\\theta} = \" + \"{:.3f}$)\".format(best_fit_mix),\n",
    ")\n",
    "\n",
    "plt.xlabel(r\"$\\theta$\")\n",
    "plt.ylabel(r\"$\\mathbb{E}_x [ -2\\, \\log \\,r(x | \\theta, \\theta_{1}) ]$\")\n",
    "\n",
    "plt.legend()\n",
    "plt.tight_layout()\n",
    "plt.show()"
   ]
  },
  {
   "cell_type": "markdown",
   "metadata": {},
   "source": [
    "You should see that the new ALICES approach leads to a better approximation of the true likelihood ratio than the CARL estimate. Note that we only trained in the parameter range (-4, 4), so the deviations at the left and right of the plot are to be expected."
   ]
  },
  {
   "cell_type": "code",
   "execution_count": null,
   "metadata": {},
   "outputs": [],
   "source": []
  }
 ],
 "metadata": {
  "kernelspec": {
   "display_name": "madminer",
   "language": "python",
   "name": "python3"
  },
  "language_info": {
   "codemirror_mode": {
    "name": "ipython",
    "version": 3
   },
   "file_extension": ".py",
   "mimetype": "text/x-python",
   "name": "python",
   "nbconvert_exporter": "python",
   "pygments_lexer": "ipython3",
   "version": "3.11.2"
  }
 },
 "nbformat": 4,
 "nbformat_minor": 2
}

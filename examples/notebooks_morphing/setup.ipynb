{
 "cells": [
  {
   "cell_type": "code",
   "execution_count": 14,
   "metadata": {},
   "outputs": [],
   "source": [
    "import logging\n",
    "import sys\n",
    "sys.path.append('/remote/gpu02/crescenzo/MadMiner')\n",
    "from madminer.lhe import LHEReader"
   ]
  },
  {
   "cell_type": "code",
   "execution_count": 15,
   "metadata": {},
   "outputs": [],
   "source": [
    "# MadMiner output\n",
    "logging.basicConfig(\n",
    "    format=\"%(asctime)-5.5s %(name)-20.20s %(levelname)-7.7s %(message)s\",\n",
    "    datefmt=\"%H:%M\",\n",
    "    level=logging.INFO,\n",
    ")\n",
    "\n",
    "# Output of all other modules (e.g. matplotlib)\n",
    "for key in logging.Logger.manager.loggerDict:\n",
    "    if \"madminer\" not in key:\n",
    "        logging.getLogger(key).setLevel(logging.WARNING)"
   ]
  },
  {
   "cell_type": "code",
   "execution_count": 16,
   "metadata": {},
   "outputs": [],
   "source": [
    "from madminer import MadMiner\n",
    "import numpy as np"
   ]
  },
  {
   "cell_type": "code",
   "execution_count": 17,
   "metadata": {},
   "outputs": [
    {
     "name": "stderr",
     "output_type": "stream",
     "text": [
      "14:05 madminer.core.madmin INFO    Adding parameter: CWL2 (LHA: dim6 2, Power: 2, Range: (0.0, 1.0))\n",
      "14:05 madminer.core.madmin WARNING Resetting benchmarks and morphing\n",
      "14:05 madminer.core.madmin INFO    Adding parameter: CPWL2 (LHA: dim6 5, Power: 2, Range: (0.0, 1.0))\n",
      "14:05 madminer.core.madmin WARNING Resetting benchmarks and morphing\n"
     ]
    }
   ],
   "source": [
    "miner = MadMiner()\n",
    "\n",
    "miner.add_parameter(\n",
    "    lha_block=\"dim6\",\n",
    "    lha_id=2,\n",
    "    parameter_name=\"CWL2\",\n",
    "    morphing_max_power=2,\n",
    ")\n",
    "miner.add_parameter(\n",
    "    lha_block=\"dim6\",\n",
    "    lha_id=5,\n",
    "    parameter_name=\"CPWL2\",\n",
    "    morphing_max_power=2,\n",
    ")"
   ]
  },
  {
   "cell_type": "code",
   "execution_count": 18,
   "metadata": {},
   "outputs": [
    {
     "name": "stderr",
     "output_type": "stream",
     "text": [
      "14:05 madminer.core.madmin INFO    Optimizing basis for morphing the cross sections only\n",
      "14:05 madminer.core.madmin INFO    Testing out\n"
     ]
    }
   ],
   "source": [
    "miner.cs_set_morphing(max_overall_power=2)"
   ]
  },
  {
   "cell_type": "code",
   "execution_count": 19,
   "metadata": {},
   "outputs": [
    {
     "name": "stderr",
     "output_type": "stream",
     "text": [
      "14:07 madminer.core.madmin INFO    Saving setup (including morphing) to data/setup.h5\n"
     ]
    }
   ],
   "source": [
    "miner.save(\"data/setup.h5\")"
   ]
  },
  {
   "cell_type": "code",
   "execution_count": 8,
   "metadata": {},
   "outputs": [
    {
     "name": "stderr",
     "output_type": "stream",
     "text": [
      "14:04 madminer.utils.inter INFO    HDF5 file does not contain nuisance parameters information\n",
      "14:04 madminer.utils.inter INFO    HDF5 file does not contain finite difference information\n",
      "14:04 madminer.utils.inter INFO    HDF5 file does not contain observables information\n",
      "14:04 madminer.utils.inter INFO    HDF5 file does not contain sample summary information\n",
      "14:04 madminer.utils.inter INFO    HDF5 file does not contain sample information\n",
      "14:04 madminer.utils.inter INFO    HDF5 file does not contain systematic information\n",
      "14:04 madminer.core.madmin INFO    Found 2 parameters:\n",
      "14:04 madminer.core.madmin INFO       CWL2 (LHA: dim6 2, Power: 2, Range: (0.0, 1.0))\n",
      "14:04 madminer.core.madmin INFO       CPWL2 (LHA: dim6 5, Power: 2, Range: (0.0, 1.0))\n",
      "14:04 madminer.core.madmin INFO    Found 6 benchmarks:\n",
      "14:04 madminer.core.madmin INFO       SM: CWL2 = 0.00e+00, CPWL2 = 0.00e+00\n",
      "14:04 madminer.core.madmin INFO       morphing_basis_vector_1: CWL2 = -4.64e-01, CPWL2 = 1.39\n",
      "14:04 madminer.core.madmin INFO       morphing_basis_vector_2: CWL2 = -1.42e+00, CPWL2 = 0.23\n",
      "14:04 madminer.core.madmin INFO       morphing_basis_vector_3: CWL2 = 1.25, CPWL2 = 0.90\n",
      "14:04 madminer.core.madmin INFO       morphing_basis_vector_4: CWL2 = 1.14, CPWL2 = -1.07e+00\n",
      "14:04 madminer.core.madmin INFO       morphing_basis_vector_5: CWL2 = -7.80e-01, CPWL2 = -1.31e+00\n",
      "14:04 madminer.core.madmin INFO    Found morphing setup with 6 components\n",
      "14:04 madminer.core.madmin INFO    Did not find systematics setup.\n"
     ]
    }
   ],
   "source": [
    "mg_dir = \"/remote/gpu02/crescenzo/MG5_aMC_v3_5_3\"\n",
    "for j,elem in miner.morpher.cs_basis:\n",
    "    miner.run(\n",
    "    sample_benchmark=elem,\n",
    "    mg_directory=mg_dir,\n",
    "    mg_process_directory=f\"./mg_processes/signal_{j}\",\n",
    "    proc_card_file=\"cards/proc_card_signal.dat\",\n",
    "    param_card_template_file=\"cards/param_card_template.dat\",\n",
    "    run_card_file=\"cards/run_card_signal_large.dat\",\n",
    "    log_directory=f\"logs/signal_{j}\",\n",
    "    python_executable=\"python3\",\n",
    "    only_prepare_script=True\n",
    ")"
   ]
  },
  {
   "cell_type": "code",
   "execution_count": null,
   "metadata": {},
   "outputs": [],
   "source": [
    "lhe = LHEReader(\"data/setup.h5\")"
   ]
  },
  {
   "cell_type": "code",
   "execution_count": 12,
   "metadata": {},
   "outputs": [],
   "source": [
    "##JUST EXAMPLE!\n",
    "##SUPPOSE I HAVE MAX POWER = 2 -> 6 BENCHMARK POINTS\n",
    "cs_from_madgraph = np.linspace(0.001,0.010,6)\n",
    "reduced_cs = cs_from_madgraph[1:cs_from_madgraph.size]/cs_from_madgraph[0]\n",
    "##NOTICE THE NEW SIZE IS N_BENCHMARKS - 1\n",
    "\n",
    "miner_2.morpher.set_reduced(reduced_cs)"
   ]
  },
  {
   "cell_type": "code",
   "execution_count": 13,
   "metadata": {},
   "outputs": [
    {
     "data": {
      "text/plain": [
       "array([ 2.8,  4.6,  6.4,  8.2, 10. ])"
      ]
     },
     "execution_count": 13,
     "metadata": {},
     "output_type": "execute_result"
    }
   ],
   "source": [
    "miner_2.morpher.reduced_cs"
   ]
  },
  {
   "attachments": {},
   "cell_type": "markdown",
   "metadata": {},
   "source": [
    "Now we have all ingredients to set up the morphing ratio"
   ]
  },
  {
   "cell_type": "code",
   "execution_count": 28,
   "metadata": {},
   "outputs": [
    {
     "name": "stderr",
     "output_type": "stream",
     "text": [
      "11:53 madminer.core.madmin INFO    Optimizing basis for morphing the ratio\n",
      "11:53 madminer.core.madmin WARNING Reset morphing\n",
      "11:53 madminer.core.madmin INFO    Testing out\n",
      "11:53 madminer.core.madmin INFO    Saving setup (including morphing) to saving_file\n"
     ]
    }
   ],
   "source": [
    "miner.ratio_set_morphing(max_overall_power=2)\n",
    "miner.save(\"saving_file\") "
   ]
  },
  {
   "attachments": {},
   "cell_type": "markdown",
   "metadata": {},
   "source": [
    "Now I have decided the actual benchmark points. One needs to run again a simulation at each of this (can skip the SM one since it was already covered during the cs morphing optimizaiton)"
   ]
  },
  {
   "cell_type": "code",
   "execution_count": 35,
   "metadata": {},
   "outputs": [],
   "source": [
    "for j,elem in enumerate(miner.morpher.basis):\n",
    "    #"
   ]
  },
  {
   "cell_type": "code",
   "execution_count": null,
   "metadata": {},
   "outputs": [],
   "source": []
  }
 ],
 "metadata": {
  "kernelspec": {
   "display_name": "environment",
   "language": "python",
   "name": "python3"
  },
  "language_info": {
   "codemirror_mode": {
    "name": "ipython",
    "version": 3
   },
   "file_extension": ".py",
   "mimetype": "text/x-python",
   "name": "python",
   "nbconvert_exporter": "python",
   "pygments_lexer": "ipython3",
   "version": "3.11.2"
  },
  "orig_nbformat": 4
 },
 "nbformat": 4,
 "nbformat_minor": 2
}

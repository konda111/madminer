{
 "cells": [
  {
   "cell_type": "code",
   "execution_count": 2,
   "metadata": {},
   "outputs": [],
   "source": [
    "import logging\n",
    "import sys\n",
    "sys.path.append('/remote/gpu02/crescenzo/MadMiner')\n",
    "from madminer.lhe import LHEReader\n",
    "from madminer.sampling import SampleAugmenter\n",
    "from madminer import sampling"
   ]
  },
  {
   "cell_type": "code",
   "execution_count": 3,
   "metadata": {},
   "outputs": [],
   "source": [
    "# MadMiner output\n",
    "logging.basicConfig(\n",
    "    format=\"%(asctime)-5.5s %(name)-20.20s %(levelname)-7.7s %(message)s\",\n",
    "    datefmt=\"%H:%M\",\n",
    "    level=logging.INFO,\n",
    ")\n",
    "\n",
    "# Output of all other modules (e.g. matplotlib)\n",
    "for key in logging.Logger.manager.loggerDict:\n",
    "    if \"madminer\" not in key:\n",
    "        logging.getLogger(key).setLevel(logging.WARNING)"
   ]
  },
  {
   "cell_type": "code",
   "execution_count": 4,
   "metadata": {},
   "outputs": [],
   "source": [
    "from madminer import MadMiner\n",
    "import numpy as np"
   ]
  },
  {
   "cell_type": "code",
   "execution_count": 5,
   "metadata": {},
   "outputs": [
    {
     "name": "stderr",
     "output_type": "stream",
     "text": [
      "15:17 madminer.utils.inter INFO    HDF5 file does not contain nuisance parameters information\n",
      "15:17 madminer.utils.inter INFO    HDF5 file does not contain finite difference information\n",
      "15:17 madminer.utils.inter INFO    HDF5 file does not contain observables information\n",
      "15:17 madminer.utils.inter INFO    HDF5 file does not contain sample summary information\n",
      "15:17 madminer.utils.inter INFO    HDF5 file does not contain sample information\n",
      "15:17 madminer.utils.inter INFO    HDF5 file does not contain systematic information\n",
      "15:17 madminer.core.madmin INFO    Found 2 parameters:\n",
      "15:17 madminer.core.madmin INFO       CWL2 (LHA: dim6 2, Power: 2, Range: (0.0, 1.0))\n",
      "15:17 madminer.core.madmin INFO       CPWL2 (LHA: dim6 5, Power: 2, Range: (0.0, 1.0))\n",
      "15:17 madminer.core.madmin INFO    Found 6 benchmarks:\n",
      "15:17 madminer.core.madmin INFO       SM: CWL2 = 0.00e+00, CPWL2 = 0.00e+00\n",
      "15:17 madminer.core.madmin INFO       morphing_basis_vector_1: CWL2 = 0.93, CPWL2 = 1.48\n",
      "15:17 madminer.core.madmin INFO       morphing_basis_vector_2: CWL2 = 1.62, CPWL2 = -3.31e-01\n",
      "15:17 madminer.core.madmin INFO       morphing_basis_vector_3: CWL2 = -1.44e+00, CPWL2 = -9.99e-01\n",
      "15:17 madminer.core.madmin INFO       morphing_basis_vector_4: CWL2 = 0.47, CPWL2 = -1.60e+00\n",
      "15:17 madminer.core.madmin INFO       morphing_basis_vector_5: CWL2 = -1.28e+00, CPWL2 = 1.24\n",
      "15:17 madminer.core.madmin INFO    Found morphing setup with 6 components\n",
      "15:17 madminer.core.madmin INFO    Did not find systematics setup.\n"
     ]
    }
   ],
   "source": [
    "miner = MadMiner()\n",
    "\n",
    "miner.load(\"data/setup.h5\")"
   ]
  },
  {
   "cell_type": "code",
   "execution_count": 32,
   "metadata": {},
   "outputs": [
    {
     "data": {
      "text/plain": [
       "'SM'"
      ]
     },
     "execution_count": 32,
     "metadata": {},
     "output_type": "execute_result"
    }
   ],
   "source": [
    "list(miner.benchmarks.keys())[0]"
   ]
  },
  {
   "cell_type": "code",
   "execution_count": 13,
   "metadata": {},
   "outputs": [
    {
     "name": "stderr",
     "output_type": "stream",
     "text": [
      "15:07 madminer.core.madmin INFO    Adding python3 bin folder to PATH\n",
      "15:07 madminer.core.madmin INFO    Using Python executable /remote/gpu02/crescenzo/environment/bin/python3\n",
      "15:07 madminer.utils.inter INFO    Generating MadGraph process folder from cards/proc_card_signal.dat at ./mg_processes/signal_0\n",
      "15:07 madminer.utils.inter INFO    Calling MadGraph: export PATH=/remote/gpu02/crescenzo/environment/bin:$PATH; python3 /remote/gpu02/crescenzo/MG5_aMC_v3_5_3/bin/mg5_aMC /tmp/generate.mg5\n"
     ]
    },
    {
     "name": "stdout",
     "output_type": "stream",
     "text": [
      "SM\n"
     ]
    },
    {
     "name": "stderr",
     "output_type": "stream",
     "text": [
      "15:07 madminer.core.madmin INFO    Run 0\n",
      "15:07 madminer.core.madmin INFO      Sampling from benchmark: SM\n",
      "15:07 madminer.core.madmin INFO      Original run card:       cards/run_card_signal_large.dat\n",
      "15:07 madminer.core.madmin INFO      Original Pythia8 card:   None\n",
      "15:07 madminer.core.madmin INFO      Original MadSpin card:   None\n",
      "15:07 madminer.core.madmin INFO      Original config card:    None\n",
      "15:07 madminer.core.madmin INFO      Copied run card:         madminer/cards/run_card_0.dat\n",
      "15:07 madminer.core.madmin INFO      Copied Pythia8 card:     None\n",
      "15:07 madminer.core.madmin INFO      Copied MadSpin card:     None\n",
      "15:07 madminer.core.madmin INFO      Copied config card:      None\n",
      "15:07 madminer.core.madmin INFO      Param card:              madminer/cards/param_card_0.dat\n",
      "15:07 madminer.core.madmin INFO      Reweight card:           madminer/cards/reweight_card_0.dat\n",
      "15:07 madminer.core.madmin INFO      Log file:                run_0.log\n",
      "15:07 madminer.core.madmin INFO    Creating param and reweight cards in ./mg_processes/signal_0/madminer/cards/param_card_0.dat, ./mg_processes/signal_0/madminer/cards/reweight_card_0.dat\n",
      "15:07 madminer.utils.inter INFO    Preparing script to run MadGraph and Pythia in ./mg_processes/signal_0\n",
      "15:07 madminer.core.madmin INFO    To generate events, please run:\n",
      "\n",
      " ./mg_processes/signal_0/madminer/run.sh [MG_directory] [MG_process_directory] [log_dir]\n",
      "\n",
      "\n"
     ]
    }
   ],
   "source": [
    "mg_dir = \"/remote/gpu02/crescenzo/MG5_aMC_v3_5_3\"\n",
    "for j,name in enumerate(list(miner.benchmarks.keys())):\n",
    "    if j == 0:\n",
    "        print(name)\n",
    "        miner.run(\n",
    "        sample_benchmark=name,\n",
    "        mg_directory=mg_dir,\n",
    "        mg_process_directory=f\"./mg_processes/signal_{j}\",\n",
    "        proc_card_file=\"cards/proc_card_signal.dat\",\n",
    "        param_card_template_file=\"cards/param_card_template.dat\",\n",
    "        run_card_file=\"cards/run_card_signal_large.dat\",\n",
    "        log_directory=f\"logs/signal_{j}\",\n",
    "        python_executable=\"python3\",\n",
    "        only_prepare_script=True\n",
    "    )"
   ]
  },
  {
   "cell_type": "code",
   "execution_count": 6,
   "metadata": {},
   "outputs": [
    {
     "name": "stderr",
     "output_type": "stream",
     "text": [
      "15:17 madminer.utils.inter INFO    HDF5 file does not contain nuisance parameters information\n",
      "15:17 madminer.utils.inter INFO    HDF5 file does not contain finite difference information\n",
      "15:17 madminer.utils.inter INFO    HDF5 file does not contain observables information\n",
      "15:17 madminer.utils.inter INFO    HDF5 file does not contain sample summary information\n",
      "15:17 madminer.utils.inter INFO    HDF5 file does not contain sample information\n",
      "15:17 madminer.utils.inter INFO    HDF5 file does not contain systematic information\n",
      "15:17 madminer.lhe.lhe_rea INFO    Analysing LHE sample mg_processes/signal_0/Events/run_01/unweighted_events.lhe.gz: Calculating 1 observables, requiring 0 selection cuts, using 0 efficiency factors, associated with no systematics\n"
     ]
    },
    {
     "name": "stdout",
     "output_type": "stream",
     "text": [
      "Parallelize:  False\n"
     ]
    },
    {
     "name": "stderr",
     "output_type": "stream",
     "text": [
      "15:19 madminer.lhe.lhe_rea INFO    Analysed number of events per sampling benchmark:\n",
      "15:19 madminer.lhe.lhe_rea INFO      10000 from SM\n",
      "15:19 madminer.analysis.da INFO    Loading data from data/lhe_data_0.h5\n",
      "15:19 madminer.utils.inter INFO    HDF5 file does not contain nuisance parameters information\n",
      "15:19 madminer.utils.inter INFO    HDF5 file does not contain finite difference information\n",
      "15:19 madminer.utils.inter INFO    HDF5 file does not contain systematic information\n"
     ]
    },
    {
     "ename": "ValueError",
     "evalue": "too many values to unpack (expected 14)",
     "output_type": "error",
     "traceback": [
      "\u001b[0;31m---------------------------------------------------------------------------\u001b[0m",
      "\u001b[0;31mValueError\u001b[0m                                Traceback (most recent call last)",
      "Cell \u001b[0;32mIn[6], line 18\u001b[0m\n\u001b[1;32m     16\u001b[0m lhe\u001b[39m.\u001b[39manalyse_samples()\n\u001b[1;32m     17\u001b[0m lhe\u001b[39m.\u001b[39msave(\u001b[39mf\u001b[39m\u001b[39m\"\u001b[39m\u001b[39mdata/lhe_data_\u001b[39m\u001b[39m{\u001b[39;00mj\u001b[39m}\u001b[39;00m\u001b[39m.h5\u001b[39m\u001b[39m\"\u001b[39m)\n\u001b[0;32m---> 18\u001b[0m sampler \u001b[39m=\u001b[39m SampleAugmenter(\u001b[39mf\u001b[39;49m\u001b[39m\"\u001b[39;49m\u001b[39mdata/lhe_data_\u001b[39;49m\u001b[39m{\u001b[39;49;00mj\u001b[39m}\u001b[39;49;00m\u001b[39m.h5\u001b[39;49m\u001b[39m\"\u001b[39;49m)\n\u001b[1;32m     19\u001b[0m cross_sections\u001b[39m.\u001b[39mappend(sampler\u001b[39m.\u001b[39mcross_sections(sampling\u001b[39m.\u001b[39mbenchmark(name))[\u001b[39m1\u001b[39m][\u001b[39m0\u001b[39m])\n",
      "File \u001b[0;32m/remote/gpu02/crescenzo/MadMiner/madminer/sampling/sampleaugmenter.py:74\u001b[0m, in \u001b[0;36mSampleAugmenter.__init__\u001b[0;34m(self, filename, disable_morphing, include_nuisance_parameters)\u001b[0m\n\u001b[1;32m     73\u001b[0m \u001b[39mdef\u001b[39;00m \u001b[39m__init__\u001b[39m(\u001b[39mself\u001b[39m, filename, disable_morphing\u001b[39m=\u001b[39m\u001b[39mFalse\u001b[39;00m, include_nuisance_parameters\u001b[39m=\u001b[39m\u001b[39mTrue\u001b[39;00m):\n\u001b[0;32m---> 74\u001b[0m     \u001b[39msuper\u001b[39;49m()\u001b[39m.\u001b[39;49m\u001b[39m__init__\u001b[39;49m(filename, disable_morphing, include_nuisance_parameters)\n",
      "File \u001b[0;32m/remote/gpu02/crescenzo/MadMiner/madminer/analysis/dataanalyzer.py:38\u001b[0m, in \u001b[0;36mDataAnalyzer.__init__\u001b[0;34m(self, filename, disable_morphing, include_nuisance_parameters)\u001b[0m\n\u001b[1;32m     36\u001b[0m \u001b[39m# Load data\u001b[39;00m\n\u001b[1;32m     37\u001b[0m logger\u001b[39m.\u001b[39minfo(\u001b[39m\"\u001b[39m\u001b[39mLoading data from \u001b[39m\u001b[39m%s\u001b[39;00m\u001b[39m\"\u001b[39m, filename)\n\u001b[0;32m---> 38\u001b[0m (\n\u001b[1;32m     39\u001b[0m     \u001b[39mself\u001b[39m\u001b[39m.\u001b[39mparameters,\n\u001b[1;32m     40\u001b[0m     \u001b[39mself\u001b[39m\u001b[39m.\u001b[39mbenchmarks,\n\u001b[1;32m     41\u001b[0m     \u001b[39mself\u001b[39m\u001b[39m.\u001b[39mbenchmark_nuisance_flags,\n\u001b[1;32m     42\u001b[0m     \u001b[39mself\u001b[39m\u001b[39m.\u001b[39mmorphing_components,\n\u001b[1;32m     43\u001b[0m     \u001b[39mself\u001b[39m\u001b[39m.\u001b[39mmorphing_matrix,\n\u001b[1;32m     44\u001b[0m     \u001b[39mself\u001b[39m\u001b[39m.\u001b[39mobservables,\n\u001b[1;32m     45\u001b[0m     \u001b[39mself\u001b[39m\u001b[39m.\u001b[39mn_samples,\n\u001b[1;32m     46\u001b[0m     \u001b[39mself\u001b[39m\u001b[39m.\u001b[39msystematics,\n\u001b[1;32m     47\u001b[0m     \u001b[39mself\u001b[39m\u001b[39m.\u001b[39mreference_benchmark,\n\u001b[1;32m     48\u001b[0m     \u001b[39mself\u001b[39m\u001b[39m.\u001b[39mnuisance_parameters,\n\u001b[1;32m     49\u001b[0m     \u001b[39mself\u001b[39m\u001b[39m.\u001b[39mn_events_generated_per_benchmark,\n\u001b[1;32m     50\u001b[0m     \u001b[39mself\u001b[39m\u001b[39m.\u001b[39mn_events_backgrounds,\n\u001b[1;32m     51\u001b[0m     \u001b[39mself\u001b[39m\u001b[39m.\u001b[39mfinite_difference_benchmarks,\n\u001b[1;32m     52\u001b[0m     \u001b[39mself\u001b[39m\u001b[39m.\u001b[39mfinite_difference_epsilon,\n\u001b[1;32m     53\u001b[0m ) \u001b[39m=\u001b[39m load_madminer_settings(filename, include_nuisance_benchmarks\u001b[39m=\u001b[39minclude_nuisance_parameters)\n\u001b[1;32m     55\u001b[0m \u001b[39mself\u001b[39m\u001b[39m.\u001b[39mn_observables \u001b[39m=\u001b[39m \u001b[39mlen\u001b[39m(\u001b[39mself\u001b[39m\u001b[39m.\u001b[39mobservables)\n\u001b[1;32m     56\u001b[0m \u001b[39mself\u001b[39m\u001b[39m.\u001b[39mn_parameters \u001b[39m=\u001b[39m \u001b[39mlen\u001b[39m(\u001b[39mself\u001b[39m\u001b[39m.\u001b[39mparameters)\n",
      "\u001b[0;31mValueError\u001b[0m: too many values to unpack (expected 14)"
     ]
    }
   ],
   "source": [
    "cross_sections = []\n",
    "\n",
    "for j,name in enumerate(list(miner.benchmarks.keys())):\n",
    "    lhe = LHEReader(\"data/setup.h5\")\n",
    "    lhe.add_sample(\n",
    "                lhe_filename=f\"mg_processes/signal_{j}/Events/run_01/unweighted_events.lhe.gz\",\n",
    "                sampled_from_benchmark=name,\n",
    "                is_background=False,\n",
    "                k_factor=1.0,\n",
    "            )\n",
    "    lhe.add_observable(\n",
    "            \"met\",\n",
    "            \"met.pt\",\n",
    "            required=True,\n",
    "        )\n",
    "    lhe.analyse_samples()\n",
    "    lhe.save(f\"data/lhe_data_{j}.h5\")\n",
    "    sampler = SampleAugmenter(f\"data/lhe_data_{j}.h5\")\n",
    "    cross_sections.append(sampler.cross_sections(sampling.benchmark(name))[1][0])\n",
    "\n"
   ]
  },
  {
   "cell_type": "code",
   "execution_count": 12,
   "metadata": {},
   "outputs": [],
   "source": [
    "##JUST EXAMPLE!\n",
    "##SUPPOSE I HAVE MAX POWER = 2 -> 6 BENCHMARK POINTS\n",
    "cs_from_madgraph = np.linspace(0.001,0.010,6)\n",
    "reduced_cs = cs_from_madgraph[1:cs_from_madgraph.size]/cs_from_madgraph[0]\n",
    "##NOTICE THE NEW SIZE IS N_BENCHMARKS - 1\n",
    "\n",
    "miner_2.morpher.set_reduced(reduced_cs)"
   ]
  },
  {
   "cell_type": "code",
   "execution_count": 13,
   "metadata": {},
   "outputs": [
    {
     "data": {
      "text/plain": [
       "array([ 2.8,  4.6,  6.4,  8.2, 10. ])"
      ]
     },
     "execution_count": 13,
     "metadata": {},
     "output_type": "execute_result"
    }
   ],
   "source": [
    "miner_2.morpher.reduced_cs"
   ]
  },
  {
   "attachments": {},
   "cell_type": "markdown",
   "metadata": {},
   "source": [
    "Now we have all ingredients to set up the morphing ratio"
   ]
  },
  {
   "cell_type": "code",
   "execution_count": 28,
   "metadata": {},
   "outputs": [
    {
     "name": "stderr",
     "output_type": "stream",
     "text": [
      "11:53 madminer.core.madmin INFO    Optimizing basis for morphing the ratio\n",
      "11:53 madminer.core.madmin WARNING Reset morphing\n",
      "11:53 madminer.core.madmin INFO    Testing out\n",
      "11:53 madminer.core.madmin INFO    Saving setup (including morphing) to saving_file\n"
     ]
    }
   ],
   "source": [
    "miner.ratio_set_morphing(max_overall_power=2)\n",
    "miner.save(\"saving_file\") "
   ]
  },
  {
   "attachments": {},
   "cell_type": "markdown",
   "metadata": {},
   "source": [
    "Now I have decided the actual benchmark points. One needs to run again a simulation at each of this (can skip the SM one since it was already covered during the cs morphing optimizaiton)"
   ]
  },
  {
   "cell_type": "code",
   "execution_count": 35,
   "metadata": {},
   "outputs": [],
   "source": [
    "for j,elem in enumerate(miner.morpher.basis):\n",
    "    #"
   ]
  },
  {
   "cell_type": "code",
   "execution_count": null,
   "metadata": {},
   "outputs": [],
   "source": []
  }
 ],
 "metadata": {
  "kernelspec": {
   "display_name": "environment",
   "language": "python",
   "name": "python3"
  },
  "language_info": {
   "codemirror_mode": {
    "name": "ipython",
    "version": 3
   },
   "file_extension": ".py",
   "mimetype": "text/x-python",
   "name": "python",
   "nbconvert_exporter": "python",
   "pygments_lexer": "ipython3",
   "version": "3.11.2"
  },
  "orig_nbformat": 4
 },
 "nbformat": 4,
 "nbformat_minor": 2
}

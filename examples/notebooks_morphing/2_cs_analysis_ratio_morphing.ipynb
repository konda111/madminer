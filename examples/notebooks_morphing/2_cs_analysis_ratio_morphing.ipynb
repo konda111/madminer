{
 "cells": [
  {
   "cell_type": "code",
   "execution_count": 1,
   "metadata": {},
   "outputs": [],
   "source": [
    "import logging\n",
    "import sys\n",
    "sys.path.append('/remote/gpu02/crescenzo/MadMiner')\n",
    "from madminer.lhe import LHEReader\n",
    "from madminer.sampling import SampleAugmenter\n",
    "from madminer import sampling"
   ]
  },
  {
   "cell_type": "code",
   "execution_count": 2,
   "metadata": {},
   "outputs": [],
   "source": [
    "# MadMiner output\n",
    "logging.basicConfig(\n",
    "    format=\"%(asctime)-5.5s %(name)-20.20s %(levelname)-7.7s %(message)s\",\n",
    "    datefmt=\"%H:%M\",\n",
    "    level=logging.INFO,\n",
    ")\n",
    "\n",
    "# Output of all other modules (e.g. matplotlib)\n",
    "for key in logging.Logger.manager.loggerDict:\n",
    "    if \"madminer\" not in key:\n",
    "        logging.getLogger(key).setLevel(logging.WARNING)"
   ]
  },
  {
   "cell_type": "code",
   "execution_count": 3,
   "metadata": {},
   "outputs": [],
   "source": [
    "from madminer import MadMiner\n",
    "import numpy as np"
   ]
  },
  {
   "cell_type": "code",
   "execution_count": 4,
   "metadata": {},
   "outputs": [
    {
     "name": "stderr",
     "output_type": "stream",
     "text": [
      "18:11 madminer.utils.inter INFO    HDF5 file does not contain nuisance parameters information\n",
      "18:11 madminer.utils.inter INFO    HDF5 file does not contain finite difference information\n",
      "18:11 madminer.utils.inter INFO    HDF5 file does not contain observables information\n",
      "18:11 madminer.utils.inter INFO    HDF5 file does not contain sample summary information\n",
      "18:11 madminer.utils.inter INFO    HDF5 file does not contain sample information\n",
      "18:11 madminer.utils.inter INFO    HDF5 file does not contain systematic information\n",
      "18:11 madminer.core.madmin INFO    Found 2 parameters:\n",
      "18:11 madminer.core.madmin INFO       CWL2 (LHA: dim6 2, Power: 2, Range: (0.0, 1.0))\n",
      "18:11 madminer.core.madmin INFO       CPWL2 (LHA: dim6 5, Power: 2, Range: (0.0, 1.0))\n",
      "18:11 madminer.core.madmin INFO    Found 6 benchmarks:\n",
      "18:11 madminer.core.madmin INFO       SM: CWL2 = 0.00e+00, CPWL2 = 0.00e+00\n",
      "18:11 madminer.core.madmin INFO       morphing_basis_vector_1: CWL2 = 1.62, CPWL2 = -2.20e-01\n",
      "18:11 madminer.core.madmin INFO       morphing_basis_vector_2: CWL2 = -1.41e+00, CPWL2 = -1.04e+00\n",
      "18:11 madminer.core.madmin INFO       morphing_basis_vector_3: CWL2 = -1.31e+00, CPWL2 = 1.20\n",
      "18:11 madminer.core.madmin INFO       morphing_basis_vector_4: CWL2 = 0.57, CPWL2 = -1.58e+00\n",
      "18:11 madminer.core.madmin INFO       morphing_basis_vector_5: CWL2 = 0.86, CPWL2 = 1.49\n",
      "18:11 madminer.core.madmin INFO    Found morphing setup with 6 components\n",
      "18:11 madminer.core.madmin INFO    Did not find systematics setup.\n"
     ]
    }
   ],
   "source": [
    "miner = MadMiner()\n",
    "\n",
    "miner.load(\"data/setup.h5\")"
   ]
  },
  {
   "cell_type": "code",
   "execution_count": 5,
   "metadata": {},
   "outputs": [
    {
     "data": {
      "text/plain": [
       "'morphing_basis_vector_3'"
      ]
     },
     "execution_count": 5,
     "metadata": {},
     "output_type": "execute_result"
    }
   ],
   "source": [
    "list(miner.benchmarks.keys())[3]"
   ]
  },
  {
   "cell_type": "code",
   "execution_count": 6,
   "metadata": {},
   "outputs": [
    {
     "name": "stderr",
     "output_type": "stream",
     "text": [
      "18:11 madminer.utils.inter INFO    HDF5 file does not contain nuisance parameters information\n",
      "18:11 madminer.utils.inter INFO    HDF5 file does not contain finite difference information\n",
      "18:11 madminer.utils.inter INFO    HDF5 file does not contain observables information\n",
      "18:11 madminer.utils.inter INFO    HDF5 file does not contain sample summary information\n",
      "18:11 madminer.utils.inter INFO    HDF5 file does not contain sample information\n",
      "18:11 madminer.utils.inter INFO    HDF5 file does not contain systematic information\n",
      "18:11 madminer.lhe.lhe_rea INFO    Analysing LHE sample mg_processes/signal_0/Events/run_01/unweighted_events.lhe.gz: Calculating 1 observables, requiring 0 selection cuts, using 0 efficiency factors, associated with no systematics\n"
     ]
    },
    {
     "name": "stdout",
     "output_type": "stream",
     "text": [
      "Parallelize:  False\n"
     ]
    },
    {
     "name": "stderr",
     "output_type": "stream",
     "text": [
      "18:11 madminer.lhe.lhe_rea INFO    Analysed number of events per sampling benchmark:\n",
      "18:11 madminer.lhe.lhe_rea INFO      100 from SM\n",
      "18:11 madminer.analysis.da INFO    Loading data from data/lhe_data_0.h5\n",
      "18:11 madminer.utils.inter INFO    HDF5 file does not contain nuisance parameters information\n",
      "18:11 madminer.utils.inter INFO    HDF5 file does not contain finite difference information\n",
      "18:11 madminer.utils.inter INFO    HDF5 file does not contain systematic information\n",
      "18:11 madminer.analysis.da INFO    Found 2 parameters\n",
      "18:11 madminer.analysis.da INFO      0: CWL2 (LHA: dim6 2, Power: 2, Range: (0.0, 1.0))\n",
      "18:11 madminer.analysis.da INFO      1: CPWL2 (LHA: dim6 5, Power: 2, Range: (0.0, 1.0))\n",
      "18:11 madminer.analysis.da INFO    Did not find nuisance parameters\n",
      "18:11 madminer.analysis.da INFO    Found 6 benchmarks\n",
      "18:11 madminer.analysis.da INFO    Found 1 observables\n",
      "18:11 madminer.analysis.da INFO    Found 100 events\n",
      "18:11 madminer.analysis.da INFO      100 signal events sampled from benchmark SM\n",
      "18:11 madminer.analysis.da INFO      0 signal events sampled from benchmark morphing_basis_vector_1\n",
      "18:11 madminer.analysis.da INFO      0 signal events sampled from benchmark morphing_basis_vector_2\n",
      "18:11 madminer.analysis.da INFO      0 signal events sampled from benchmark morphing_basis_vector_3\n",
      "18:11 madminer.analysis.da INFO      0 signal events sampled from benchmark morphing_basis_vector_4\n",
      "18:11 madminer.analysis.da INFO      0 signal events sampled from benchmark morphing_basis_vector_5\n",
      "18:11 madminer.analysis.da INFO    Found morphing setup with 6 components\n",
      "18:11 madminer.analysis.da INFO    Did not find nuisance morphing setup\n",
      "18:11 madminer.sampling.sa INFO    Starting cross-section calculation\n",
      "18:11 madminer.utils.inter INFO    HDF5 file does not contain nuisance parameters information\n",
      "18:11 madminer.utils.inter INFO    HDF5 file does not contain finite difference information\n",
      "18:11 madminer.utils.inter INFO    HDF5 file does not contain observables information\n",
      "18:11 madminer.utils.inter INFO    HDF5 file does not contain sample summary information\n",
      "18:11 madminer.utils.inter INFO    HDF5 file does not contain sample information\n",
      "18:11 madminer.utils.inter INFO    HDF5 file does not contain systematic information\n",
      "18:11 madminer.lhe.lhe_rea INFO    Analysing LHE sample mg_processes/signal_1/Events/run_01/unweighted_events.lhe.gz: Calculating 1 observables, requiring 0 selection cuts, using 0 efficiency factors, associated with no systematics\n"
     ]
    },
    {
     "name": "stdout",
     "output_type": "stream",
     "text": [
      "Parallelize:  False\n"
     ]
    },
    {
     "name": "stderr",
     "output_type": "stream",
     "text": [
      "18:11 madminer.lhe.lhe_rea INFO    Analysed number of events per sampling benchmark:\n",
      "18:11 madminer.lhe.lhe_rea INFO      100 from morphing_basis_vector_1\n",
      "18:11 madminer.analysis.da INFO    Loading data from data/lhe_data_1.h5\n",
      "18:11 madminer.utils.inter INFO    HDF5 file does not contain nuisance parameters information\n",
      "18:11 madminer.utils.inter INFO    HDF5 file does not contain finite difference information\n",
      "18:11 madminer.utils.inter INFO    HDF5 file does not contain systematic information\n",
      "18:11 madminer.analysis.da INFO    Found 2 parameters\n",
      "18:11 madminer.analysis.da INFO      0: CWL2 (LHA: dim6 2, Power: 2, Range: (0.0, 1.0))\n",
      "18:11 madminer.analysis.da INFO      1: CPWL2 (LHA: dim6 5, Power: 2, Range: (0.0, 1.0))\n",
      "18:11 madminer.analysis.da INFO    Did not find nuisance parameters\n",
      "18:11 madminer.analysis.da INFO    Found 6 benchmarks\n",
      "18:11 madminer.analysis.da INFO    Found 1 observables\n",
      "18:11 madminer.analysis.da INFO    Found 100 events\n",
      "18:11 madminer.analysis.da INFO      0 signal events sampled from benchmark SM\n",
      "18:11 madminer.analysis.da INFO      100 signal events sampled from benchmark morphing_basis_vector_1\n",
      "18:11 madminer.analysis.da INFO      0 signal events sampled from benchmark morphing_basis_vector_2\n",
      "18:11 madminer.analysis.da INFO      0 signal events sampled from benchmark morphing_basis_vector_3\n",
      "18:11 madminer.analysis.da INFO      0 signal events sampled from benchmark morphing_basis_vector_4\n",
      "18:11 madminer.analysis.da INFO      0 signal events sampled from benchmark morphing_basis_vector_5\n",
      "18:11 madminer.analysis.da INFO    Found morphing setup with 6 components\n",
      "18:11 madminer.analysis.da INFO    Did not find nuisance morphing setup\n",
      "18:11 madminer.sampling.sa INFO    Starting cross-section calculation\n",
      "18:11 madminer.utils.inter INFO    HDF5 file does not contain nuisance parameters information\n",
      "18:11 madminer.utils.inter INFO    HDF5 file does not contain finite difference information\n",
      "18:11 madminer.utils.inter INFO    HDF5 file does not contain observables information\n",
      "18:11 madminer.utils.inter INFO    HDF5 file does not contain sample summary information\n",
      "18:11 madminer.utils.inter INFO    HDF5 file does not contain sample information\n",
      "18:11 madminer.utils.inter INFO    HDF5 file does not contain systematic information\n",
      "18:11 madminer.lhe.lhe_rea INFO    Analysing LHE sample mg_processes/signal_2/Events/run_01/unweighted_events.lhe.gz: Calculating 1 observables, requiring 0 selection cuts, using 0 efficiency factors, associated with no systematics\n"
     ]
    },
    {
     "name": "stdout",
     "output_type": "stream",
     "text": [
      "Parallelize:  False\n"
     ]
    },
    {
     "name": "stderr",
     "output_type": "stream",
     "text": [
      "18:11 madminer.lhe.lhe_rea INFO    Analysed number of events per sampling benchmark:\n",
      "18:11 madminer.lhe.lhe_rea INFO      100 from morphing_basis_vector_2\n",
      "18:11 madminer.analysis.da INFO    Loading data from data/lhe_data_2.h5\n",
      "18:11 madminer.utils.inter INFO    HDF5 file does not contain nuisance parameters information\n",
      "18:11 madminer.utils.inter INFO    HDF5 file does not contain finite difference information\n",
      "18:11 madminer.utils.inter INFO    HDF5 file does not contain systematic information\n",
      "18:11 madminer.analysis.da INFO    Found 2 parameters\n",
      "18:11 madminer.analysis.da INFO      0: CWL2 (LHA: dim6 2, Power: 2, Range: (0.0, 1.0))\n",
      "18:11 madminer.analysis.da INFO      1: CPWL2 (LHA: dim6 5, Power: 2, Range: (0.0, 1.0))\n",
      "18:11 madminer.analysis.da INFO    Did not find nuisance parameters\n",
      "18:11 madminer.analysis.da INFO    Found 6 benchmarks\n",
      "18:11 madminer.analysis.da INFO    Found 1 observables\n",
      "18:11 madminer.analysis.da INFO    Found 100 events\n",
      "18:11 madminer.analysis.da INFO      0 signal events sampled from benchmark SM\n",
      "18:11 madminer.analysis.da INFO      0 signal events sampled from benchmark morphing_basis_vector_1\n",
      "18:11 madminer.analysis.da INFO      100 signal events sampled from benchmark morphing_basis_vector_2\n",
      "18:11 madminer.analysis.da INFO      0 signal events sampled from benchmark morphing_basis_vector_3\n",
      "18:11 madminer.analysis.da INFO      0 signal events sampled from benchmark morphing_basis_vector_4\n",
      "18:11 madminer.analysis.da INFO      0 signal events sampled from benchmark morphing_basis_vector_5\n",
      "18:11 madminer.analysis.da INFO    Found morphing setup with 6 components\n",
      "18:11 madminer.analysis.da INFO    Did not find nuisance morphing setup\n",
      "18:11 madminer.sampling.sa INFO    Starting cross-section calculation\n",
      "18:11 madminer.utils.inter INFO    HDF5 file does not contain nuisance parameters information\n",
      "18:11 madminer.utils.inter INFO    HDF5 file does not contain finite difference information\n",
      "18:11 madminer.utils.inter INFO    HDF5 file does not contain observables information\n",
      "18:11 madminer.utils.inter INFO    HDF5 file does not contain sample summary information\n",
      "18:11 madminer.utils.inter INFO    HDF5 file does not contain sample information\n",
      "18:11 madminer.utils.inter INFO    HDF5 file does not contain systematic information\n",
      "18:11 madminer.lhe.lhe_rea INFO    Analysing LHE sample mg_processes/signal_3/Events/run_01/unweighted_events.lhe.gz: Calculating 1 observables, requiring 0 selection cuts, using 0 efficiency factors, associated with no systematics\n"
     ]
    },
    {
     "name": "stdout",
     "output_type": "stream",
     "text": [
      "Parallelize:  False\n"
     ]
    },
    {
     "name": "stderr",
     "output_type": "stream",
     "text": [
      "18:11 madminer.lhe.lhe_rea INFO    Analysed number of events per sampling benchmark:\n",
      "18:11 madminer.lhe.lhe_rea INFO      100 from morphing_basis_vector_3\n",
      "18:11 madminer.analysis.da INFO    Loading data from data/lhe_data_3.h5\n",
      "18:11 madminer.utils.inter INFO    HDF5 file does not contain nuisance parameters information\n",
      "18:11 madminer.utils.inter INFO    HDF5 file does not contain finite difference information\n",
      "18:11 madminer.utils.inter INFO    HDF5 file does not contain systematic information\n",
      "18:11 madminer.analysis.da INFO    Found 2 parameters\n",
      "18:11 madminer.analysis.da INFO      0: CWL2 (LHA: dim6 2, Power: 2, Range: (0.0, 1.0))\n",
      "18:11 madminer.analysis.da INFO      1: CPWL2 (LHA: dim6 5, Power: 2, Range: (0.0, 1.0))\n",
      "18:11 madminer.analysis.da INFO    Did not find nuisance parameters\n",
      "18:11 madminer.analysis.da INFO    Found 6 benchmarks\n",
      "18:11 madminer.analysis.da INFO    Found 1 observables\n",
      "18:11 madminer.analysis.da INFO    Found 100 events\n",
      "18:11 madminer.analysis.da INFO      0 signal events sampled from benchmark SM\n",
      "18:11 madminer.analysis.da INFO      0 signal events sampled from benchmark morphing_basis_vector_1\n",
      "18:11 madminer.analysis.da INFO      0 signal events sampled from benchmark morphing_basis_vector_2\n",
      "18:11 madminer.analysis.da INFO      100 signal events sampled from benchmark morphing_basis_vector_3\n",
      "18:11 madminer.analysis.da INFO      0 signal events sampled from benchmark morphing_basis_vector_4\n",
      "18:11 madminer.analysis.da INFO      0 signal events sampled from benchmark morphing_basis_vector_5\n",
      "18:11 madminer.analysis.da INFO    Found morphing setup with 6 components\n",
      "18:11 madminer.analysis.da INFO    Did not find nuisance morphing setup\n",
      "18:11 madminer.sampling.sa INFO    Starting cross-section calculation\n",
      "18:11 madminer.utils.inter INFO    HDF5 file does not contain nuisance parameters information\n",
      "18:11 madminer.utils.inter INFO    HDF5 file does not contain finite difference information\n",
      "18:11 madminer.utils.inter INFO    HDF5 file does not contain observables information\n",
      "18:11 madminer.utils.inter INFO    HDF5 file does not contain sample summary information\n",
      "18:11 madminer.utils.inter INFO    HDF5 file does not contain sample information\n",
      "18:11 madminer.utils.inter INFO    HDF5 file does not contain systematic information\n",
      "18:11 madminer.lhe.lhe_rea INFO    Analysing LHE sample mg_processes/signal_4/Events/run_01/unweighted_events.lhe.gz: Calculating 1 observables, requiring 0 selection cuts, using 0 efficiency factors, associated with no systematics\n"
     ]
    },
    {
     "name": "stdout",
     "output_type": "stream",
     "text": [
      "Parallelize:  False\n"
     ]
    },
    {
     "name": "stderr",
     "output_type": "stream",
     "text": [
      "18:11 madminer.lhe.lhe_rea INFO    Analysed number of events per sampling benchmark:\n",
      "18:11 madminer.lhe.lhe_rea INFO      100 from morphing_basis_vector_4\n",
      "18:11 madminer.analysis.da INFO    Loading data from data/lhe_data_4.h5\n",
      "18:11 madminer.utils.inter INFO    HDF5 file does not contain nuisance parameters information\n",
      "18:11 madminer.utils.inter INFO    HDF5 file does not contain finite difference information\n",
      "18:11 madminer.utils.inter INFO    HDF5 file does not contain systematic information\n",
      "18:11 madminer.analysis.da INFO    Found 2 parameters\n",
      "18:11 madminer.analysis.da INFO      0: CWL2 (LHA: dim6 2, Power: 2, Range: (0.0, 1.0))\n",
      "18:11 madminer.analysis.da INFO      1: CPWL2 (LHA: dim6 5, Power: 2, Range: (0.0, 1.0))\n",
      "18:11 madminer.analysis.da INFO    Did not find nuisance parameters\n",
      "18:11 madminer.analysis.da INFO    Found 6 benchmarks\n",
      "18:11 madminer.analysis.da INFO    Found 1 observables\n",
      "18:11 madminer.analysis.da INFO    Found 100 events\n",
      "18:11 madminer.analysis.da INFO      0 signal events sampled from benchmark SM\n",
      "18:11 madminer.analysis.da INFO      0 signal events sampled from benchmark morphing_basis_vector_1\n",
      "18:11 madminer.analysis.da INFO      0 signal events sampled from benchmark morphing_basis_vector_2\n",
      "18:11 madminer.analysis.da INFO      0 signal events sampled from benchmark morphing_basis_vector_3\n",
      "18:11 madminer.analysis.da INFO      100 signal events sampled from benchmark morphing_basis_vector_4\n",
      "18:11 madminer.analysis.da INFO      0 signal events sampled from benchmark morphing_basis_vector_5\n",
      "18:11 madminer.analysis.da INFO    Found morphing setup with 6 components\n",
      "18:11 madminer.analysis.da INFO    Did not find nuisance morphing setup\n",
      "18:11 madminer.sampling.sa INFO    Starting cross-section calculation\n",
      "18:11 madminer.utils.inter INFO    HDF5 file does not contain nuisance parameters information\n",
      "18:11 madminer.utils.inter INFO    HDF5 file does not contain finite difference information\n",
      "18:11 madminer.utils.inter INFO    HDF5 file does not contain observables information\n",
      "18:11 madminer.utils.inter INFO    HDF5 file does not contain sample summary information\n",
      "18:11 madminer.utils.inter INFO    HDF5 file does not contain sample information\n",
      "18:11 madminer.utils.inter INFO    HDF5 file does not contain systematic information\n",
      "18:11 madminer.lhe.lhe_rea INFO    Analysing LHE sample mg_processes/signal_5/Events/run_01/unweighted_events.lhe.gz: Calculating 1 observables, requiring 0 selection cuts, using 0 efficiency factors, associated with no systematics\n"
     ]
    },
    {
     "name": "stdout",
     "output_type": "stream",
     "text": [
      "Parallelize:  False\n"
     ]
    },
    {
     "name": "stderr",
     "output_type": "stream",
     "text": [
      "18:11 madminer.lhe.lhe_rea INFO    Analysed number of events per sampling benchmark:\n",
      "18:11 madminer.lhe.lhe_rea INFO      100 from morphing_basis_vector_5\n",
      "18:11 madminer.analysis.da INFO    Loading data from data/lhe_data_5.h5\n",
      "18:11 madminer.utils.inter INFO    HDF5 file does not contain nuisance parameters information\n",
      "18:11 madminer.utils.inter INFO    HDF5 file does not contain finite difference information\n",
      "18:11 madminer.utils.inter INFO    HDF5 file does not contain systematic information\n",
      "18:11 madminer.analysis.da INFO    Found 2 parameters\n",
      "18:11 madminer.analysis.da INFO      0: CWL2 (LHA: dim6 2, Power: 2, Range: (0.0, 1.0))\n",
      "18:11 madminer.analysis.da INFO      1: CPWL2 (LHA: dim6 5, Power: 2, Range: (0.0, 1.0))\n",
      "18:11 madminer.analysis.da INFO    Did not find nuisance parameters\n",
      "18:11 madminer.analysis.da INFO    Found 6 benchmarks\n",
      "18:11 madminer.analysis.da INFO    Found 1 observables\n",
      "18:11 madminer.analysis.da INFO    Found 100 events\n",
      "18:11 madminer.analysis.da INFO      0 signal events sampled from benchmark SM\n",
      "18:11 madminer.analysis.da INFO      0 signal events sampled from benchmark morphing_basis_vector_1\n",
      "18:11 madminer.analysis.da INFO      0 signal events sampled from benchmark morphing_basis_vector_2\n",
      "18:11 madminer.analysis.da INFO      0 signal events sampled from benchmark morphing_basis_vector_3\n",
      "18:11 madminer.analysis.da INFO      0 signal events sampled from benchmark morphing_basis_vector_4\n",
      "18:11 madminer.analysis.da INFO      100 signal events sampled from benchmark morphing_basis_vector_5\n",
      "18:11 madminer.analysis.da INFO    Found morphing setup with 6 components\n",
      "18:11 madminer.analysis.da INFO    Did not find nuisance morphing setup\n",
      "18:11 madminer.sampling.sa INFO    Starting cross-section calculation\n"
     ]
    }
   ],
   "source": [
    "cross_sections = []\n",
    "\n",
    "for j,name in enumerate(list(miner.benchmarks.keys())):\n",
    "    lhe = LHEReader(\"data/setup.h5\")\n",
    "    lhe.add_sample(\n",
    "                lhe_filename=f\"mg_processes/signal_{j}/Events/run_01/unweighted_events.lhe.gz\",\n",
    "                sampled_from_benchmark=name,\n",
    "                is_background=False,\n",
    "                k_factor=1.0,\n",
    "            )\n",
    "    lhe.add_observable(\n",
    "            \"met\",\n",
    "            \"met.pt\",\n",
    "            required=True,\n",
    "        )\n",
    "    lhe.analyse_samples()\n",
    "    lhe.save(f\"data/lhe_data_{j}.h5\")\n",
    "    sampler = SampleAugmenter(f\"data/lhe_data_{j}.h5\")\n",
    "    cross_sections.append(sampler.cross_sections(sampling.benchmark(name))[1][0])\n",
    "\n"
   ]
  },
  {
   "cell_type": "code",
   "execution_count": 7,
   "metadata": {},
   "outputs": [
    {
     "data": {
      "text/plain": [
       "[0.0010321,\n",
       " 0.0010152000000000004,\n",
       " 0.0009954900000000001,\n",
       " 0.0010053999999999998,\n",
       " 0.0010087999999999998,\n",
       " 0.0010210000000000004]"
      ]
     },
     "execution_count": 7,
     "metadata": {},
     "output_type": "execute_result"
    }
   ],
   "source": [
    "cross_sections"
   ]
  },
  {
   "cell_type": "code",
   "execution_count": 8,
   "metadata": {},
   "outputs": [],
   "source": [
    "cross_sections = np.asarray(cross_sections)\n",
    "reduced_cs = cross_sections[1:cross_sections.size]/cross_sections[0]\n",
    "##NOTICE THE NEW SIZE IS N_BENCHMARKS - 1\n",
    "\n",
    "miner.morpher.set_reduced(reduced_cs)"
   ]
  },
  {
   "cell_type": "markdown",
   "metadata": {},
   "source": []
  },
  {
   "cell_type": "code",
   "execution_count": 12,
   "metadata": {},
   "outputs": [
    {
     "data": {
      "text/plain": [
       "-86.28161872156412"
      ]
     },
     "execution_count": 12,
     "metadata": {},
     "output_type": "execute_result"
    }
   ],
   "source": [
    "miner.morpher.reduced_sigma_morphing([100,0])"
   ]
  },
  {
   "attachments": {},
   "cell_type": "markdown",
   "metadata": {},
   "source": [
    "Now we have all ingredients to set up the morphing ratio"
   ]
  },
  {
   "cell_type": "code",
   "execution_count": 10,
   "metadata": {},
   "outputs": [
    {
     "name": "stderr",
     "output_type": "stream",
     "text": [
      "18:06 madminer.core.madmin INFO    Optimizing basis for morphing the ratio\n",
      "18:06 madminer.core.madmin WARNING Reset morphing\n",
      "18:06 madminer.core.madmin INFO    Testing out\n"
     ]
    }
   ],
   "source": [
    "miner.ratio_set_morphing(max_overall_power=2)"
   ]
  },
  {
   "attachments": {},
   "cell_type": "markdown",
   "metadata": {},
   "source": [
    "Now I have decided the actual benchmark points. One needs to run again a simulation at each of this (can skip the SM one since it was already covered during the cs morphing optimizaiton)"
   ]
  },
  {
   "cell_type": "code",
   "execution_count": null,
   "metadata": {},
   "outputs": [],
   "source": []
  },
  {
   "cell_type": "code",
   "execution_count": 13,
   "metadata": {},
   "outputs": [
    {
     "data": {
      "text/plain": [
       "array([[ 0.        ,  0.        ],\n",
       "       [-1.42445931,  3.11562036],\n",
       "       [ 3.74226954,  0.04647379],\n",
       "       [-3.19876543, -0.70794254],\n",
       "       [ 0.96687952,  3.05877296],\n",
       "       [ 0.51246848, -3.30170123]])"
      ]
     },
     "execution_count": 13,
     "metadata": {},
     "output_type": "execute_result"
    }
   ],
   "source": [
    "miner.morpher.basis"
   ]
  },
  {
   "cell_type": "code",
   "execution_count": 11,
   "metadata": {},
   "outputs": [
    {
     "name": "stderr",
     "output_type": "stream",
     "text": [
      "18:07 madminer.core.madmin INFO    Saving setup (including morphing) to data/ratio_setup.h5\n"
     ]
    }
   ],
   "source": [
    "miner.save(\"data/ratio_setup.h5\") "
   ]
  },
  {
   "attachments": {},
   "cell_type": "markdown",
   "metadata": {},
   "source": [
    "Now I have morphed the ratio finding a good basis: we just need to run the simulation at the points and then train the NNs"
   ]
  },
  {
   "cell_type": "code",
   "execution_count": 12,
   "metadata": {},
   "outputs": [
    {
     "data": {
      "text/plain": [
       "18.76887939185563"
      ]
     },
     "execution_count": 12,
     "metadata": {},
     "output_type": "execute_result"
    }
   ],
   "source": [
    "np.linalg.cond(miner.morpher.morphing_matrix)"
   ]
  },
  {
   "cell_type": "code",
   "execution_count": null,
   "metadata": {},
   "outputs": [],
   "source": []
  }
 ],
 "metadata": {
  "kernelspec": {
   "display_name": "environment",
   "language": "python",
   "name": "python3"
  },
  "language_info": {
   "codemirror_mode": {
    "name": "ipython",
    "version": 3
   },
   "file_extension": ".py",
   "mimetype": "text/x-python",
   "name": "python",
   "nbconvert_exporter": "python",
   "pygments_lexer": "ipython3",
   "version": "3.11.2"
  },
  "orig_nbformat": 4
 },
 "nbformat": 4,
 "nbformat_minor": 2
}

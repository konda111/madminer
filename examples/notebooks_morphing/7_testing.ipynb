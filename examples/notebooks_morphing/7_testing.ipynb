{
 "cells": [
  {
   "cell_type": "code",
   "execution_count": 1,
   "metadata": {},
   "outputs": [],
   "source": [
    "import logging\n",
    "import sys\n",
    "sys.path.append('/remote/gpu02/crescenzo/MadMiner')\n",
    "from madminer.lhe import LHEReader\n",
    "from madminer.sampling import SampleAugmenter\n",
    "from madminer import sampling"
   ]
  },
  {
   "cell_type": "code",
   "execution_count": 2,
   "metadata": {},
   "outputs": [],
   "source": [
    "# MadMiner output\n",
    "logging.basicConfig(\n",
    "    format=\"%(asctime)-5.5s %(name)-20.20s %(levelname)-7.7s %(message)s\",\n",
    "    datefmt=\"%H:%M\",\n",
    "    level=logging.INFO,\n",
    ")\n",
    "\n",
    "# Output of all other modules (e.g. matplotlib)\n",
    "for key in logging.Logger.manager.loggerDict:\n",
    "    if \"madminer\" not in key:\n",
    "        logging.getLogger(key).setLevel(logging.WARNING)"
   ]
  },
  {
   "cell_type": "code",
   "execution_count": 3,
   "metadata": {},
   "outputs": [],
   "source": [
    "from madminer import MadMiner\n",
    "import numpy as np"
   ]
  },
  {
   "cell_type": "code",
   "execution_count": 4,
   "metadata": {},
   "outputs": [
    {
     "name": "stderr",
     "output_type": "stream",
     "text": [
      "10:44 madminer.utils.inter INFO    HDF5 file does not contain nuisance parameters information\n",
      "10:44 madminer.utils.inter INFO    HDF5 file does not contain finite difference information\n",
      "10:44 madminer.utils.inter INFO    HDF5 file does not contain observables information\n",
      "10:44 madminer.utils.inter INFO    HDF5 file does not contain sample summary information\n",
      "10:44 madminer.utils.inter INFO    HDF5 file does not contain sample information\n",
      "10:44 madminer.utils.inter INFO    HDF5 file does not contain systematic information\n",
      "10:44 madminer.core.madmin INFO    Found 2 parameters:\n",
      "10:44 madminer.core.madmin INFO       CWL2 (LHA: dim6 2, Power: 2, Range: (0.0, 1.0))\n",
      "10:44 madminer.core.madmin INFO       CPWL2 (LHA: dim6 5, Power: 2, Range: (0.0, 1.0))\n",
      "10:44 madminer.core.madmin INFO    Found 6 benchmarks:\n",
      "10:44 madminer.core.madmin INFO       SM: CWL2 = 0.00e+00, CPWL2 = 0.00e+00\n",
      "10:44 madminer.core.madmin INFO       morphing_basis_vector_1: CWL2 = -1.13e+00, CPWL2 = 1.17\n",
      "10:44 madminer.core.madmin INFO       morphing_basis_vector_2: CWL2 = 1.26, CPWL2 = -3.27e-01\n",
      "10:44 madminer.core.madmin INFO       morphing_basis_vector_3: CWL2 = 0.27, CPWL2 = -1.26e+00\n",
      "10:44 madminer.core.madmin INFO       morphing_basis_vector_4: CWL2 = -1.24e+00, CPWL2 = -7.52e-01\n",
      "10:44 madminer.core.madmin INFO       morphing_basis_vector_5: CWL2 = 0.89, CPWL2 = 1.33\n",
      "10:44 madminer.core.madmin INFO    Found morphing setup with 6 components\n",
      "10:44 madminer.core.madmin INFO    Did not find systematics setup.\n"
     ]
    }
   ],
   "source": [
    "miner = MadMiner()\n",
    "\n",
    "miner.load(\"data/ratio_setup.h5\")"
   ]
  },
  {
   "cell_type": "code",
   "execution_count": 5,
   "metadata": {},
   "outputs": [],
   "source": [
    "from madminer.utils.interfaces import _load_samples"
   ]
  },
  {
   "cell_type": "code",
   "execution_count": 14,
   "metadata": {},
   "outputs": [
    {
     "data": {
      "text/plain": [
       "array([[1.0321000e-05, 1.0353586e-05, 1.0211051e-05, 1.0387474e-05,\n",
       "        1.0511295e-05, 1.0125743e-05],\n",
       "       [1.0321000e-05, 1.0331501e-05, 1.0317576e-05, 1.0311078e-05,\n",
       "        1.0315850e-05, 1.0331610e-05],\n",
       "       [1.0321000e-05, 1.0023204e-05, 1.0409990e-05, 1.0654045e-05,\n",
       "        1.0514431e-05, 9.9910191e-06],\n",
       "       [1.0321000e-05, 1.0443194e-05, 1.0242604e-05, 1.0234324e-05,\n",
       "        1.0334629e-05, 1.0357816e-05],\n",
       "       [1.0321000e-05, 1.0242565e-05, 1.0189873e-05, 1.0561356e-05,\n",
       "        1.0695197e-05, 9.8811046e-06],\n",
       "       [1.0321000e-05, 1.0052026e-05, 1.0177195e-05, 1.0840183e-05,\n",
       "        1.0964127e-05, 9.5193659e-06],\n",
       "       [1.0321000e-05, 1.0522754e-05, 1.0013672e-05, 1.0358908e-05,\n",
       "        1.0722507e-05, 9.9684495e-06],\n",
       "       [1.0321000e-05, 1.1187562e-05, 9.7661518e-06, 9.7394080e-06,\n",
       "        1.0448117e-05, 1.0543392e-05],\n",
       "       [1.0321000e-05, 1.0334268e-05, 1.0222546e-05, 1.0402117e-05,\n",
       "        1.0510943e-05, 1.0117909e-05],\n",
       "       [1.0321000e-05, 1.1275826e-05, 9.5888786e-06, 9.8223876e-06,\n",
       "        1.0742050e-05, 1.0278018e-05],\n",
       "       [1.0321000e-05, 1.3117569e-05, 9.6904543e-06, 7.9723685e-06,\n",
       "        8.7929808e-06, 1.3411324e-05],\n",
       "       [1.0321000e-05, 1.0119516e-05, 1.0392518e-05, 1.0529909e-05,\n",
       "        1.0424878e-05, 1.0124836e-05],\n",
       "       [1.0321000e-05, 1.0606242e-05, 1.0184530e-05, 1.0075343e-05,\n",
       "        1.0258130e-05, 1.0512451e-05],\n",
       "       [1.0321000e-05, 1.1755421e-05, 9.2707269e-06, 9.5322324e-06,\n",
       "        1.0867788e-05, 1.0315644e-05],\n",
       "       [1.0321000e-05, 1.1232656e-05, 9.7244793e-06, 9.7932867e-06,\n",
       "        1.0534253e-05, 1.0480844e-05],\n",
       "       [1.0321000e-05, 1.0300005e-05, 1.0238156e-05, 1.0433187e-05,\n",
       "        1.0520613e-05, 1.0092940e-05],\n",
       "       [1.0321000e-05, 1.0411442e-05, 1.0276793e-05, 1.0242873e-05,\n",
       "        1.0302140e-05, 1.0380453e-05],\n",
       "       [1.0321000e-05, 1.0327342e-05, 1.0230693e-05, 1.0403368e-05,\n",
       "        1.0502384e-05, 1.0124305e-05],\n",
       "       [1.0321000e-05, 1.0821895e-05, 1.0183935e-05, 9.8094628e-06,\n",
       "        1.0012958e-05, 1.0885443e-05],\n",
       "       [1.0321000e-05, 1.0490082e-05, 1.0234588e-05, 1.0179436e-05,\n",
       "        1.0294155e-05, 1.0422766e-05],\n",
       "       [1.0321000e-05, 1.0581492e-05, 9.6084149e-06, 1.0702163e-05,\n",
       "        1.1548245e-05, 9.1437172e-06],\n",
       "       [1.0321000e-05, 1.0554191e-05, 1.0050171e-05, 1.0279286e-05,\n",
       "        1.0605146e-05, 1.0107850e-05],\n",
       "       [1.0321000e-05, 1.0427365e-05, 1.0221638e-05, 1.0276742e-05,\n",
       "        1.0397968e-05, 1.0281037e-05],\n",
       "       [1.0321000e-05, 1.0297737e-05, 1.0322929e-05, 1.0350732e-05,\n",
       "        1.0345627e-05, 1.0283821e-05],\n",
       "       [1.0321000e-05, 1.0525610e-05, 1.0161394e-05, 1.0205245e-05,\n",
       "        1.0404234e-05, 1.0315626e-05],\n",
       "       [1.0321000e-05, 1.0293664e-05, 1.0228546e-05, 1.0451670e-05,\n",
       "        1.0548856e-05, 1.0059617e-05],\n",
       "       [1.0321000e-05, 1.0278758e-05, 1.0244606e-05, 1.0455676e-05,\n",
       "        1.0533363e-05, 1.0070155e-05],\n",
       "       [1.0321000e-05, 1.0219009e-05, 1.0295678e-05, 1.0486088e-05,\n",
       "        1.0500351e-05, 1.0080884e-05],\n",
       "       [1.0321000e-05, 1.0148918e-05, 1.0091282e-05, 1.0793878e-05,\n",
       "        1.1027142e-05, 9.4941893e-06],\n",
       "       [1.0321000e-05, 1.0466176e-05, 1.0136728e-05, 1.0309978e-05,\n",
       "        1.0529333e-05, 1.0153358e-05],\n",
       "       [1.0321000e-05, 1.0915511e-05, 1.0028032e-05, 9.8270818e-06,\n",
       "        1.0215499e-05, 1.0691123e-05],\n",
       "       [1.0321000e-05, 1.0268888e-05, 1.0326576e-05, 1.0386530e-05,\n",
       "        1.0373721e-05, 1.0240692e-05],\n",
       "       [1.0321000e-05, 1.1380170e-05, 8.9073079e-06, 1.0404005e-05,\n",
       "        1.2190418e-05, 8.8365111e-06],\n",
       "       [1.0321000e-05, 1.0172400e-05, 1.0295907e-05, 1.0550183e-05,\n",
       "        1.0558037e-05, 9.9986433e-06],\n",
       "       [1.0321000e-05, 1.0813808e-05, 9.7769670e-06, 1.0212378e-05,\n",
       "        1.0876933e-05, 9.9238682e-06],\n",
       "       [1.0321000e-05, 1.0657622e-05, 9.9052896e-06, 1.0292068e-05,\n",
       "        1.0792225e-05, 9.9509479e-06],\n",
       "       [1.0321000e-05, 1.0551533e-05, 1.0131033e-05, 1.0202577e-05,\n",
       "        1.0437582e-05, 1.0290273e-05],\n",
       "       [1.0321000e-05, 1.0669263e-05, 1.0227988e-05, 9.9611646e-06,\n",
       "        1.0100899e-05, 1.0718388e-05],\n",
       "       [1.0321000e-05, 1.0261870e-05, 1.0222642e-05, 1.0501437e-05,\n",
       "        1.0601115e-05, 9.9902525e-06],\n",
       "       [1.0321000e-05, 1.0225488e-05, 1.0324992e-05, 1.0447523e-05,\n",
       "        1.0430713e-05, 1.0159486e-05],\n",
       "       [1.0321000e-05, 1.1404700e-05, 9.7305299e-06, 9.5111539e-06,\n",
       "        1.0277154e-05, 1.0824442e-05],\n",
       "       [1.0321000e-05, 1.0477677e-05, 1.0037696e-05, 1.0395491e-05,\n",
       "        1.0726946e-05, 9.9450498e-06],\n",
       "       [1.0321000e-05, 1.0746403e-05, 1.0037050e-05, 1.0037362e-05,\n",
       "        1.0398454e-05, 1.0414813e-05],\n",
       "       [1.0321000e-05, 1.0122079e-05, 1.0362653e-05, 1.0554595e-05,\n",
       "        1.0483126e-05, 1.0062583e-05],\n",
       "       [1.0321000e-05, 1.0408636e-05, 1.0172302e-05, 1.0351879e-05,\n",
       "        1.0525073e-05, 1.0133833e-05],\n",
       "       [1.0321000e-05, 1.0055905e-05, 1.0096830e-05, 1.0918225e-05,\n",
       "        1.1133858e-05, 9.3473788e-06],\n",
       "       [1.0321000e-05, 1.0563121e-05, 1.0179188e-05, 1.0137309e-05,\n",
       "        1.0321154e-05, 1.0423655e-05],\n",
       "       [1.0321000e-05, 1.0374427e-05, 1.0299175e-05, 1.0270490e-05,\n",
       "        1.0300880e-05, 1.0366117e-05],\n",
       "       [1.0321000e-05, 1.0384054e-05, 1.0022807e-05, 1.0539772e-05,\n",
       "        1.0877540e-05, 9.7466808e-06],\n",
       "       [1.0321000e-05, 1.0766886e-05, 1.0126352e-05, 9.9296406e-06,\n",
       "        1.0191890e-05, 1.0656388e-05],\n",
       "       [1.0321000e-05, 1.0348765e-05, 1.0305859e-05, 1.0298485e-05,\n",
       "        1.0318400e-05, 1.0335708e-05],\n",
       "       [1.0321000e-05, 1.0442451e-05, 1.0199344e-05, 1.0278874e-05,\n",
       "        1.0426324e-05, 1.0256205e-05],\n",
       "       [1.0321000e-05, 1.0473733e-05, 1.0218495e-05, 1.0217444e-05,\n",
       "        1.0347722e-05, 1.0356220e-05],\n",
       "       [1.0321000e-05, 1.0855934e-05, 1.0087324e-05, 9.8463494e-06,\n",
       "        1.0162844e-05, 1.0725811e-05],\n",
       "       [1.0321000e-05, 1.1110864e-05, 9.6102086e-06, 9.9952441e-06,\n",
       "        1.0880517e-05, 1.0040759e-05],\n",
       "       [1.0321000e-05, 1.0449687e-05, 1.0244644e-05, 1.0223548e-05,\n",
       "        1.0322431e-05, 1.0374125e-05],\n",
       "       [1.0321000e-05, 1.0279120e-05, 1.0327509e-05, 1.0371539e-05,\n",
       "        1.0359063e-05, 1.0261081e-05],\n",
       "       [1.0321000e-05, 1.0164717e-05, 1.0146188e-05, 1.0715058e-05,\n",
       "        1.0888449e-05, 9.6447366e-06],\n",
       "       [1.0321000e-05, 1.0436325e-05, 1.0072350e-05, 1.0415752e-05,\n",
       "        1.0703642e-05, 9.9527201e-06],\n",
       "       [1.0321000e-05, 1.1050944e-05, 9.8957996e-06, 9.7837287e-06,\n",
       "        1.0332850e-05, 1.0615529e-05],\n",
       "       [1.0321000e-05, 1.0792179e-05, 9.9475000e-06, 1.0067589e-05,\n",
       "        1.0533881e-05, 1.0285206e-05],\n",
       "       [1.0321000e-05, 1.0242294e-05, 1.0293831e-05, 1.0455896e-05,\n",
       "        1.0475121e-05, 1.0118089e-05],\n",
       "       [1.0321000e-05, 1.0301204e-05, 1.0264448e-05, 1.0404911e-05,\n",
       "        1.0463719e-05, 1.0155452e-05],\n",
       "       [1.0321000e-05, 1.2240567e-05, 8.8206082e-06, 9.4080955e-06,\n",
       "        1.1329818e-05, 1.0014050e-05],\n",
       "       [1.0321000e-05, 1.0910457e-05, 1.0019071e-05, 9.8419207e-06,\n",
       "        1.0239918e-05, 1.0661536e-05],\n",
       "       [1.0321000e-05, 1.0416289e-05, 1.0271235e-05, 1.0241884e-05,\n",
       "        1.0307780e-05, 1.0376234e-05],\n",
       "       [1.0321000e-05, 1.0548417e-05, 1.0205830e-05, 1.0130312e-05,\n",
       "        1.0283278e-05, 1.0459689e-05],\n",
       "       [1.0321000e-05, 1.0259436e-05, 1.0326524e-05, 1.0399627e-05,\n",
       "        1.0385603e-05, 1.0223705e-05],\n",
       "       [1.0321000e-05, 1.0609851e-05, 1.0076483e-05, 1.0178214e-05,\n",
       "        1.0480728e-05, 1.0266752e-05],\n",
       "       [1.0321000e-05, 1.2392542e-05, 8.8974620e-06, 9.1495481e-06,\n",
       "        1.0972468e-05, 1.0451876e-05],\n",
       "       [1.0321000e-05, 1.0654528e-05, 1.0122680e-05, 1.0072571e-05,\n",
       "        1.0328811e-05, 1.0453682e-05],\n",
       "       [1.0321000e-05, 1.1113604e-05, 9.8559936e-06, 9.7435094e-06,\n",
       "        1.0343340e-05, 1.0630037e-05],\n",
       "       [1.0321000e-05, 1.0623732e-05, 1.0105885e-05, 1.0130684e-05,\n",
       "        1.0402169e-05, 1.0360395e-05],\n",
       "       [1.0321000e-05, 1.0521849e-05, 1.0209022e-05, 1.0162537e-05,\n",
       "        1.0308908e-05, 1.0419779e-05],\n",
       "       [1.0321000e-05, 1.1235568e-05, 9.8355859e-06, 9.6103778e-06,\n",
       "        1.0244602e-05, 1.0793237e-05],\n",
       "       [1.0321000e-05, 1.0383325e-05, 1.0306221e-05, 1.0252259e-05,\n",
       "        1.0275920e-05, 1.0398096e-05],\n",
       "       [1.0321000e-05, 1.0674938e-05, 9.9716280e-06, 1.0197676e-05,\n",
       "        1.0624920e-05, 1.0136641e-05],\n",
       "       [1.0321000e-05, 1.0662656e-05, 1.0074801e-05, 1.0109819e-05,\n",
       "        1.0419957e-05, 1.0355926e-05],\n",
       "       [1.0321000e-05, 1.1017511e-05, 9.8238020e-06, 9.8988182e-06,\n",
       "        1.0526998e-05, 1.0385785e-05],\n",
       "       [1.0321000e-05, 1.0204851e-05, 1.0314519e-05, 1.0486503e-05,\n",
       "        1.0478347e-05, 1.0098760e-05],\n",
       "       [1.0321000e-05, 9.8857278e-06, 1.0423521e-05, 1.0826220e-05,\n",
       "        1.0655760e-05, 9.7799725e-06],\n",
       "       [1.0321000e-05, 1.0679870e-05, 1.0126839e-05, 1.0035271e-05,\n",
       "        1.0290195e-05, 1.0508005e-05],\n",
       "       [1.0321000e-05, 1.0644724e-05, 1.0123940e-05, 1.0084263e-05,\n",
       "        1.0338039e-05, 1.0439271e-05],\n",
       "       [1.0321000e-05, 1.0328278e-05, 1.0234576e-05, 1.0398097e-05,\n",
       "        1.0492986e-05, 1.0134958e-05],\n",
       "       [1.0321000e-05, 1.0426444e-05, 1.0259064e-05, 1.0241383e-05,\n",
       "        1.0321433e-05, 1.0365716e-05],\n",
       "       [1.0321000e-05, 1.1583848e-05, 9.1826319e-06, 9.8352579e-06,\n",
       "        1.1272349e-05, 9.8181991e-06],\n",
       "       [1.0321000e-05, 1.0340068e-05, 1.0277658e-05, 1.0338606e-05,\n",
       "        1.0387956e-05, 1.0255068e-05],\n",
       "       [1.0321000e-05, 1.0300628e-05, 1.0272437e-05, 1.0397633e-05,\n",
       "        1.0447656e-05, 1.0172777e-05],\n",
       "       [1.0321000e-05, 1.0211285e-05, 1.0332326e-05, 1.0459675e-05,\n",
       "        1.0433047e-05, 1.0150944e-05],\n",
       "       [1.0321000e-05, 1.1481239e-05, 9.9503337e-06, 9.2322663e-06,\n",
       "        9.7496690e-06, 1.1475149e-05],\n",
       "       [1.0321000e-05, 1.0260389e-05, 1.0354170e-05, 1.0371219e-05,\n",
       "        1.0327315e-05, 1.0288856e-05],\n",
       "       [1.0321000e-05, 1.0625445e-05, 9.7599283e-06, 1.0481642e-05,\n",
       "        1.1149481e-05, 9.5628744e-06],\n",
       "       [1.0321000e-05, 1.0288605e-05, 1.0365910e-05, 1.0324724e-05,\n",
       "        1.0270804e-05, 1.0365284e-05],\n",
       "       [1.0321000e-05, 1.0523604e-05, 1.0134270e-05, 1.0235279e-05,\n",
       "        1.0463955e-05, 1.0249043e-05],\n",
       "       [1.0321000e-05, 1.0288908e-05, 1.0304113e-05, 1.0381700e-05,\n",
       "        1.0395797e-05, 1.0224744e-05],\n",
       "       [1.0321000e-05, 1.0728440e-05, 9.9964903e-06, 1.0102050e-05,\n",
       "        1.0506664e-05, 1.0288508e-05],\n",
       "       [1.0321000e-05, 1.2113975e-05, 8.5615522e-06, 9.8347808e-06,\n",
       "        1.2108634e-05, 9.1843062e-06],\n",
       "       [1.0321000e-05, 1.1558669e-05, 1.0067808e-05, 9.0954869e-06,\n",
       "        9.4797891e-06, 1.1832213e-05],\n",
       "       [1.0321000e-05, 1.0254848e-05, 1.0273903e-05, 1.0458883e-05,\n",
       "        1.0501528e-05, 1.0094691e-05],\n",
       "       [1.0321000e-05, 1.0681398e-05, 1.0097497e-05, 1.0062388e-05,\n",
       "        1.0349365e-05, 1.0442076e-05]])"
      ]
     },
     "execution_count": 14,
     "metadata": {},
     "output_type": "execute_result"
    }
   ],
   "source": []
  },
  {
   "cell_type": "code",
   "execution_count": 6,
   "metadata": {},
   "outputs": [
    {
     "name": "stderr",
     "output_type": "stream",
     "text": [
      "10:25 madminer.utils.inter INFO    HDF5 file does not contain nuisance parameters information\n",
      "10:25 madminer.utils.inter INFO    HDF5 file does not contain finite difference information\n",
      "10:25 madminer.utils.inter INFO    HDF5 file does not contain observables information\n",
      "10:25 madminer.utils.inter INFO    HDF5 file does not contain sample summary information\n",
      "10:25 madminer.utils.inter INFO    HDF5 file does not contain sample information\n",
      "10:25 madminer.utils.inter INFO    HDF5 file does not contain systematic information\n",
      "10:25 madminer.lhe.lhe_rea INFO    Analysing LHE sample mg_processes/ratio_signal_0/Events/run_01/unweighted_events.lhe.gz: Calculating 3 observables, requiring 3 selection cuts, using 0 efficiency factors, associated with no systematics\n"
     ]
    },
    {
     "name": "stdout",
     "output_type": "stream",
     "text": [
      "Parallelize:  False\n"
     ]
    },
    {
     "name": "stderr",
     "output_type": "stream",
     "text": [
      "10:25 madminer.utils.inter INFO      100 / 100 events pass cut Cut(name='CUT', val_expression='(a[0] + a[1]).m > 122.0', is_required=False)\n",
      "10:25 madminer.utils.inter INFO      100 / 100 events pass cut Cut(name='CUT', val_expression='(a[0] + a[1]).m < 128.0', is_required=False)\n",
      "10:25 madminer.utils.inter INFO      100 / 100 events pass cut Cut(name='CUT', val_expression='pt_j1 > 20.0', is_required=False)\n",
      "10:25 madminer.utils.inter INFO      100 events pass all cuts/efficiencies\n",
      "10:25 madminer.lhe.lhe_rea INFO    Analysed number of events per sampling benchmark:\n",
      "10:25 madminer.lhe.lhe_rea INFO      100 from SM\n",
      "10:25 madminer.utils.inter INFO    HDF5 file does not contain nuisance parameters information\n",
      "10:25 madminer.utils.inter INFO    HDF5 file does not contain finite difference information\n",
      "10:25 madminer.utils.inter INFO    HDF5 file does not contain observables information\n",
      "10:25 madminer.utils.inter INFO    HDF5 file does not contain sample summary information\n",
      "10:25 madminer.utils.inter INFO    HDF5 file does not contain sample information\n",
      "10:25 madminer.utils.inter INFO    HDF5 file does not contain systematic information\n",
      "10:25 madminer.lhe.lhe_rea INFO    Analysing LHE sample mg_processes/ratio_signal_1/Events/run_01/unweighted_events.lhe.gz: Calculating 3 observables, requiring 3 selection cuts, using 0 efficiency factors, associated with no systematics\n"
     ]
    },
    {
     "name": "stdout",
     "output_type": "stream",
     "text": [
      "Parallelize:  False\n"
     ]
    },
    {
     "name": "stderr",
     "output_type": "stream",
     "text": [
      "10:25 madminer.utils.inter INFO      100 / 100 events pass cut Cut(name='CUT', val_expression='(a[0] + a[1]).m > 122.0', is_required=False)\n",
      "10:25 madminer.utils.inter INFO      100 / 100 events pass cut Cut(name='CUT', val_expression='(a[0] + a[1]).m < 128.0', is_required=False)\n",
      "10:25 madminer.utils.inter INFO      100 / 100 events pass cut Cut(name='CUT', val_expression='pt_j1 > 20.0', is_required=False)\n",
      "10:25 madminer.utils.inter INFO      100 events pass all cuts/efficiencies\n",
      "10:25 madminer.lhe.lhe_rea INFO    Analysed number of events per sampling benchmark:\n",
      "10:25 madminer.lhe.lhe_rea INFO      100 from morphing_basis_vector_1\n",
      "10:25 madminer.utils.inter INFO    HDF5 file does not contain nuisance parameters information\n",
      "10:25 madminer.utils.inter INFO    HDF5 file does not contain finite difference information\n",
      "10:25 madminer.utils.inter INFO    HDF5 file does not contain observables information\n",
      "10:25 madminer.utils.inter INFO    HDF5 file does not contain sample summary information\n",
      "10:25 madminer.utils.inter INFO    HDF5 file does not contain sample information\n",
      "10:25 madminer.utils.inter INFO    HDF5 file does not contain systematic information\n",
      "10:25 madminer.lhe.lhe_rea INFO    Analysing LHE sample mg_processes/ratio_signal_2/Events/run_01/unweighted_events.lhe.gz: Calculating 3 observables, requiring 3 selection cuts, using 0 efficiency factors, associated with no systematics\n"
     ]
    },
    {
     "name": "stdout",
     "output_type": "stream",
     "text": [
      "Parallelize:  False\n"
     ]
    },
    {
     "name": "stderr",
     "output_type": "stream",
     "text": [
      "10:25 madminer.utils.inter INFO      100 / 100 events pass cut Cut(name='CUT', val_expression='(a[0] + a[1]).m > 122.0', is_required=False)\n",
      "10:25 madminer.utils.inter INFO      100 / 100 events pass cut Cut(name='CUT', val_expression='(a[0] + a[1]).m < 128.0', is_required=False)\n",
      "10:25 madminer.utils.inter INFO      100 / 100 events pass cut Cut(name='CUT', val_expression='pt_j1 > 20.0', is_required=False)\n",
      "10:25 madminer.utils.inter INFO      100 events pass all cuts/efficiencies\n",
      "10:25 madminer.lhe.lhe_rea INFO    Analysed number of events per sampling benchmark:\n",
      "10:25 madminer.lhe.lhe_rea INFO      100 from morphing_basis_vector_2\n",
      "10:25 madminer.utils.inter INFO    HDF5 file does not contain nuisance parameters information\n",
      "10:25 madminer.utils.inter INFO    HDF5 file does not contain finite difference information\n",
      "10:25 madminer.utils.inter INFO    HDF5 file does not contain observables information\n",
      "10:25 madminer.utils.inter INFO    HDF5 file does not contain sample summary information\n",
      "10:25 madminer.utils.inter INFO    HDF5 file does not contain sample information\n",
      "10:25 madminer.utils.inter INFO    HDF5 file does not contain systematic information\n",
      "10:25 madminer.lhe.lhe_rea INFO    Analysing LHE sample mg_processes/ratio_signal_3/Events/run_01/unweighted_events.lhe.gz: Calculating 3 observables, requiring 3 selection cuts, using 0 efficiency factors, associated with no systematics\n"
     ]
    },
    {
     "name": "stdout",
     "output_type": "stream",
     "text": [
      "Parallelize:  False\n"
     ]
    },
    {
     "name": "stderr",
     "output_type": "stream",
     "text": [
      "10:25 madminer.utils.inter INFO      100 / 100 events pass cut Cut(name='CUT', val_expression='(a[0] + a[1]).m > 122.0', is_required=False)\n",
      "10:25 madminer.utils.inter INFO      100 / 100 events pass cut Cut(name='CUT', val_expression='(a[0] + a[1]).m < 128.0', is_required=False)\n",
      "10:25 madminer.utils.inter INFO      100 / 100 events pass cut Cut(name='CUT', val_expression='pt_j1 > 20.0', is_required=False)\n",
      "10:25 madminer.utils.inter INFO      100 events pass all cuts/efficiencies\n",
      "10:25 madminer.lhe.lhe_rea INFO    Analysed number of events per sampling benchmark:\n",
      "10:25 madminer.lhe.lhe_rea INFO      100 from morphing_basis_vector_3\n",
      "10:25 madminer.utils.inter INFO    HDF5 file does not contain nuisance parameters information\n",
      "10:25 madminer.utils.inter INFO    HDF5 file does not contain finite difference information\n",
      "10:25 madminer.utils.inter INFO    HDF5 file does not contain observables information\n",
      "10:25 madminer.utils.inter INFO    HDF5 file does not contain sample summary information\n",
      "10:25 madminer.utils.inter INFO    HDF5 file does not contain sample information\n",
      "10:25 madminer.utils.inter INFO    HDF5 file does not contain systematic information\n",
      "10:25 madminer.lhe.lhe_rea INFO    Analysing LHE sample mg_processes/ratio_signal_4/Events/run_01/unweighted_events.lhe.gz: Calculating 3 observables, requiring 3 selection cuts, using 0 efficiency factors, associated with no systematics\n"
     ]
    },
    {
     "name": "stdout",
     "output_type": "stream",
     "text": [
      "Parallelize:  False\n"
     ]
    },
    {
     "name": "stderr",
     "output_type": "stream",
     "text": [
      "10:25 madminer.utils.inter INFO      100 / 100 events pass cut Cut(name='CUT', val_expression='(a[0] + a[1]).m > 122.0', is_required=False)\n",
      "10:25 madminer.utils.inter INFO      100 / 100 events pass cut Cut(name='CUT', val_expression='(a[0] + a[1]).m < 128.0', is_required=False)\n",
      "10:25 madminer.utils.inter INFO      100 / 100 events pass cut Cut(name='CUT', val_expression='pt_j1 > 20.0', is_required=False)\n",
      "10:25 madminer.utils.inter INFO      100 events pass all cuts/efficiencies\n",
      "10:25 madminer.lhe.lhe_rea INFO    Analysed number of events per sampling benchmark:\n",
      "10:25 madminer.lhe.lhe_rea INFO      100 from morphing_basis_vector_4\n",
      "10:25 madminer.utils.inter INFO    HDF5 file does not contain nuisance parameters information\n",
      "10:25 madminer.utils.inter INFO    HDF5 file does not contain finite difference information\n",
      "10:25 madminer.utils.inter INFO    HDF5 file does not contain observables information\n",
      "10:25 madminer.utils.inter INFO    HDF5 file does not contain sample summary information\n",
      "10:25 madminer.utils.inter INFO    HDF5 file does not contain sample information\n",
      "10:25 madminer.utils.inter INFO    HDF5 file does not contain systematic information\n",
      "10:25 madminer.lhe.lhe_rea INFO    Analysing LHE sample mg_processes/ratio_signal_5/Events/run_01/unweighted_events.lhe.gz: Calculating 3 observables, requiring 3 selection cuts, using 0 efficiency factors, associated with no systematics\n"
     ]
    },
    {
     "name": "stdout",
     "output_type": "stream",
     "text": [
      "Parallelize:  False\n"
     ]
    },
    {
     "name": "stderr",
     "output_type": "stream",
     "text": [
      "10:25 madminer.utils.inter INFO      100 / 100 events pass cut Cut(name='CUT', val_expression='(a[0] + a[1]).m > 122.0', is_required=False)\n",
      "10:25 madminer.utils.inter INFO      100 / 100 events pass cut Cut(name='CUT', val_expression='(a[0] + a[1]).m < 128.0', is_required=False)\n",
      "10:25 madminer.utils.inter INFO      100 / 100 events pass cut Cut(name='CUT', val_expression='pt_j1 > 20.0', is_required=False)\n",
      "10:25 madminer.utils.inter INFO      100 events pass all cuts/efficiencies\n",
      "10:25 madminer.lhe.lhe_rea INFO    Analysed number of events per sampling benchmark:\n",
      "10:25 madminer.lhe.lhe_rea INFO      100 from morphing_basis_vector_5\n"
     ]
    }
   ],
   "source": [
    "for j,name in enumerate(list(miner.benchmarks.keys())):\n",
    "    lhe = LHEReader(\"data/ratio_setup.h5\")\n",
    "    lhe.add_sample(\n",
    "                lhe_filename=f\"mg_processes/ratio_signal_{j}/Events/run_01/unweighted_events.lhe.gz\",\n",
    "                sampled_from_benchmark=name,\n",
    "                is_background=False,\n",
    "                k_factor=1.0,\n",
    "            )\n",
    "    lhe.add_observable(\n",
    "            \"met\",\n",
    "            \"met.pt\",\n",
    "            required=True,\n",
    "        )\n",
    "    lhe.add_observable(\n",
    "            \"pt_j1\",\n",
    "            \"j[0].pt\",\n",
    "            required=False,\n",
    "            default=0.0,\n",
    "    )\n",
    "    lhe.add_observable(\n",
    "            \"delta_phi_jj\",\n",
    "            \"j[0].deltaphi(j[1]) * (-1.0 + 2.0 * float(j[0].eta > j[1].eta))\",\n",
    "            required=True,\n",
    "    )\n",
    "    lhe.add_cut(\"(a[0] + a[1]).m > 122.0\")\n",
    "    lhe.add_cut(\"(a[0] + a[1]).m < 128.0\")\n",
    "    lhe.add_cut(\"pt_j1 > 20.0\")\n",
    "    lhe.analyse_samples()\n",
    "    lhe.save(f\"data/lhe_training_data_{j}.h5\")\n"
   ]
  },
  {
   "cell_type": "code",
   "execution_count": null,
   "metadata": {},
   "outputs": [],
   "source": []
  }
 ],
 "metadata": {
  "kernelspec": {
   "display_name": "environment",
   "language": "python",
   "name": "python3"
  },
  "language_info": {
   "codemirror_mode": {
    "name": "ipython",
    "version": 3
   },
   "file_extension": ".py",
   "mimetype": "text/x-python",
   "name": "python",
   "nbconvert_exporter": "python",
   "pygments_lexer": "ipython3",
   "version": "3.11.2"
  },
  "orig_nbformat": 4
 },
 "nbformat": 4,
 "nbformat_minor": 2
}

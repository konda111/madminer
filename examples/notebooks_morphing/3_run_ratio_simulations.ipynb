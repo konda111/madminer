{
 "cells": [
  {
   "cell_type": "code",
   "execution_count": 1,
   "metadata": {},
   "outputs": [],
   "source": [
    "import logging\n",
    "import sys\n",
    "sys.path.append('/remote/gpu02/crescenzo/MadMiner')\n",
    "from madminer.lhe import LHEReader"
   ]
  },
  {
   "cell_type": "code",
   "execution_count": 2,
   "metadata": {},
   "outputs": [],
   "source": [
    "# MadMiner output\n",
    "logging.basicConfig(\n",
    "    format=\"%(asctime)-5.5s %(name)-20.20s %(levelname)-7.7s %(message)s\",\n",
    "    datefmt=\"%H:%M\",\n",
    "    level=logging.INFO,\n",
    ")\n",
    "\n",
    "# Output of all other modules (e.g. matplotlib)\n",
    "for key in logging.Logger.manager.loggerDict:\n",
    "    if \"madminer\" not in key:\n",
    "        logging.getLogger(key).setLevel(logging.WARNING)"
   ]
  },
  {
   "cell_type": "code",
   "execution_count": 3,
   "metadata": {},
   "outputs": [],
   "source": [
    "from madminer import MadMiner\n",
    "import numpy as np"
   ]
  },
  {
   "cell_type": "markdown",
   "metadata": {},
   "source": []
  },
  {
   "cell_type": "code",
   "execution_count": 4,
   "metadata": {},
   "outputs": [
    {
     "name": "stderr",
     "output_type": "stream",
     "text": [
      "14:56 madminer.core.madmin INFO    Adding parameter: CWL2 (LHA: dim6 2, Power: 2, Range: (0.0, 1.0))\n",
      "14:56 madminer.core.madmin WARNING Resetting benchmarks and morphing\n",
      "14:56 madminer.core.madmin INFO    Adding parameter: CPWL2 (LHA: dim6 5, Power: 2, Range: (0.0, 1.0))\n",
      "14:56 madminer.core.madmin WARNING Resetting benchmarks and morphing\n"
     ]
    }
   ],
   "source": [
    "miner = MadMiner()\n",
    "\n",
    "miner.add_parameter(\n",
    "    lha_block=\"dim6\",\n",
    "    lha_id=2,\n",
    "    parameter_name=\"CWL2\",\n",
    "    morphing_max_power=2,\n",
    ")\n",
    "miner.add_parameter(\n",
    "    lha_block=\"dim6\",\n",
    "    lha_id=5,\n",
    "    parameter_name=\"CPWL2\",\n",
    "    morphing_max_power=2,\n",
    ")"
   ]
  },
  {
   "cell_type": "code",
   "execution_count": 5,
   "metadata": {},
   "outputs": [
    {
     "name": "stderr",
     "output_type": "stream",
     "text": [
      "14:56 madminer.core.madmin INFO    Optimizing basis for morphing the cross sections only\n",
      "14:56 madminer.core.madmin INFO    Testing out\n"
     ]
    }
   ],
   "source": [
    "miner.cs_set_morphing(max_overall_power=2)"
   ]
  },
  {
   "cell_type": "code",
   "execution_count": 6,
   "metadata": {},
   "outputs": [
    {
     "name": "stderr",
     "output_type": "stream",
     "text": [
      "14:56 madminer.utils.inter INFO    HDF5 file does not contain nuisance parameters information\n",
      "14:56 madminer.utils.inter INFO    HDF5 file does not contain finite difference information\n",
      "14:56 madminer.utils.inter INFO    HDF5 file does not contain observables information\n",
      "14:56 madminer.utils.inter INFO    HDF5 file does not contain sample summary information\n",
      "14:56 madminer.utils.inter INFO    HDF5 file does not contain sample information\n",
      "14:56 madminer.utils.inter INFO    HDF5 file does not contain systematic information\n",
      "14:56 madminer.core.madmin INFO    Found 2 parameters:\n",
      "14:56 madminer.core.madmin INFO       CWL2 (LHA: dim6 2, Power: 2, Range: (0.0, 1.0))\n",
      "14:56 madminer.core.madmin INFO       CPWL2 (LHA: dim6 5, Power: 2, Range: (0.0, 1.0))\n",
      "14:56 madminer.core.madmin INFO    Found 6 benchmarks:\n",
      "14:56 madminer.core.madmin INFO       SM: CWL2 = 0.00e+00, CPWL2 = 0.00e+00\n",
      "14:56 madminer.core.madmin INFO       morphing_basis_vector_1: CWL2 = 1.27, CPWL2 = 0.07\n",
      "14:56 madminer.core.madmin INFO       morphing_basis_vector_2: CWL2 = 0.64, CPWL2 = -1.29e+00\n",
      "14:56 madminer.core.madmin INFO       morphing_basis_vector_3: CWL2 = 0.51, CPWL2 = 1.31\n",
      "14:56 madminer.core.madmin INFO       morphing_basis_vector_4: CWL2 = -1.36e+00, CPWL2 = -1.15e+00\n",
      "14:56 madminer.core.madmin INFO       morphing_basis_vector_5: CWL2 = -1.42e+00, CPWL2 = 1.06\n",
      "14:56 madminer.core.madmin INFO    Found morphing setup with 6 components\n",
      "14:56 madminer.core.madmin INFO    Did not find systematics setup.\n"
     ]
    }
   ],
   "source": [
    "miner.load(\"data/ratio_setup.h5\")"
   ]
  },
  {
   "cell_type": "code",
   "execution_count": 7,
   "metadata": {},
   "outputs": [
    {
     "data": {
      "text/plain": [
       "odict_keys(['SM', 'morphing_basis_vector_1', 'morphing_basis_vector_2', 'morphing_basis_vector_3', 'morphing_basis_vector_4', 'morphing_basis_vector_5'])"
      ]
     },
     "execution_count": 7,
     "metadata": {},
     "output_type": "execute_result"
    }
   ],
   "source": [
    "miner.benchmarks.keys()"
   ]
  },
  {
   "cell_type": "code",
   "execution_count": 8,
   "metadata": {},
   "outputs": [
    {
     "data": {
      "text/plain": [
       "OrderedDict([('SM',\n",
       "              Benchmark(name='SM', values=OrderedDict([('CWL2', 0.0), ('CPWL2', 0.0)]), is_nuisance=False, is_reference=False)),\n",
       "             ('morphing_basis_vector_1',\n",
       "              Benchmark(name='morphing_basis_vector_1', values=OrderedDict([('CWL2', 1.2722659158722878), ('CPWL2', 0.06824573110056396)]), is_nuisance=False, is_reference=False)),\n",
       "             ('morphing_basis_vector_2',\n",
       "              Benchmark(name='morphing_basis_vector_2', values=OrderedDict([('CWL2', 0.6351447882222803), ('CPWL2', -1.2885072670967523)]), is_nuisance=False, is_reference=False)),\n",
       "             ('morphing_basis_vector_3',\n",
       "              Benchmark(name='morphing_basis_vector_3', values=OrderedDict([('CWL2', 0.5050106272024178), ('CPWL2', 1.3127830596303283)]), is_nuisance=False, is_reference=False)),\n",
       "             ('morphing_basis_vector_4',\n",
       "              Benchmark(name='morphing_basis_vector_4', values=OrderedDict([('CWL2', -1.3574537818721983), ('CPWL2', -1.1497235073184953)]), is_nuisance=False, is_reference=False)),\n",
       "             ('morphing_basis_vector_5',\n",
       "              Benchmark(name='morphing_basis_vector_5', values=OrderedDict([('CWL2', -1.418448994926457), ('CPWL2', 1.0637304803979204)]), is_nuisance=False, is_reference=False))])"
      ]
     },
     "execution_count": 8,
     "metadata": {},
     "output_type": "execute_result"
    }
   ],
   "source": [
    "miner.benchmarks"
   ]
  },
  {
   "cell_type": "code",
   "execution_count": 9,
   "metadata": {},
   "outputs": [
    {
     "data": {
      "text/plain": [
       "array([[ 0.        ,  0.        ],\n",
       "       [ 1.35196456,  0.97582019],\n",
       "       [-1.53591328,  0.24537718],\n",
       "       [-0.50678805,  1.50426552],\n",
       "       [-0.84066702, -1.41420661],\n",
       "       [ 1.23375014, -1.15091783]])"
      ]
     },
     "execution_count": 9,
     "metadata": {},
     "output_type": "execute_result"
    }
   ],
   "source": [
    "miner.morpher.cs_basis"
   ]
  },
  {
   "cell_type": "code",
   "execution_count": 10,
   "metadata": {},
   "outputs": [
    {
     "name": "stderr",
     "output_type": "stream",
     "text": [
      "14:56 madminer.core.madmin INFO    Adding python3 bin folder to PATH\n",
      "14:56 madminer.core.madmin INFO    Using Python executable /remote/gpu02/crescenzo/environment/bin/python3\n",
      "14:56 madminer.utils.inter INFO    Generating MadGraph process folder from cards/proc_card_signal.dat at ./mg_processes/ratio_signal_0\n",
      "14:56 madminer.utils.inter INFO    Calling MadGraph: export PATH=/remote/gpu02/crescenzo/environment/bin:$PATH; python3 /remote/gpu02/crescenzo/MG5_aMC_v3_5_3/bin/mg5_aMC /tmp/generate.mg5\n",
      "14:56 madminer.core.madmin INFO    Run 0\n",
      "14:56 madminer.core.madmin INFO      Sampling from benchmark: SM\n",
      "14:56 madminer.core.madmin INFO      Original run card:       cards/run_card_signal_large.dat\n",
      "14:56 madminer.core.madmin INFO      Original Pythia8 card:   None\n",
      "14:56 madminer.core.madmin INFO      Original MadSpin card:   None\n",
      "14:56 madminer.core.madmin INFO      Original config card:    None\n",
      "14:56 madminer.core.madmin INFO      Copied run card:         madminer/cards/run_card_0.dat\n",
      "14:56 madminer.core.madmin INFO      Copied Pythia8 card:     None\n",
      "14:56 madminer.core.madmin INFO      Copied MadSpin card:     None\n",
      "14:56 madminer.core.madmin INFO      Copied config card:      None\n",
      "14:56 madminer.core.madmin INFO      Param card:              madminer/cards/param_card_0.dat\n",
      "14:56 madminer.core.madmin INFO      Reweight card:           madminer/cards/reweight_card_0.dat\n",
      "14:56 madminer.core.madmin INFO      Log file:                run_0.log\n",
      "14:56 madminer.core.madmin INFO    Creating param and reweight cards in ./mg_processes/ratio_signal_0/madminer/cards/param_card_0.dat, ./mg_processes/ratio_signal_0/madminer/cards/reweight_card_0.dat\n",
      "14:56 madminer.utils.inter INFO    Preparing script to run MadGraph and Pythia in ./mg_processes/ratio_signal_0\n",
      "14:56 madminer.core.madmin INFO    To generate events, please run:\n",
      "\n",
      " ./mg_processes/ratio_signal_0/madminer/run.sh [MG_directory] [MG_process_directory] [log_dir]\n",
      "\n",
      "\n",
      "14:56 madminer.core.madmin INFO    Adding python3 bin folder to PATH\n",
      "14:56 madminer.core.madmin INFO    Using Python executable /remote/gpu02/crescenzo/environment/bin/python3\n",
      "14:56 madminer.utils.inter INFO    Generating MadGraph process folder from cards/proc_card_signal.dat at ./mg_processes/ratio_signal_1\n",
      "14:56 madminer.utils.inter INFO    Calling MadGraph: export PATH=/remote/gpu02/crescenzo/environment/bin:$PATH; python3 /remote/gpu02/crescenzo/MG5_aMC_v3_5_3/bin/mg5_aMC /tmp/generate.mg5\n",
      "14:56 madminer.core.madmin INFO    Run 0\n",
      "14:56 madminer.core.madmin INFO      Sampling from benchmark: morphing_basis_vector_1\n",
      "14:56 madminer.core.madmin INFO      Original run card:       cards/run_card_signal_large.dat\n",
      "14:56 madminer.core.madmin INFO      Original Pythia8 card:   None\n",
      "14:56 madminer.core.madmin INFO      Original MadSpin card:   None\n",
      "14:56 madminer.core.madmin INFO      Original config card:    None\n",
      "14:56 madminer.core.madmin INFO      Copied run card:         madminer/cards/run_card_0.dat\n",
      "14:56 madminer.core.madmin INFO      Copied Pythia8 card:     None\n",
      "14:56 madminer.core.madmin INFO      Copied MadSpin card:     None\n",
      "14:56 madminer.core.madmin INFO      Copied config card:      None\n",
      "14:56 madminer.core.madmin INFO      Param card:              madminer/cards/param_card_0.dat\n",
      "14:56 madminer.core.madmin INFO      Reweight card:           madminer/cards/reweight_card_0.dat\n",
      "14:56 madminer.core.madmin INFO      Log file:                run_0.log\n",
      "14:56 madminer.core.madmin INFO    Creating param and reweight cards in ./mg_processes/ratio_signal_1/madminer/cards/param_card_0.dat, ./mg_processes/ratio_signal_1/madminer/cards/reweight_card_0.dat\n",
      "14:56 madminer.utils.inter INFO    Preparing script to run MadGraph and Pythia in ./mg_processes/ratio_signal_1\n",
      "14:56 madminer.core.madmin INFO    To generate events, please run:\n",
      "\n",
      " ./mg_processes/ratio_signal_1/madminer/run.sh [MG_directory] [MG_process_directory] [log_dir]\n",
      "\n",
      "\n",
      "14:56 madminer.core.madmin INFO    Adding python3 bin folder to PATH\n",
      "14:56 madminer.core.madmin INFO    Using Python executable /remote/gpu02/crescenzo/environment/bin/python3\n",
      "14:56 madminer.utils.inter INFO    Generating MadGraph process folder from cards/proc_card_signal.dat at ./mg_processes/ratio_signal_2\n",
      "14:56 madminer.utils.inter INFO    Calling MadGraph: export PATH=/remote/gpu02/crescenzo/environment/bin:$PATH; python3 /remote/gpu02/crescenzo/MG5_aMC_v3_5_3/bin/mg5_aMC /tmp/generate.mg5\n",
      "14:56 madminer.core.madmin INFO    Run 0\n",
      "14:56 madminer.core.madmin INFO      Sampling from benchmark: morphing_basis_vector_2\n",
      "14:56 madminer.core.madmin INFO      Original run card:       cards/run_card_signal_large.dat\n",
      "14:56 madminer.core.madmin INFO      Original Pythia8 card:   None\n",
      "14:56 madminer.core.madmin INFO      Original MadSpin card:   None\n",
      "14:56 madminer.core.madmin INFO      Original config card:    None\n",
      "14:56 madminer.core.madmin INFO      Copied run card:         madminer/cards/run_card_0.dat\n",
      "14:56 madminer.core.madmin INFO      Copied Pythia8 card:     None\n",
      "14:56 madminer.core.madmin INFO      Copied MadSpin card:     None\n",
      "14:56 madminer.core.madmin INFO      Copied config card:      None\n",
      "14:56 madminer.core.madmin INFO      Param card:              madminer/cards/param_card_0.dat\n",
      "14:56 madminer.core.madmin INFO      Reweight card:           madminer/cards/reweight_card_0.dat\n",
      "14:56 madminer.core.madmin INFO      Log file:                run_0.log\n",
      "14:56 madminer.core.madmin INFO    Creating param and reweight cards in ./mg_processes/ratio_signal_2/madminer/cards/param_card_0.dat, ./mg_processes/ratio_signal_2/madminer/cards/reweight_card_0.dat\n",
      "14:56 madminer.utils.inter INFO    Preparing script to run MadGraph and Pythia in ./mg_processes/ratio_signal_2\n",
      "14:56 madminer.core.madmin INFO    To generate events, please run:\n",
      "\n",
      " ./mg_processes/ratio_signal_2/madminer/run.sh [MG_directory] [MG_process_directory] [log_dir]\n",
      "\n",
      "\n",
      "14:56 madminer.core.madmin INFO    Adding python3 bin folder to PATH\n",
      "14:56 madminer.core.madmin INFO    Using Python executable /remote/gpu02/crescenzo/environment/bin/python3\n",
      "14:56 madminer.utils.inter INFO    Generating MadGraph process folder from cards/proc_card_signal.dat at ./mg_processes/ratio_signal_3\n",
      "14:56 madminer.utils.inter INFO    Calling MadGraph: export PATH=/remote/gpu02/crescenzo/environment/bin:$PATH; python3 /remote/gpu02/crescenzo/MG5_aMC_v3_5_3/bin/mg5_aMC /tmp/generate.mg5\n",
      "14:56 madminer.core.madmin INFO    Run 0\n",
      "14:56 madminer.core.madmin INFO      Sampling from benchmark: morphing_basis_vector_3\n",
      "14:56 madminer.core.madmin INFO      Original run card:       cards/run_card_signal_large.dat\n",
      "14:56 madminer.core.madmin INFO      Original Pythia8 card:   None\n",
      "14:56 madminer.core.madmin INFO      Original MadSpin card:   None\n",
      "14:56 madminer.core.madmin INFO      Original config card:    None\n",
      "14:56 madminer.core.madmin INFO      Copied run card:         madminer/cards/run_card_0.dat\n",
      "14:56 madminer.core.madmin INFO      Copied Pythia8 card:     None\n",
      "14:56 madminer.core.madmin INFO      Copied MadSpin card:     None\n",
      "14:56 madminer.core.madmin INFO      Copied config card:      None\n",
      "14:56 madminer.core.madmin INFO      Param card:              madminer/cards/param_card_0.dat\n",
      "14:56 madminer.core.madmin INFO      Reweight card:           madminer/cards/reweight_card_0.dat\n",
      "14:56 madminer.core.madmin INFO      Log file:                run_0.log\n",
      "14:56 madminer.core.madmin INFO    Creating param and reweight cards in ./mg_processes/ratio_signal_3/madminer/cards/param_card_0.dat, ./mg_processes/ratio_signal_3/madminer/cards/reweight_card_0.dat\n",
      "14:56 madminer.utils.inter INFO    Preparing script to run MadGraph and Pythia in ./mg_processes/ratio_signal_3\n",
      "14:56 madminer.core.madmin INFO    To generate events, please run:\n",
      "\n",
      " ./mg_processes/ratio_signal_3/madminer/run.sh [MG_directory] [MG_process_directory] [log_dir]\n",
      "\n",
      "\n",
      "14:56 madminer.core.madmin INFO    Adding python3 bin folder to PATH\n",
      "14:56 madminer.core.madmin INFO    Using Python executable /remote/gpu02/crescenzo/environment/bin/python3\n",
      "14:56 madminer.utils.inter INFO    Generating MadGraph process folder from cards/proc_card_signal.dat at ./mg_processes/ratio_signal_4\n",
      "14:56 madminer.utils.inter INFO    Calling MadGraph: export PATH=/remote/gpu02/crescenzo/environment/bin:$PATH; python3 /remote/gpu02/crescenzo/MG5_aMC_v3_5_3/bin/mg5_aMC /tmp/generate.mg5\n",
      "14:56 madminer.core.madmin INFO    Run 0\n",
      "14:56 madminer.core.madmin INFO      Sampling from benchmark: morphing_basis_vector_4\n",
      "14:56 madminer.core.madmin INFO      Original run card:       cards/run_card_signal_large.dat\n",
      "14:56 madminer.core.madmin INFO      Original Pythia8 card:   None\n",
      "14:56 madminer.core.madmin INFO      Original MadSpin card:   None\n",
      "14:56 madminer.core.madmin INFO      Original config card:    None\n",
      "14:56 madminer.core.madmin INFO      Copied run card:         madminer/cards/run_card_0.dat\n",
      "14:56 madminer.core.madmin INFO      Copied Pythia8 card:     None\n",
      "14:56 madminer.core.madmin INFO      Copied MadSpin card:     None\n",
      "14:56 madminer.core.madmin INFO      Copied config card:      None\n",
      "14:56 madminer.core.madmin INFO      Param card:              madminer/cards/param_card_0.dat\n",
      "14:56 madminer.core.madmin INFO      Reweight card:           madminer/cards/reweight_card_0.dat\n",
      "14:56 madminer.core.madmin INFO      Log file:                run_0.log\n",
      "14:56 madminer.core.madmin INFO    Creating param and reweight cards in ./mg_processes/ratio_signal_4/madminer/cards/param_card_0.dat, ./mg_processes/ratio_signal_4/madminer/cards/reweight_card_0.dat\n",
      "14:56 madminer.utils.inter INFO    Preparing script to run MadGraph and Pythia in ./mg_processes/ratio_signal_4\n",
      "14:56 madminer.core.madmin INFO    To generate events, please run:\n",
      "\n",
      " ./mg_processes/ratio_signal_4/madminer/run.sh [MG_directory] [MG_process_directory] [log_dir]\n",
      "\n",
      "\n",
      "14:56 madminer.core.madmin INFO    Adding python3 bin folder to PATH\n",
      "14:56 madminer.core.madmin INFO    Using Python executable /remote/gpu02/crescenzo/environment/bin/python3\n",
      "14:56 madminer.utils.inter INFO    Generating MadGraph process folder from cards/proc_card_signal.dat at ./mg_processes/ratio_signal_5\n",
      "14:56 madminer.utils.inter INFO    Calling MadGraph: export PATH=/remote/gpu02/crescenzo/environment/bin:$PATH; python3 /remote/gpu02/crescenzo/MG5_aMC_v3_5_3/bin/mg5_aMC /tmp/generate.mg5\n",
      "14:57 madminer.core.madmin INFO    Run 0\n",
      "14:57 madminer.core.madmin INFO      Sampling from benchmark: morphing_basis_vector_5\n",
      "14:57 madminer.core.madmin INFO      Original run card:       cards/run_card_signal_large.dat\n",
      "14:57 madminer.core.madmin INFO      Original Pythia8 card:   None\n",
      "14:57 madminer.core.madmin INFO      Original MadSpin card:   None\n",
      "14:57 madminer.core.madmin INFO      Original config card:    None\n",
      "14:57 madminer.core.madmin INFO      Copied run card:         madminer/cards/run_card_0.dat\n",
      "14:57 madminer.core.madmin INFO      Copied Pythia8 card:     None\n",
      "14:57 madminer.core.madmin INFO      Copied MadSpin card:     None\n",
      "14:57 madminer.core.madmin INFO      Copied config card:      None\n",
      "14:57 madminer.core.madmin INFO      Param card:              madminer/cards/param_card_0.dat\n",
      "14:57 madminer.core.madmin INFO      Reweight card:           madminer/cards/reweight_card_0.dat\n",
      "14:57 madminer.core.madmin INFO      Log file:                run_0.log\n",
      "14:57 madminer.core.madmin INFO    Creating param and reweight cards in ./mg_processes/ratio_signal_5/madminer/cards/param_card_0.dat, ./mg_processes/ratio_signal_5/madminer/cards/reweight_card_0.dat\n",
      "14:57 madminer.utils.inter INFO    Preparing script to run MadGraph and Pythia in ./mg_processes/ratio_signal_5\n",
      "14:57 madminer.core.madmin INFO    To generate events, please run:\n",
      "\n",
      " ./mg_processes/ratio_signal_5/madminer/run.sh [MG_directory] [MG_process_directory] [log_dir]\n",
      "\n",
      "\n"
     ]
    }
   ],
   "source": [
    "mg_dir = \"/remote/gpu02/crescenzo/MG5_aMC_v3_5_3\"\n",
    "for j,elem in enumerate(miner.benchmarks.keys()):\n",
    "    miner.run(\n",
    "    sample_benchmark=elem,\n",
    "    mg_directory=mg_dir,\n",
    "    mg_process_directory=f\"./mg_processes/ratio_signal_{j}\",\n",
    "    proc_card_file=\"cards/proc_card_signal.dat\",\n",
    "    param_card_template_file=\"cards/param_card_template.dat\",\n",
    "    run_card_file=\"cards/run_card_signal_large.dat\",\n",
    "    log_directory=f\"logs/signal_{j}\",\n",
    "    python_executable=\"python3\",\n",
    "    only_prepare_script=True\n",
    ")"
   ]
  },
  {
   "cell_type": "code",
   "execution_count": null,
   "metadata": {},
   "outputs": [],
   "source": []
  }
 ],
 "metadata": {
  "kernelspec": {
   "display_name": "environment",
   "language": "python",
   "name": "python3"
  },
  "language_info": {
   "codemirror_mode": {
    "name": "ipython",
    "version": 3
   },
   "file_extension": ".py",
   "mimetype": "text/x-python",
   "name": "python",
   "nbconvert_exporter": "python",
   "pygments_lexer": "ipython3",
   "version": "3.11.2"
  },
  "orig_nbformat": 4
 },
 "nbformat": 4,
 "nbformat_minor": 2
}

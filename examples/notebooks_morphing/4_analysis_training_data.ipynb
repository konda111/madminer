{
 "cells": [
  {
   "cell_type": "code",
   "execution_count": 1,
   "metadata": {},
   "outputs": [],
   "source": [
    "import logging\n",
    "import sys\n",
    "sys.path.append('/remote/gpu02/crescenzo/MadMiner')\n",
    "from madminer.lhe import LHEReader\n",
    "from madminer.sampling import SampleAugmenter\n",
    "from madminer import sampling"
   ]
  },
  {
   "cell_type": "code",
   "execution_count": 2,
   "metadata": {},
   "outputs": [],
   "source": [
    "# MadMiner output\n",
    "logging.basicConfig(\n",
    "    format=\"%(asctime)-5.5s %(name)-20.20s %(levelname)-7.7s %(message)s\",\n",
    "    datefmt=\"%H:%M\",\n",
    "    level=logging.INFO,\n",
    ")\n",
    "\n",
    "# Output of all other modules (e.g. matplotlib)\n",
    "for key in logging.Logger.manager.loggerDict:\n",
    "    if \"madminer\" not in key:\n",
    "        logging.getLogger(key).setLevel(logging.WARNING)"
   ]
  },
  {
   "cell_type": "code",
   "execution_count": 3,
   "metadata": {},
   "outputs": [],
   "source": [
    "from madminer import MadMiner\n",
    "import numpy as np"
   ]
  },
  {
   "cell_type": "code",
   "execution_count": 4,
   "metadata": {},
   "outputs": [
    {
     "name": "stderr",
     "output_type": "stream",
     "text": [
      "15:00 madminer.utils.inter INFO    HDF5 file does not contain nuisance parameters information\n",
      "15:00 madminer.utils.inter INFO    HDF5 file does not contain finite difference information\n",
      "15:00 madminer.utils.inter INFO    HDF5 file does not contain observables information\n",
      "15:00 madminer.utils.inter INFO    HDF5 file does not contain sample summary information\n",
      "15:00 madminer.utils.inter INFO    HDF5 file does not contain sample information\n",
      "15:00 madminer.utils.inter INFO    HDF5 file does not contain systematic information\n",
      "15:00 madminer.core.madmin INFO    Found 2 parameters:\n",
      "15:00 madminer.core.madmin INFO       CWL2 (LHA: dim6 2, Power: 2, Range: (0.0, 1.0))\n",
      "15:00 madminer.core.madmin INFO       CPWL2 (LHA: dim6 5, Power: 2, Range: (0.0, 1.0))\n",
      "15:00 madminer.core.madmin INFO    Found 6 benchmarks:\n",
      "15:00 madminer.core.madmin INFO       SM: CWL2 = 0.00e+00, CPWL2 = 0.00e+00\n",
      "15:00 madminer.core.madmin INFO       morphing_basis_vector_1: CWL2 = 1.27, CPWL2 = 0.07\n",
      "15:00 madminer.core.madmin INFO       morphing_basis_vector_2: CWL2 = 0.64, CPWL2 = -1.29e+00\n",
      "15:00 madminer.core.madmin INFO       morphing_basis_vector_3: CWL2 = 0.51, CPWL2 = 1.31\n",
      "15:00 madminer.core.madmin INFO       morphing_basis_vector_4: CWL2 = -1.36e+00, CPWL2 = -1.15e+00\n",
      "15:00 madminer.core.madmin INFO       morphing_basis_vector_5: CWL2 = -1.42e+00, CPWL2 = 1.06\n",
      "15:00 madminer.core.madmin INFO    Found morphing setup with 6 components\n",
      "15:00 madminer.core.madmin INFO    Did not find systematics setup.\n"
     ]
    }
   ],
   "source": [
    "miner = MadMiner()\n",
    "\n",
    "miner.load(\"data/ratio_setup.h5\")"
   ]
  },
  {
   "cell_type": "code",
   "execution_count": 5,
   "metadata": {},
   "outputs": [
    {
     "data": {
      "text/plain": [
       "'SM'"
      ]
     },
     "execution_count": 5,
     "metadata": {},
     "output_type": "execute_result"
    }
   ],
   "source": [
    "list(miner.benchmarks.keys())[0]"
   ]
  },
  {
   "cell_type": "code",
   "execution_count": 6,
   "metadata": {},
   "outputs": [],
   "source": [
    "from madminer.utils.interfaces import _load_samples"
   ]
  },
  {
   "cell_type": "code",
   "execution_count": 7,
   "metadata": {},
   "outputs": [
    {
     "name": "stderr",
     "output_type": "stream",
     "text": [
      "15:00 madminer.utils.inter INFO    HDF5 file does not contain nuisance parameters information\n",
      "15:00 madminer.utils.inter INFO    HDF5 file does not contain finite difference information\n",
      "15:00 madminer.utils.inter INFO    HDF5 file does not contain observables information\n",
      "15:00 madminer.utils.inter INFO    HDF5 file does not contain sample summary information\n",
      "15:00 madminer.utils.inter INFO    HDF5 file does not contain sample information\n",
      "15:00 madminer.utils.inter INFO    HDF5 file does not contain systematic information\n",
      "15:00 madminer.lhe.lhe_rea INFO    Analysing LHE sample mg_processes/ratio_signal_0/Events/run_01/unweighted_events.lhe.gz: Calculating 3 observables, requiring 3 selection cuts, using 0 efficiency factors, associated with no systematics\n"
     ]
    },
    {
     "name": "stdout",
     "output_type": "stream",
     "text": [
      "Parallelize:  False\n"
     ]
    },
    {
     "name": "stderr",
     "output_type": "stream",
     "text": [
      "15:02 madminer.utils.inter INFO      10000 / 10000 events pass cut Cut(name='CUT', val_expression='(a[0] + a[1]).m > 122.0', is_required=False)\n",
      "15:02 madminer.utils.inter INFO      10000 / 10000 events pass cut Cut(name='CUT', val_expression='(a[0] + a[1]).m < 128.0', is_required=False)\n",
      "15:02 madminer.utils.inter INFO      10000 / 10000 events pass cut Cut(name='CUT', val_expression='pt_j1 > 20.0', is_required=False)\n",
      "15:02 madminer.utils.inter INFO      10000 events pass all cuts/efficiencies\n",
      "15:02 madminer.lhe.lhe_rea INFO    Analysed number of events per sampling benchmark:\n",
      "15:02 madminer.lhe.lhe_rea INFO      10000 from SM\n",
      "15:02 madminer.utils.inter INFO    HDF5 file does not contain nuisance parameters information\n",
      "15:02 madminer.utils.inter INFO    HDF5 file does not contain finite difference information\n",
      "15:02 madminer.utils.inter INFO    HDF5 file does not contain observables information\n",
      "15:02 madminer.utils.inter INFO    HDF5 file does not contain sample summary information\n",
      "15:02 madminer.utils.inter INFO    HDF5 file does not contain sample information\n",
      "15:02 madminer.utils.inter INFO    HDF5 file does not contain systematic information\n",
      "15:02 madminer.lhe.lhe_rea INFO    Analysing LHE sample mg_processes/ratio_signal_1/Events/run_01/unweighted_events.lhe.gz: Calculating 3 observables, requiring 3 selection cuts, using 0 efficiency factors, associated with no systematics\n"
     ]
    },
    {
     "name": "stdout",
     "output_type": "stream",
     "text": [
      "Parallelize:  False\n"
     ]
    },
    {
     "name": "stderr",
     "output_type": "stream",
     "text": [
      "15:04 madminer.utils.inter INFO      10000 / 10000 events pass cut Cut(name='CUT', val_expression='(a[0] + a[1]).m > 122.0', is_required=False)\n",
      "15:04 madminer.utils.inter INFO      10000 / 10000 events pass cut Cut(name='CUT', val_expression='(a[0] + a[1]).m < 128.0', is_required=False)\n",
      "15:04 madminer.utils.inter INFO      10000 / 10000 events pass cut Cut(name='CUT', val_expression='pt_j1 > 20.0', is_required=False)\n",
      "15:04 madminer.utils.inter INFO      10000 events pass all cuts/efficiencies\n",
      "15:04 madminer.lhe.lhe_rea INFO    Analysed number of events per sampling benchmark:\n",
      "15:04 madminer.lhe.lhe_rea INFO      10000 from morphing_basis_vector_1\n",
      "15:04 madminer.utils.inter INFO    HDF5 file does not contain nuisance parameters information\n",
      "15:04 madminer.utils.inter INFO    HDF5 file does not contain finite difference information\n",
      "15:04 madminer.utils.inter INFO    HDF5 file does not contain observables information\n",
      "15:04 madminer.utils.inter INFO    HDF5 file does not contain sample summary information\n",
      "15:04 madminer.utils.inter INFO    HDF5 file does not contain sample information\n",
      "15:04 madminer.utils.inter INFO    HDF5 file does not contain systematic information\n",
      "15:04 madminer.lhe.lhe_rea INFO    Analysing LHE sample mg_processes/ratio_signal_2/Events/run_01/unweighted_events.lhe.gz: Calculating 3 observables, requiring 3 selection cuts, using 0 efficiency factors, associated with no systematics\n"
     ]
    },
    {
     "name": "stdout",
     "output_type": "stream",
     "text": [
      "Parallelize:  False\n"
     ]
    },
    {
     "name": "stderr",
     "output_type": "stream",
     "text": [
      "15:06 madminer.utils.inter INFO      10000 / 10000 events pass cut Cut(name='CUT', val_expression='(a[0] + a[1]).m > 122.0', is_required=False)\n",
      "15:06 madminer.utils.inter INFO      10000 / 10000 events pass cut Cut(name='CUT', val_expression='(a[0] + a[1]).m < 128.0', is_required=False)\n",
      "15:06 madminer.utils.inter INFO      10000 / 10000 events pass cut Cut(name='CUT', val_expression='pt_j1 > 20.0', is_required=False)\n",
      "15:06 madminer.utils.inter INFO      10000 events pass all cuts/efficiencies\n",
      "15:06 madminer.lhe.lhe_rea INFO    Analysed number of events per sampling benchmark:\n",
      "15:06 madminer.lhe.lhe_rea INFO      10000 from morphing_basis_vector_2\n",
      "15:06 madminer.utils.inter INFO    HDF5 file does not contain nuisance parameters information\n",
      "15:06 madminer.utils.inter INFO    HDF5 file does not contain finite difference information\n",
      "15:06 madminer.utils.inter INFO    HDF5 file does not contain observables information\n",
      "15:06 madminer.utils.inter INFO    HDF5 file does not contain sample summary information\n",
      "15:06 madminer.utils.inter INFO    HDF5 file does not contain sample information\n",
      "15:06 madminer.utils.inter INFO    HDF5 file does not contain systematic information\n",
      "15:06 madminer.lhe.lhe_rea INFO    Analysing LHE sample mg_processes/ratio_signal_3/Events/run_01/unweighted_events.lhe.gz: Calculating 3 observables, requiring 3 selection cuts, using 0 efficiency factors, associated with no systematics\n"
     ]
    },
    {
     "name": "stdout",
     "output_type": "stream",
     "text": [
      "Parallelize:  False\n"
     ]
    },
    {
     "name": "stderr",
     "output_type": "stream",
     "text": [
      "15:08 madminer.utils.inter INFO      10000 / 10000 events pass cut Cut(name='CUT', val_expression='(a[0] + a[1]).m > 122.0', is_required=False)\n",
      "15:08 madminer.utils.inter INFO      10000 / 10000 events pass cut Cut(name='CUT', val_expression='(a[0] + a[1]).m < 128.0', is_required=False)\n",
      "15:08 madminer.utils.inter INFO      10000 / 10000 events pass cut Cut(name='CUT', val_expression='pt_j1 > 20.0', is_required=False)\n",
      "15:08 madminer.utils.inter INFO      10000 events pass all cuts/efficiencies\n",
      "15:08 madminer.lhe.lhe_rea INFO    Analysed number of events per sampling benchmark:\n",
      "15:08 madminer.lhe.lhe_rea INFO      10000 from morphing_basis_vector_3\n",
      "15:08 madminer.utils.inter INFO    HDF5 file does not contain nuisance parameters information\n",
      "15:08 madminer.utils.inter INFO    HDF5 file does not contain finite difference information\n",
      "15:08 madminer.utils.inter INFO    HDF5 file does not contain observables information\n",
      "15:08 madminer.utils.inter INFO    HDF5 file does not contain sample summary information\n",
      "15:08 madminer.utils.inter INFO    HDF5 file does not contain sample information\n",
      "15:08 madminer.utils.inter INFO    HDF5 file does not contain systematic information\n",
      "15:08 madminer.lhe.lhe_rea INFO    Analysing LHE sample mg_processes/ratio_signal_4/Events/run_01/unweighted_events.lhe.gz: Calculating 3 observables, requiring 3 selection cuts, using 0 efficiency factors, associated with no systematics\n"
     ]
    },
    {
     "name": "stdout",
     "output_type": "stream",
     "text": [
      "Parallelize:  False\n"
     ]
    },
    {
     "name": "stderr",
     "output_type": "stream",
     "text": [
      "15:10 madminer.utils.inter INFO      10000 / 10000 events pass cut Cut(name='CUT', val_expression='(a[0] + a[1]).m > 122.0', is_required=False)\n",
      "15:10 madminer.utils.inter INFO      10000 / 10000 events pass cut Cut(name='CUT', val_expression='(a[0] + a[1]).m < 128.0', is_required=False)\n",
      "15:10 madminer.utils.inter INFO      10000 / 10000 events pass cut Cut(name='CUT', val_expression='pt_j1 > 20.0', is_required=False)\n",
      "15:10 madminer.utils.inter INFO      10000 events pass all cuts/efficiencies\n",
      "15:10 madminer.lhe.lhe_rea INFO    Analysed number of events per sampling benchmark:\n",
      "15:10 madminer.lhe.lhe_rea INFO      10000 from morphing_basis_vector_4\n",
      "15:10 madminer.utils.inter INFO    HDF5 file does not contain nuisance parameters information\n",
      "15:10 madminer.utils.inter INFO    HDF5 file does not contain finite difference information\n",
      "15:10 madminer.utils.inter INFO    HDF5 file does not contain observables information\n",
      "15:10 madminer.utils.inter INFO    HDF5 file does not contain sample summary information\n",
      "15:10 madminer.utils.inter INFO    HDF5 file does not contain sample information\n",
      "15:10 madminer.utils.inter INFO    HDF5 file does not contain systematic information\n",
      "15:10 madminer.lhe.lhe_rea INFO    Analysing LHE sample mg_processes/ratio_signal_5/Events/run_01/unweighted_events.lhe.gz: Calculating 3 observables, requiring 3 selection cuts, using 0 efficiency factors, associated with no systematics\n"
     ]
    },
    {
     "name": "stdout",
     "output_type": "stream",
     "text": [
      "Parallelize:  False\n"
     ]
    },
    {
     "name": "stderr",
     "output_type": "stream",
     "text": [
      "15:12 madminer.utils.inter INFO      10000 / 10000 events pass cut Cut(name='CUT', val_expression='(a[0] + a[1]).m > 122.0', is_required=False)\n",
      "15:12 madminer.utils.inter INFO      10000 / 10000 events pass cut Cut(name='CUT', val_expression='(a[0] + a[1]).m < 128.0', is_required=False)\n",
      "15:12 madminer.utils.inter INFO      10000 / 10000 events pass cut Cut(name='CUT', val_expression='pt_j1 > 20.0', is_required=False)\n",
      "15:12 madminer.utils.inter INFO      10000 events pass all cuts/efficiencies\n",
      "15:12 madminer.lhe.lhe_rea INFO    Analysed number of events per sampling benchmark:\n",
      "15:12 madminer.lhe.lhe_rea INFO      10000 from morphing_basis_vector_5\n"
     ]
    }
   ],
   "source": [
    "for j,name in enumerate(list(miner.benchmarks.keys())):\n",
    "    lhe = LHEReader(\"data/ratio_setup.h5\")\n",
    "    lhe.add_sample(\n",
    "                lhe_filename=f\"mg_processes/ratio_signal_{j}/Events/run_01/unweighted_events.lhe.gz\",\n",
    "                sampled_from_benchmark=name,\n",
    "                is_background=False,\n",
    "                k_factor=1.0,\n",
    "            )\n",
    "    lhe.add_observable(\n",
    "            \"met\",\n",
    "            \"met.pt\",\n",
    "            required=True,\n",
    "        )\n",
    "    lhe.add_observable(\n",
    "            \"pt_j1\",\n",
    "            \"j[0].pt\",\n",
    "            required=False,\n",
    "            default=0.0,\n",
    "    )\n",
    "    lhe.add_observable(\n",
    "            \"delta_phi_jj\",\n",
    "            \"j[0].deltaphi(j[1]) * (-1.0 + 2.0 * float(j[0].eta > j[1].eta))\",\n",
    "            required=True,\n",
    "    )\n",
    "    lhe.add_cut(\"(a[0] + a[1]).m > 122.0\")\n",
    "    lhe.add_cut(\"(a[0] + a[1]).m < 128.0\")\n",
    "    lhe.add_cut(\"pt_j1 > 20.0\")\n",
    "    lhe.analyse_samples()\n",
    "    lhe.save(f\"data/lhe_training_data_{j}.h5\")\n"
   ]
  },
  {
   "cell_type": "code",
   "execution_count": null,
   "metadata": {},
   "outputs": [],
   "source": []
  }
 ],
 "metadata": {
  "kernelspec": {
   "display_name": "environment",
   "language": "python",
   "name": "python3"
  },
  "language_info": {
   "codemirror_mode": {
    "name": "ipython",
    "version": 3
   },
   "file_extension": ".py",
   "mimetype": "text/x-python",
   "name": "python",
   "nbconvert_exporter": "python",
   "pygments_lexer": "ipython3",
   "version": "3.11.2"
  },
  "orig_nbformat": 4
 },
 "nbformat": 4,
 "nbformat_minor": 2
}

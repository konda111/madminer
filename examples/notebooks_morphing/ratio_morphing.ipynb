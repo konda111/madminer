{
 "cells": [
  {
   "cell_type": "code",
   "execution_count": 1,
   "metadata": {},
   "outputs": [],
   "source": [
    "import logging\n",
    "import sys\n",
    "sys.path.append('/remote/gpu02/crescenzo/MadMiner')"
   ]
  },
  {
   "cell_type": "code",
   "execution_count": 2,
   "metadata": {},
   "outputs": [],
   "source": [
    "# MadMiner output\n",
    "logging.basicConfig(\n",
    "    format=\"%(asctime)-5.5s %(name)-20.20s %(levelname)-7.7s %(message)s\",\n",
    "    datefmt=\"%H:%M\",\n",
    "    level=logging.INFO,\n",
    ")\n",
    "\n",
    "# Output of all other modules (e.g. matplotlib)\n",
    "for key in logging.Logger.manager.loggerDict:\n",
    "    if \"madminer\" not in key:\n",
    "        logging.getLogger(key).setLevel(logging.WARNING)"
   ]
  },
  {
   "cell_type": "code",
   "execution_count": 7,
   "metadata": {},
   "outputs": [],
   "source": [
    "from madminer import MadMiner\n",
    "import numpy as np"
   ]
  },
  {
   "cell_type": "code",
   "execution_count": 8,
   "metadata": {},
   "outputs": [
    {
     "name": "stderr",
     "output_type": "stream",
     "text": [
      "11:43 madminer.core.madmin INFO    Adding parameter: CWL2 (LHA: dim6 2, Power: 2, Range: (0.0, 1.0))\n",
      "11:43 madminer.core.madmin WARNING Resetting benchmarks and morphing\n",
      "11:43 madminer.core.madmin INFO    Adding parameter: CPWL2 (LHA: dim6 5, Power: 2, Range: (0.0, 1.0))\n",
      "11:43 madminer.core.madmin WARNING Resetting benchmarks and morphing\n"
     ]
    }
   ],
   "source": [
    "miner = MadMiner()\n",
    "\n",
    "miner.add_parameter(\n",
    "    lha_block=\"dim6\",\n",
    "    lha_id=2,\n",
    "    parameter_name=\"CWL2\",\n",
    "    morphing_max_power=2,\n",
    ")\n",
    "miner.add_parameter(\n",
    "    lha_block=\"dim6\",\n",
    "    lha_id=5,\n",
    "    parameter_name=\"CPWL2\",\n",
    "    morphing_max_power=2,\n",
    ")"
   ]
  },
  {
   "cell_type": "code",
   "execution_count": 9,
   "metadata": {},
   "outputs": [
    {
     "name": "stderr",
     "output_type": "stream",
     "text": [
      "11:43 madminer.core.madmin INFO    Optimizing basis for morphing the cross sections only\n",
      "11:43 madminer.core.madmin INFO    Testing out\n"
     ]
    }
   ],
   "source": [
    "miner.cs_set_morphing(max_overall_power=2)"
   ]
  },
  {
   "cell_type": "code",
   "execution_count": null,
   "metadata": {},
   "outputs": [],
   "source": [
    "mg_dir = \"/remote/gpu02/crescenzo/MG5_aMC_v3_5_3\"\n",
    "for j,elem in miner.morpher.cs_basis:\n",
    "    miner.run(\n",
    "    sample_benchmark=elem,\n",
    "    mg_directory=mg_dir,\n",
    "    mg_process_directory=f\"./mg_processes/signal_{j}\",\n",
    "    proc_card_file=\"cards/proc_card_signal.dat\",\n",
    "    param_card_template_file=\"cards/param_card_template.dat\",\n",
    "    run_card_file=\"cards/run_card_signal_large.dat\",\n",
    "    log_directory=f\"logs/signal_{j}\",\n",
    "    python_executable=\"python3\",\n",
    "    only_prepare_script=True\n",
    ")"
   ]
  },
  {
   "attachments": {},
   "cell_type": "markdown",
   "metadata": {},
   "source": [
    "Now run the MadGraph simulation. Compute externally the cross sections and set them as reduced cross sections"
   ]
  },
  {
   "cell_type": "code",
   "execution_count": 6,
   "metadata": {},
   "outputs": [],
   "source": [
    "##JUST EXAMPLE!\n",
    "##SUPPOSE I HAVE MAX POWER = 2 -> 6 BENCHMARK POINTS\n",
    "cs_from_madgraph = np.linspace(0.001,0.010,6)\n",
    "reduced_cs = cs_from_madgraph[1:cs_from_madgraph.size]/cs_from_madgraph[0]\n",
    "##NOTICE THE NEW SIZE IS N_BENCHMARKS - 1\n",
    "\n",
    "miner.morpher.set_reduced(reduced_cs)\n",
    "miner.save(\"save_file.h5\")"
   ]
  }
 ],
 "metadata": {
  "kernelspec": {
   "display_name": "environment",
   "language": "python",
   "name": "python3"
  },
  "language_info": {
   "codemirror_mode": {
    "name": "ipython",
    "version": 3
   },
   "file_extension": ".py",
   "mimetype": "text/x-python",
   "name": "python",
   "nbconvert_exporter": "python",
   "pygments_lexer": "ipython3",
   "version": "3.11.2"
  },
  "orig_nbformat": 4
 },
 "nbformat": 4,
 "nbformat_minor": 2
}

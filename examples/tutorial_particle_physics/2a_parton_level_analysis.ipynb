{
 "cells": [
  {
   "cell_type": "markdown",
   "metadata": {},
   "source": [
    "# MadMiner physics tutorial (part 2A)\n",
    "\n",
    "Johann Brehmer, Felix Kling, Irina Espejo, and Kyle Cranmer 2018-2019"
   ]
  },
  {
   "cell_type": "markdown",
   "metadata": {},
   "source": [
    "In this second part of the tutorial, we'll generate events and extract the observables and weights from them. You have two options: In this notebook we'll do this at parton level, in the alternative part 2b we use Delphes."
   ]
  },
  {
   "cell_type": "markdown",
   "metadata": {},
   "source": [
    "## 0. Preparations"
   ]
  },
  {
   "cell_type": "markdown",
   "metadata": {},
   "source": [
    "Before you execute this notebook, make sure you have a running installation of MadGraph."
   ]
  },
  {
   "cell_type": "code",
   "execution_count": 2,
   "metadata": {},
   "outputs": [],
   "source": [
    "import os\n",
    "import logging\n",
    "import numpy as np\n",
    "import sys\n",
    "sys.path.append('/remote/gpu02/crescenzo/MadMiner')\n",
    "\n",
    "from madminer.core import MadMiner\n",
    "from madminer.lhe import LHEReader\n",
    "from madminer.sampling import combine_and_shuffle\n",
    "from madminer.plotting import plot_distributions\n",
    "from particle import Particle"
   ]
  },
  {
   "cell_type": "code",
   "execution_count": 3,
   "metadata": {},
   "outputs": [],
   "source": [
    "# MadMiner output\n",
    "logging.basicConfig(\n",
    "    format=\"%(asctime)-5.5s %(name)-20.20s %(levelname)-7.7s %(message)s\",\n",
    "    datefmt=\"%H:%M\",\n",
    "    level=logging.DEBUG,\n",
    ")\n",
    "\n",
    "# Output of all other modules (e.g. matplotlib)\n",
    "for key in logging.Logger.manager.loggerDict:\n",
    "    if \"madminer\" not in key:\n",
    "        logging.getLogger(key).setLevel(logging.WARNING)"
   ]
  },
  {
   "cell_type": "markdown",
   "metadata": {},
   "source": [
    "Please enter here the environment variable pointing to your MG5 installation folder."
   ]
  },
  {
   "cell_type": "code",
   "execution_count": 5,
   "metadata": {},
   "outputs": [],
   "source": [
    "mg_dir = \"/remote/gpu02/crescenzo/MG5_aMC_v3_5_3\""
   ]
  },
  {
   "cell_type": "markdown",
   "metadata": {},
   "source": [
    "## 1. Generate events"
   ]
  },
  {
   "cell_type": "markdown",
   "metadata": {},
   "source": [
    "Let's load our setup:"
   ]
  },
  {
   "cell_type": "code",
   "execution_count": 6,
   "metadata": {},
   "outputs": [
    {
     "name": "stderr",
     "output_type": "stream",
     "text": [
      "14:49 madminer.utils.inter INFO    HDF5 file does not contain nuisance parameters information\n",
      "14:49 madminer.utils.inter INFO    HDF5 file does not contain finite difference information\n",
      "14:49 madminer.utils.inter INFO    HDF5 file does not contain observables information\n",
      "14:49 madminer.utils.inter INFO    HDF5 file does not contain sample summary information\n",
      "14:49 madminer.utils.inter INFO    HDF5 file does not contain sample information\n",
      "14:49 madminer.utils.inter INFO    HDF5 file does not contain systematic information\n",
      "14:49 madminer.core.madmin INFO    Found 2 parameters:\n",
      "14:49 madminer.core.madmin INFO       CWL2 (LHA: dim6 2, Power: 2, Range: (-20.0, 20.0))\n",
      "14:49 madminer.core.madmin INFO       CPWL2 (LHA: dim6 5, Power: 2, Range: (-20.0, 20.0))\n",
      "14:49 madminer.core.madmin INFO    Found 6 benchmarks:\n",
      "14:49 madminer.core.madmin INFO       sm: CWL2 = 0.00e+00, CPWL2 = 0.00e+00\n",
      "14:49 madminer.core.madmin INFO       w: CWL2 = 15.20, CPWL2 = 0.10\n",
      "14:49 madminer.core.madmin INFO       neg_w: CWL2 = -1.54e+01, CPWL2 = 0.20\n",
      "14:49 madminer.core.madmin INFO       ww: CWL2 = 0.30, CPWL2 = 15.10\n",
      "14:49 madminer.core.madmin INFO       neg_ww: CWL2 = 0.40, CPWL2 = -1.53e+01\n",
      "14:49 madminer.core.madmin INFO       morphing_basis_vector_5: CWL2 = -1.34e+01, CPWL2 = 19.92\n",
      "14:49 madminer.core.madmin INFO    Found morphing setup with 6 components\n",
      "14:49 madminer.core.madmin INFO    Did not find systematics setup.\n"
     ]
    }
   ],
   "source": [
    "miner = MadMiner()\n",
    "miner.load(\"data/setup.h5\")"
   ]
  },
  {
   "cell_type": "markdown",
   "metadata": {},
   "source": [
    "In a next step, MadMiner starts MadGraph to generate events and calculate the weights. You can use `run()` or `run_multiple()`; the latter allows to generate different runs with different run cards and optimizing the phase space for different benchmark points. \n",
    "\n",
    "In either case, you have to provide paths to the process card, run card, param card (the entries corresponding to the parameters of interest will be automatically adapted), and an empty reweight card. Log files in the `log_directory` folder collect the MadGraph output and are important for debugging.\n",
    "\n",
    "The `sample_benchmark` (or in the case of `run_all`, `sample_benchmarks`) option can be used to specify which benchmark should be used for sampling, i.e. for which benchmark point the phase space is optimized. If you just use one benchmark, reweighting to far-away points in parameter space can lead to large event weights and thus large statistical fluctuations. It is therefore often a good idea to combine a lot of events at the \"reference hypothesis\" (for us the SM) and smaller samples from other benchmarks that span the parameter space.\n"
   ]
  },
  {
   "cell_type": "code",
   "execution_count": 7,
   "metadata": {},
   "outputs": [
    {
     "name": "stderr",
     "output_type": "stream",
     "text": [
      "14:49 madminer.core.madmin INFO    Adding python3 bin folder to PATH\n",
      "14:49 madminer.core.madmin INFO    Using Python executable /remote/gpu02/crescenzo/environment/bin/python3\n",
      "14:49 madminer.utils.inter INFO    Generating MadGraph process folder from cards/proc_card_signal.dat at ./mg_processes/signal1\n",
      "14:49 madminer.utils.inter INFO    Calling MadGraph: export PATH=/remote/gpu02/crescenzo/environment/bin:$PATH; python3 /remote/gpu02/crescenzo/MG5_aMC_v3_5_3/bin/mg5_aMC /tmp/generate.mg5\n",
      "14:49 madminer.core.madmin INFO    Run 0\n",
      "14:49 madminer.core.madmin INFO      Sampling from benchmark: sm\n",
      "14:49 madminer.core.madmin INFO      Original run card:       cards/run_card_signal_large.dat\n",
      "14:49 madminer.core.madmin INFO      Original Pythia8 card:   None\n",
      "14:49 madminer.core.madmin INFO      Original MadSpin card:   None\n",
      "14:49 madminer.core.madmin INFO      Original config card:    None\n",
      "14:49 madminer.core.madmin INFO      Copied run card:         madminer/cards/run_card_0.dat\n",
      "14:49 madminer.core.madmin INFO      Copied Pythia8 card:     None\n",
      "14:49 madminer.core.madmin INFO      Copied MadSpin card:     None\n",
      "14:49 madminer.core.madmin INFO      Copied config card:      None\n",
      "14:49 madminer.core.madmin INFO      Param card:              madminer/cards/param_card_0.dat\n",
      "14:49 madminer.core.madmin INFO      Reweight card:           madminer/cards/reweight_card_0.dat\n",
      "14:49 madminer.core.madmin INFO      Log file:                run_0.log\n",
      "14:49 madminer.core.madmin INFO    Creating param and reweight cards in ./mg_processes/signal1/madminer/cards/param_card_0.dat, ./mg_processes/signal1/madminer/cards/reweight_card_0.dat\n",
      "14:49 madminer.utils.inter INFO    Preparing script to run MadGraph and Pythia in ./mg_processes/signal1\n",
      "14:49 madminer.core.madmin INFO    To generate events, please run:\n",
      "\n",
      " ./mg_processes/signal1/madminer/run.sh [MG_directory] [MG_process_directory] [log_dir]\n",
      "\n",
      "\n"
     ]
    }
   ],
   "source": [
    "miner.run(\n",
    "    sample_benchmark=\"sm\",\n",
    "    mg_directory=mg_dir,\n",
    "    mg_process_directory=\"./mg_processes/signal1\",\n",
    "    proc_card_file=\"cards/proc_card_signal.dat\",\n",
    "    param_card_template_file=\"cards/param_card_template.dat\",\n",
    "    run_card_file=\"cards/run_card_signal_large.dat\",\n",
    "    log_directory=\"logs/signal\",\n",
    "    python_executable=\"python3\",\n",
    "    only_prepare_script=True\n",
    ")"
   ]
  },
  {
   "cell_type": "markdown",
   "metadata": {},
   "source": [
    "This will take a moment -- time for a coffee break!\n",
    "\n",
    "After running any event generation through MadMiner, you should check whether the run succeeded: are the usual output files there, do the log files show any error messages? MadMiner does not (yet) perform any explicit checks, and if something went wrong in the event generation, it will only notice later when trying to load the event files."
   ]
  },
  {
   "cell_type": "markdown",
   "metadata": {},
   "source": [
    "### Backgrounds"
   ]
  },
  {
   "cell_type": "markdown",
   "metadata": {},
   "source": [
    "We can also easily add other processes like backgrounds. An important option is the `is_background` keyword, which should be used for processes that do *not* depend on the parameters theta. `is_background=True` will disable the reweighting and re-use the same weights for all cross sections.\n",
    "\n",
    "To reduce the runtime of the notebook, the background part is commented out here. Feel free to activate it and let it run during a lunch break."
   ]
  },
  {
   "cell_type": "code",
   "execution_count": 54,
   "metadata": {},
   "outputs": [
    {
     "name": "stderr",
     "output_type": "stream",
     "text": [
      "13:37 madminer.core.madmin INFO    Adding python3 bin folder to PATH\n",
      "13:37 madminer.core.madmin INFO    Using Python executable /Users/giovannidecrescenzo/miniconda3/envs/madminer/bin/python3\n",
      "13:37 madminer.utils.inter INFO    Generating MadGraph process folder from cards/proc_card_signal.dat at ./mg_processes/signal2\n",
      "13:37 madminer.utils.inter INFO    Calling MadGraph: export PATH=/Users/giovannidecrescenzo/miniconda3/envs/madminer/bin:$PATH; python3 /Users/giovannidecrescenzo/Desktop/MadGraph/MG5_aMC_v3_5_1/bin/mg5_aMC /var/folders/v8/wwdwlzys3rzg51jzn5hkrch00000gn/T/generate.mg5\n",
      "13:37 madminer.core.madmin INFO    Run 0\n",
      "13:37 madminer.core.madmin INFO      Sampling from benchmark: w\n",
      "13:37 madminer.core.madmin INFO      Original run card:       cards/run_card_signal_large.dat\n",
      "13:37 madminer.core.madmin INFO      Original Pythia8 card:   None\n",
      "13:37 madminer.core.madmin INFO      Original MadSpin card:   None\n",
      "13:37 madminer.core.madmin INFO      Original config card:    None\n",
      "13:37 madminer.core.madmin INFO      Copied run card:         madminer/cards/run_card_0.dat\n",
      "13:37 madminer.core.madmin INFO      Copied Pythia8 card:     None\n",
      "13:37 madminer.core.madmin INFO      Copied MadSpin card:     None\n",
      "13:37 madminer.core.madmin INFO      Copied config card:      None\n",
      "13:37 madminer.core.madmin INFO      Param card:              madminer/cards/param_card_0.dat\n",
      "13:37 madminer.core.madmin INFO      Reweight card:           madminer/cards/reweight_card_0.dat\n",
      "13:37 madminer.core.madmin INFO      Log file:                run_0.log\n",
      "13:37 madminer.core.madmin INFO    Creating param and reweight cards in ./mg_processes/signal2/madminer/cards/param_card_0.dat, ./mg_processes/signal2/madminer/cards/reweight_card_0.dat\n",
      "13:37 madminer.utils.inter INFO    Preparing script to run MadGraph and Pythia in ./mg_processes/signal2\n",
      "13:37 madminer.core.madmin INFO    To generate events, please run:\n",
      "\n",
      " ./mg_processes/signal2/madminer/run.sh [MG_directory] [MG_process_directory] [log_dir]\n",
      "\n",
      "\n"
     ]
    }
   ],
   "source": [
    "miner.run(\n",
    "    sample_benchmark=\"w\",\n",
    "    mg_directory=mg_dir,\n",
    "    mg_process_directory=\"./mg_processes/signal\",\n",
    "    proc_card_file=\"cards/proc_card_signal.dat\",\n",
    "    param_card_template_file=\"cards/param_card_template.dat\",\n",
    "    run_card_file=\"cards/run_card_signal_large.dat\",\n",
    "    log_directory=\"logs/signal\",\n",
    "    python_executable=\"python3\",\n",
    "    only_prepare_script=True\n",
    ")"
   ]
  },
  {
   "cell_type": "markdown",
   "metadata": {},
   "source": [
    "Finally, note that both `MadMiner.run()` and `MadMiner.run_multiple()` have a `only_create_script` keyword. If that is set to True, MadMiner will not start the event generation directly, but prepare folders with all the right settings and ready-to-run bash scripts. This might make it much easier to generate Events on a high-performance computing system. "
   ]
  },
  {
   "cell_type": "markdown",
   "metadata": {},
   "source": [
    "## 2. Prepare analysis of the LHE samples"
   ]
  },
  {
   "cell_type": "markdown",
   "metadata": {},
   "source": [
    "The `madminer.lhe` submodule allows us to extract observables directly from the parton-level LHE samples, including an approximate description of the detector response with smearing functions. The central object is an instance of the `LHEProcessor` class, which has to be initialized with a MadMiner file:"
   ]
  },
  {
   "cell_type": "code",
   "execution_count": 17,
   "metadata": {},
   "outputs": [
    {
     "name": "stderr",
     "output_type": "stream",
     "text": [
      "14:51 madminer.utils.inter INFO    HDF5 file does not contain nuisance parameters information\n",
      "14:51 madminer.utils.inter INFO    HDF5 file does not contain finite difference information\n",
      "14:51 madminer.utils.inter INFO    HDF5 file does not contain observables information\n",
      "14:51 madminer.utils.inter INFO    HDF5 file does not contain sample summary information\n",
      "14:51 madminer.utils.inter INFO    HDF5 file does not contain sample information\n",
      "14:51 madminer.utils.inter INFO    HDF5 file does not contain systematic information\n"
     ]
    }
   ],
   "source": [
    "lhe = LHEReader(\"data/setup.h5\")"
   ]
  },
  {
   "cell_type": "markdown",
   "metadata": {},
   "source": [
    "After creating the `LHEReader` object, one can add a number of event samples (the output of running MadGraph in step 1) with the `add_sample()` function.\n",
    "\n",
    "In addition, you have to provide the information which sample was generated from which benchmark with the `sampled_from_benchmark` keyword, and set `is_background=True` for all background samples."
   ]
  },
  {
   "cell_type": "markdown",
   "metadata": {},
   "source": [
    "In addition, we can define noise that only affects MET. This adds Gaussian noise with mean 0 and std `abs_ + rel * HT` to MET_x and MET_y separately."
   ]
  },
  {
   "cell_type": "code",
   "execution_count": 18,
   "metadata": {},
   "outputs": [
    {
     "name": "stderr",
     "output_type": "stream",
     "text": [
      "14:52 madminer.lhe.lhe_rea DEBUG   Adding event sample mg_processes/signal1/Events/run_01/unweighted_events.lhe.gz\n"
     ]
    }
   ],
   "source": [
    "lhe.add_sample(\n",
    "            lhe_filename=f\"mg_processes/signal1/Events/run_01/unweighted_events.lhe.gz\",\n",
    "            sampled_from_benchmark=\"sm\",\n",
    "            is_background=False,\n",
    "            k_factor=1.0,\n",
    "        )"
   ]
  },
  {
   "cell_type": "markdown",
   "metadata": {},
   "source": [
    "## 4. Observables and cuts"
   ]
  },
  {
   "cell_type": "markdown",
   "metadata": {},
   "source": [
    "The next step is the definition of observables, either through a Python function or an expression that can be evaluated. Here we demonstrate the latter, which is implemented in `add_observable()`. In the expression string, you can use the terms `j[i]`, `e[i]`, `mu[i]`, `a[i]`, `met`, where the indices `i` refer to a ordering by the transverse momentum. In addition, you can use `p[i]`, which denotes the `i`-th particle in the order given in the LHE sample (which is the order in which the final-state particles where defined in MadGraph).\n",
    "\n",
    "All of these represent objects inheriting from scikit-hep [LorentzVectors](http://scikit-hep.org/api/math.html#vector-classes), see the link for a documentation of their properties. In addition, they have `charge` and `pdg_id` properties.\n",
    "\n",
    "`add_observable()` has an optional keyword `required`. If `required=True`, we will only keep events where the observable can be parsed, i.e. all involved particles have been detected. If `required=False`, un-parseable observables will be filled with the value of another keyword `default`.\n",
    "\n",
    "In a realistic project, you would want to add a large number of observables that capture all information in your events. Here we will just define two observables, the transverse momentum of the leading (= higher-pT) jet, and the azimuthal angle between the two leading jets."
   ]
  },
  {
   "cell_type": "code",
   "execution_count": 19,
   "metadata": {},
   "outputs": [
    {
     "name": "stderr",
     "output_type": "stream",
     "text": [
      "14:52 madminer.lhe.lhe_rea DEBUG   Adding required observable met = met.pt\n"
     ]
    }
   ],
   "source": [
    "lhe.add_observable(\n",
    "    \"met\",\n",
    "    \"met.pt\",\n",
    "    required=True,\n",
    ")"
   ]
  },
  {
   "cell_type": "markdown",
   "metadata": {},
   "source": [
    "We can also add cuts, again in parse-able strings. In addition to the objects discussed above, they can contain the observables:"
   ]
  },
  {
   "cell_type": "code",
   "execution_count": 20,
   "metadata": {},
   "outputs": [
    {
     "data": {
      "text/plain": [
       "'lhe.add_cut(\"(a[0] + a[1]).m > 122.0\")\\nlhe.add_cut(\"(a[0] + a[1]).m < 128.0\")\\nlhe.add_cut(\"pt_j1 > 20.0\")'"
      ]
     },
     "execution_count": 20,
     "metadata": {},
     "output_type": "execute_result"
    }
   ],
   "source": [
    "\"\"\"lhe.add_cut(\"(a[0] + a[1]).m > 122.0\")\n",
    "lhe.add_cut(\"(a[0] + a[1]).m < 128.0\")\n",
    "lhe.add_cut(\"pt_j1 > 20.0\")\"\"\""
   ]
  },
  {
   "cell_type": "markdown",
   "metadata": {},
   "source": [
    "## 5. Run analysis and store processes events"
   ]
  },
  {
   "cell_type": "markdown",
   "metadata": {},
   "source": [
    "The function `analyse_samples` then calculates all observables from the LHE file(s) generated before, applies the smearing, and checks which events pass the cuts:"
   ]
  },
  {
   "cell_type": "code",
   "execution_count": 21,
   "metadata": {
    "scrolled": true
   },
   "outputs": [
    {
     "name": "stderr",
     "output_type": "stream",
     "text": [
      "14:53 madminer.lhe.lhe_rea INFO    Analysing LHE sample mg_processes/signal1/Events/run_01/unweighted_events.lhe.gz: Calculating 1 observables, requiring 0 selection cuts, using 0 efficiency factors, associated with no systematics\n",
      "14:53 madminer.lhe.lhe_rea DEBUG   Extracting nuisance parameter definitions from LHE file\n",
      "14:53 madminer.utils.inter DEBUG   Parsing nuisance parameter setup from LHE file at mg_processes/signal1/Events/run_01/unweighted_events.lhe.gz\n",
      "14:53 madminer.utils.inter DEBUG   Systematics setup: OrderedDict()\n",
      "14:53 madminer.utils.inter DEBUG   1 weight groups\n",
      "14:53 madminer.lhe.lhe_rea DEBUG   systematics_dict: OrderedDict()\n",
      "14:53 madminer.utils.inter DEBUG   Parsing LHE file mg_processes/signal1/Events/run_01/unweighted_events.lhe.gz\n",
      "14:53 madminer.utils.inter DEBUG   Parsing header and events as XML with ElementTree\n",
      "14:53 madminer.utils.inter DEBUG   Found entry event_norm = sum in LHE header. Interpreting this as weight_norm_is_average = False.\n"
     ]
    },
    {
     "name": "stdout",
     "output_type": "stream",
     "text": [
      "Parallelize:  False\n"
     ]
    },
    {
     "name": "stderr",
     "output_type": "stream",
     "text": [
      "14:53 madminer.lhe.lhe_rea DEBUG   Found weights ['sm', 'w', 'neg_w', 'ww', 'neg_ww', 'morphing_basis_vector_5'] in LHE file\n",
      "14:53 madminer.lhe.lhe_rea DEBUG   Found 100 events\n",
      "14:53 madminer.lhe.lhe_rea DEBUG   Found 100 events\n",
      "14:53 madminer.lhe.lhe_rea INFO    Analysed number of events per sampling benchmark:\n",
      "14:53 madminer.lhe.lhe_rea INFO      100 from sm\n"
     ]
    }
   ],
   "source": [
    "lhe.analyse_samples()"
   ]
  },
  {
   "cell_type": "markdown",
   "metadata": {},
   "source": [
    "The values of the observables and the weights are then saved in the HDF5 file. It is possible to overwrite the same file, or to leave the original file intact and save all the data into a new file as follows:"
   ]
  },
  {
   "cell_type": "code",
   "execution_count": 22,
   "metadata": {},
   "outputs": [
    {
     "name": "stderr",
     "output_type": "stream",
     "text": [
      "14:53 madminer.lhe.lhe_rea DEBUG   Loading HDF5 data from data/setup.h5 and saving file to data/lhe_data.h5\n",
      "14:53 madminer.lhe.lhe_rea DEBUG   Weight names: ['sm', 'w', 'neg_w', 'ww', 'neg_ww', 'morphing_basis_vector_5']\n",
      "14:53 madminer.utils.inter DEBUG   Benchmark morphing_basis_vector_5 already in the list of benchmarks\n",
      "14:53 madminer.utils.inter DEBUG   Benchmark neg_w already in the list of benchmarks\n",
      "14:53 madminer.utils.inter DEBUG   Benchmark neg_ww already in the list of benchmarks\n",
      "14:53 madminer.utils.inter DEBUG   Benchmark sm already in the list of benchmarks\n",
      "14:53 madminer.utils.inter DEBUG   Benchmark w already in the list of benchmarks\n",
      "14:53 madminer.utils.inter DEBUG   Benchmark ww already in the list of benchmarks\n",
      "14:53 madminer.utils.inter DEBUG   Weight names to save in event file: odict_keys(['sm', 'w', 'neg_w', 'ww', 'neg_ww', 'morphing_basis_vector_5'])\n",
      "14:53 madminer.utils.inter DEBUG   Benchmark names to save in event file: ['sm', 'w', 'neg_w', 'ww', 'neg_ww', 'morphing_basis_vector_5']\n",
      "14:53 madminer.sampling.co DEBUG   Combining and shuffling samples\n",
      "14:53 madminer.sampling.co DEBUG   Copying setup from data/lhe_data.h5 to data/lhe_data.h5\n",
      "14:53 madminer.sampling.co DEBUG   Loading samples from file 1 / 1 at data/lhe_data.h5, multiplying weights with k factor 1.0\n",
      "14:53 madminer.utils.inter INFO    HDF5 file does not contain nuisance parameters information\n",
      "14:53 madminer.utils.inter INFO    HDF5 file does not contain finite difference information\n",
      "14:53 madminer.utils.inter INFO    HDF5 file does not contain systematic information\n",
      "14:53 madminer.sampling.co DEBUG   Sampling benchmarks: [0 0 0 0 0 0 0 0 0 0 0 0 0 0 0 0 0 0 0 0 0 0 0 0 0 0 0 0 0 0 0 0 0 0 0 0 0\n",
      " 0 0 0 0 0 0 0 0 0 0 0 0 0 0 0 0 0 0 0 0 0 0 0 0 0 0 0 0 0 0 0 0 0 0 0 0 0\n",
      " 0 0 0 0 0 0 0 0 0 0 0 0 0 0 0 0 0 0 0 0 0 0 0 0 0 0]\n",
      "14:53 madminer.sampling.co DEBUG   Combined sampling benchmarks: [0 0 0 0 0 0 0 0 0 0 0 0 0 0 0 0 0 0 0 0 0 0 0 0 0 0 0 0 0 0 0 0 0 0 0 0 0\n",
      " 0 0 0 0 0 0 0 0 0 0 0 0 0 0 0 0 0 0 0 0 0 0 0 0 0 0 0 0 0 0 0 0 0 0 0 0 0\n",
      " 0 0 0 0 0 0 0 0 0 0 0 0 0 0 0 0 0 0 0 0 0 0 0 0 0 0]\n",
      "14:53 madminer.sampling.co DEBUG   Recalculated event numbers per benchmark: [100   0   0   0   0   0], background: 0\n",
      "14:53 madminer.sampling.co DEBUG   Combining and shuffling samples\n",
      "14:53 madminer.sampling.co DEBUG   Copying setup from data/lhe_data.h5 to data/lhe_data_shuffled.h5\n",
      "14:53 madminer.sampling.co DEBUG   Loading samples from file 1 / 1 at data/lhe_data.h5, multiplying weights with k factor 1.0\n",
      "14:53 madminer.utils.inter INFO    HDF5 file does not contain nuisance parameters information\n",
      "14:53 madminer.utils.inter INFO    HDF5 file does not contain finite difference information\n",
      "14:53 madminer.utils.inter INFO    HDF5 file does not contain systematic information\n",
      "14:53 madminer.sampling.co DEBUG   Sampling benchmarks: [0 0 0 0 0 0 0 0 0 0 0 0 0 0 0 0 0 0 0 0 0 0 0 0 0 0 0 0 0 0 0 0 0 0 0 0 0\n",
      " 0 0 0 0 0 0 0 0 0 0 0 0 0 0 0 0 0 0 0 0 0 0 0 0 0 0 0 0 0 0 0 0 0 0 0 0 0\n",
      " 0 0 0 0 0 0 0 0 0 0 0 0 0 0 0 0 0 0 0 0 0 0 0 0 0 0]\n",
      "14:53 madminer.sampling.co DEBUG   Combined sampling benchmarks: [0 0 0 0 0 0 0 0 0 0 0 0 0 0 0 0 0 0 0 0 0 0 0 0 0 0 0 0 0 0 0 0 0 0 0 0 0\n",
      " 0 0 0 0 0 0 0 0 0 0 0 0 0 0 0 0 0 0 0 0 0 0 0 0 0 0 0 0 0 0 0 0 0 0 0 0 0\n",
      " 0 0 0 0 0 0 0 0 0 0 0 0 0 0 0 0 0 0 0 0 0 0 0 0 0 0]\n",
      "14:53 madminer.sampling.co DEBUG   Recalculated event numbers per benchmark: [100   0   0   0   0   0], background: 0\n"
     ]
    }
   ],
   "source": [
    "lhe.save(\"data/lhe_data.h5\")\n",
    "combine_and_shuffle([\"data/lhe_data.h5\"], \"data/lhe_data_shuffled.h5\")"
   ]
  },
  {
   "cell_type": "markdown",
   "metadata": {},
   "source": [
    "## 6. Plot distributions"
   ]
  },
  {
   "cell_type": "markdown",
   "metadata": {},
   "source": [
    "Let's see what our MC run produced:"
   ]
  },
  {
   "cell_type": "code",
   "execution_count": 20,
   "metadata": {},
   "outputs": [
    {
     "name": "stderr",
     "output_type": "stream",
     "text": [
      "11:51 madminer.analysis.da INFO    Loading data from data/lhe_data.h5\n",
      "11:51 madminer.utils.inter INFO    HDF5 file does not contain nuisance parameters information\n",
      "11:51 madminer.utils.inter INFO    HDF5 file does not contain finite difference information\n",
      "11:51 madminer.utils.inter INFO    HDF5 file does not contain systematic information\n",
      "11:51 madminer.analysis.da INFO    Found 2 parameters\n",
      "11:51 madminer.analysis.da INFO      0: CWL2 (LHA: dim6 2, Power: 2, Range: (-20.0, 20.0))\n",
      "11:51 madminer.analysis.da INFO      1: CPWL2 (LHA: dim6 5, Power: 2, Range: (-20.0, 20.0))\n",
      "11:51 madminer.analysis.da INFO    Did not find nuisance parameters\n",
      "11:51 madminer.analysis.da INFO    Found 6 benchmarks\n",
      "11:51 madminer.analysis.da DEBUG      sm: CWL2 = 0.00e+00, CPWL2 = 0.00e+00\n",
      "11:51 madminer.analysis.da DEBUG      w: CWL2 = 15.20, CPWL2 = 0.10\n",
      "11:51 madminer.analysis.da DEBUG      neg_w: CWL2 = -1.54e+01, CPWL2 = 0.20\n",
      "11:51 madminer.analysis.da DEBUG      ww: CWL2 = 0.30, CPWL2 = 15.10\n",
      "11:51 madminer.analysis.da DEBUG      neg_ww: CWL2 = 0.40, CPWL2 = -1.53e+01\n",
      "11:51 madminer.analysis.da DEBUG      morphing_basis_vector_5: CWL2 = 11.68, CPWL2 = 15.90\n",
      "11:51 madminer.analysis.da INFO    Found 3 observables\n",
      "11:51 madminer.analysis.da DEBUG      0 pt_j1\n",
      "11:51 madminer.analysis.da DEBUG      1 delta_phi_jj\n",
      "11:51 madminer.analysis.da DEBUG      2 met\n",
      "11:51 madminer.analysis.da INFO    Found 89993 events\n",
      "11:51 madminer.analysis.da INFO      49993 signal events sampled from benchmark sm\n",
      "11:51 madminer.analysis.da INFO      10000 signal events sampled from benchmark w\n",
      "11:51 madminer.analysis.da INFO      10000 signal events sampled from benchmark neg_w\n",
      "11:51 madminer.analysis.da INFO      10000 signal events sampled from benchmark ww\n",
      "11:51 madminer.analysis.da INFO      10000 signal events sampled from benchmark neg_ww\n",
      "11:51 madminer.analysis.da INFO      0 signal events sampled from benchmark morphing_basis_vector_5\n",
      "11:51 madminer.analysis.da INFO    Found morphing setup with 6 components\n",
      "11:51 madminer.analysis.da INFO    Did not find nuisance morphing setup\n",
      "11:51 madminer.plotting.di DEBUG   Observable indices: [0, 1, 2]\n",
      "11:51 madminer.plotting.di DEBUG   Calculated 2 theta matrices\n",
      "11:51 madminer.analysis.da DEBUG   Sampling benchmark closest to None: None\n",
      "11:51 madminer.analysis.da DEBUG   Events per benchmark: [49993. 10000. 10000. 10000. 10000.     0.]\n",
      "11:51 madminer.plotting.di DEBUG   Loaded raw data with shapes (89993, 3), (89993, 6)\n",
      "11:51 madminer.analysis.da DEBUG   Sampling benchmark closest to [0. 0.]: 0\n",
      "11:51 madminer.analysis.da DEBUG   Sampling benchmark closest to [10.  0.]: 1\n",
      "11:51 madminer.plotting.di DEBUG   Plotting panel 0: observable 0, label pt_j1\n",
      "11:51 madminer.plotting.di DEBUG   Ranges for observable pt_j1: min = [20.06170846578035, 20.06170846578035], max = [304.84480631860873, 1250.994428326081]\n",
      "11:51 madminer.plotting.di DEBUG   Plotting panel 1: observable 1, label delta_phi_jj\n",
      "11:51 madminer.plotting.di DEBUG   Ranges for observable delta_phi_jj: min = [-3.1415646461936237, -3.1415646461936237], max = [3.1415578617295834, 3.1415578617295834]\n",
      "11:51 madminer.plotting.di DEBUG   Plotting panel 2: observable 2, label met\n",
      "11:51 madminer.plotting.di DEBUG   Ranges for observable met: min = [0.12066229875528646, 0.12066229875528646], max = [102.433621253412, 297.1602302671356]\n"
     ]
    },
    {
     "data": {
      "image/png": "[encoded data removed]",
      "text/plain": [
       "<Figure size 1200x400 with 3 Axes>"
      ]
     },
     "metadata": {},
     "output_type": "display_data"
    }
   ],
   "source": [
    "_ = plot_distributions(\n",
    "    filename=\"data/lhe_data.h5\",\n",
    "    parameter_points=[\"sm\", np.array([10.0, 0.0])],\n",
    "    line_labels=[\"SM\", \"BSM\"],\n",
    "    uncertainties=\"none\",\n",
    "    n_bins=20,\n",
    "    n_cols=3,\n",
    "    normalize=True,\n",
    "    sample_only_from_closest_benchmark=True,\n",
    ")"
   ]
  },
  {
   "cell_type": "markdown",
   "metadata": {},
   "source": [
    "## 7. Combine and shuffle different samples"
   ]
  },
  {
   "cell_type": "markdown",
   "metadata": {},
   "source": [
    "To reduce disk usage, you can generate several small event samples with the steps given above, and combine them now. Note that (for now) it is essential that all of them are generated with the same setup, including the same benchmark points / morphing basis!\n",
    "\n",
    "This is generally good practice even if you use just one sample, since the events might have some inherent ordering (e.g. from sampling from different hypotheses). Later when we split the events into a training and test fraction, such an ordering could cause problems."
   ]
  },
  {
   "cell_type": "code",
   "execution_count": 21,
   "metadata": {},
   "outputs": [
    {
     "name": "stderr",
     "output_type": "stream",
     "text": [
      "11:51 madminer.sampling.co DEBUG   Combining and shuffling samples\n",
      "11:51 madminer.sampling.co DEBUG   Copying setup from data/lhe_data.h5 to data/lhe_data_shuffled.h5\n",
      "11:51 madminer.sampling.co DEBUG   Loading samples from file 1 / 1 at data/lhe_data.h5, multiplying weights with k factor 1.0\n",
      "11:51 madminer.utils.inter INFO    HDF5 file does not contain nuisance parameters information\n",
      "11:51 madminer.utils.inter INFO    HDF5 file does not contain finite difference information\n",
      "11:51 madminer.utils.inter INFO    HDF5 file does not contain systematic information\n",
      "11:51 madminer.sampling.co DEBUG   Sampling benchmarks: [0 0 0 ... 0 2 0]\n",
      "11:51 madminer.sampling.co DEBUG   Combined sampling benchmarks: [0 0 0 ... 0 2 0]\n",
      "11:51 madminer.sampling.co DEBUG   Recalculated event numbers per benchmark: [49993 10000 10000 10000 10000     0], background: 0\n"
     ]
    }
   ],
   "source": [
    "combine_and_shuffle([\"data/lhe_data.h5\"], \"data/lhe_data_shuffled.h5\")"
   ]
  },
  {
   "cell_type": "code",
   "execution_count": null,
   "metadata": {},
   "outputs": [],
   "source": []
  }
 ],
 "metadata": {
  "kernelspec": {
   "display_name": "Python 3",
   "language": "python",
   "name": "python3"
  },
  "language_info": {
   "codemirror_mode": {
    "name": "ipython",
    "version": 3
   },
   "file_extension": ".py",
   "mimetype": "text/x-python",
   "name": "python",
   "nbconvert_exporter": "python",
   "pygments_lexer": "ipython3",
   "version": "3.11.2"
  }
 },
 "nbformat": 4,
 "nbformat_minor": 2
}

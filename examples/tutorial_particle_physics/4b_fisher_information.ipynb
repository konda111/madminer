{
 "cells": [
  {
   "cell_type": "markdown",
   "metadata": {},
   "source": [
    "# MadMiner physics tutorial (part 4B)\n",
    "\n",
    "Johann Brehmer, Felix Kling, Irina Espejo, and Kyle Cranmer 2018-2019"
   ]
  },
  {
   "cell_type": "markdown",
   "metadata": {},
   "source": [
    "## 0. Preparations"
   ]
  },
  {
   "cell_type": "code",
   "execution_count": 11,
   "metadata": {},
   "outputs": [],
   "source": [
    "import logging\n",
    "\n",
    "from madminer.fisherinformation import FisherInformation\n",
    "from madminer.plotting import plot_fisher_information_contours_2d"
   ]
  },
  {
   "cell_type": "code",
   "execution_count": 12,
   "metadata": {},
   "outputs": [],
   "source": [
    "# MadMiner output\n",
    "logging.basicConfig(\n",
    "    format=\"%(asctime)-5.5s %(name)-20.20s %(levelname)-7.7s %(message)s\",\n",
    "    datefmt=\"%H:%M\",\n",
    "    level=logging.INFO,\n",
    ")\n",
    "\n",
    "# Output of all other modules (e.g. matplotlib)\n",
    "for key in logging.Logger.manager.loggerDict:\n",
    "    if \"madminer\" not in key:\n",
    "        logging.getLogger(key).setLevel(logging.WARNING)"
   ]
  },
  {
   "cell_type": "markdown",
   "metadata": {},
   "source": [
    "## 1. Calculating the Fisher information from a SALLY model"
   ]
  },
  {
   "cell_type": "markdown",
   "metadata": {},
   "source": [
    "We can use SALLY estimators (see part 3b of this tutorial) not just to define optimal observables, but also to calculate the (expected) Fisher information in a process. In `madminer.fisherinformation` we provide the `FisherInformation` class that makes this more convenient."
   ]
  },
  {
   "cell_type": "code",
   "execution_count": 13,
   "metadata": {},
   "outputs": [
    {
     "name": "stderr",
     "output_type": "stream",
     "text": [
      "14:20 madminer.analysis.da INFO    Loading data from data/lhe_data_shuffled.h5\n",
      "14:20 madminer.utils.inter INFO    HDF5 file does not contain nuisance parameters information\n",
      "14:20 madminer.utils.inter INFO    HDF5 file does not contain finite difference information\n",
      "14:20 madminer.utils.inter INFO    HDF5 file does not contain systematic information\n",
      "14:20 madminer.analysis.da INFO    Found 2 parameters\n",
      "14:20 madminer.analysis.da INFO      0: CWL2 (LHA: dim6 2, Power: 2, Range: (-20.0, 20.0))\n",
      "14:20 madminer.analysis.da INFO      1: CPWL2 (LHA: dim6 5, Power: 2, Range: (-20.0, 20.0))\n",
      "14:20 madminer.analysis.da INFO    Did not find nuisance parameters\n",
      "14:20 madminer.analysis.da INFO    Found 6 benchmarks\n",
      "14:20 madminer.analysis.da INFO    Found 3 observables\n",
      "14:20 madminer.analysis.da INFO    Found 89993 events\n",
      "14:20 madminer.analysis.da INFO      49993 signal events sampled from benchmark sm\n",
      "14:20 madminer.analysis.da INFO      10000 signal events sampled from benchmark w\n",
      "14:20 madminer.analysis.da INFO      10000 signal events sampled from benchmark neg_w\n",
      "14:20 madminer.analysis.da INFO      10000 signal events sampled from benchmark ww\n",
      "14:20 madminer.analysis.da INFO      10000 signal events sampled from benchmark neg_ww\n",
      "14:20 madminer.analysis.da INFO      0 signal events sampled from benchmark morphing_basis_vector_5\n",
      "14:20 madminer.analysis.da INFO    Found morphing setup with 6 components\n",
      "14:20 madminer.analysis.da INFO    Did not find nuisance morphing setup\n"
     ]
    }
   ],
   "source": [
    "fisher = FisherInformation(\"data/lhe_data_shuffled.h5\")\n",
    "# fisher = FisherInformation('data/delphes_data_shuffled.h5')"
   ]
  },
  {
   "cell_type": "markdown",
   "metadata": {},
   "source": [
    "This class provides different functions:\n",
    "- `rate_information()` calculates the Fisher information in total rates,\n",
    "- `histo_information()` calculates the Fisher information in 1D histograms,\n",
    "- `histo_information_2d()` calculates the Fisher information in 2D histograms,\n",
    "- `full_information()` calculates the full detector-level Fisher information using a SALLY estimator, and\n",
    "- `truth_information()` calculates the truth-level Fisher information.\n",
    "\n",
    "Here we use the SALLY approach:"
   ]
  },
  {
   "cell_type": "code",
   "execution_count": 14,
   "metadata": {},
   "outputs": [
    {
     "name": "stderr",
     "output_type": "stream",
     "text": [
      "14:20 madminer.ml.base     INFO    Loading model from models/sally\n",
      "14:20 madminer.fisherinfor INFO    Found 2 parameters in Score Estimator model, matching 2 physical parameters in MadMiner file\n",
      "14:20 madminer.fisherinfor INFO    Evaluating rate Fisher information\n",
      "14:20 madminer.fisherinfor INFO    Evaluating kinematic Fisher information on batch 1 / 1\n",
      "14:20 madminer.ml.base     INFO    Loading evaluation data\n",
      "14:20 madminer.ml.base     INFO    Calculating Fisher information\n"
     ]
    },
    {
     "name": "stdout",
     "output_type": "stream",
     "text": [
      "Fisher information after 300 ifb:\n",
      "[[184.46110427  -1.24348367]\n",
      " [ -1.24348367 113.85189984]]\n"
     ]
    }
   ],
   "source": [
    "info_sally, _ = fisher.full_information(\n",
    "    theta=[0.0, 0.0],\n",
    "    model_file=\"models/sally\",\n",
    "    luminosity=300.0 * 1000.0,\n",
    ")\n",
    "\n",
    "print(\"Fisher information after 300 ifb:\\n{}\".format(info_sally))"
   ]
  },
  {
   "cell_type": "markdown",
   "metadata": {},
   "source": [
    "For comparison, we can calculate the Fisher information in the histogram of observables:"
   ]
  },
  {
   "cell_type": "code",
   "execution_count": 15,
   "metadata": {},
   "outputs": [
    {
     "name": "stderr",
     "output_type": "stream",
     "text": [
      "14:20 madminer.fisherinfor INFO    Bins with largest statistical uncertainties on rates:\n",
      "14:20 madminer.fisherinfor INFO      Bin 1: (0.01470 +/- 0.00202) fb (14 %)\n",
      "14:20 madminer.fisherinfor INFO      Bin 5: (0.00611 +/- 0.00022) fb (4 %)\n",
      "14:20 madminer.fisherinfor INFO      Bin 2: (0.59045 +/- 0.01587) fb (3 %)\n",
      "14:20 madminer.fisherinfor INFO      Bin 3: (0.33968 +/- 0.00669) fb (2 %)\n",
      "14:20 madminer.fisherinfor INFO      Bin 4: (0.07276 +/- 0.00119) fb (2 %)\n",
      "14:20 madminer.fisherinfor WARNING Cannot include nuisance parameters as none were found in the setup file\n"
     ]
    },
    {
     "name": "stdout",
     "output_type": "stream",
     "text": [
      "Histogram Fisher information after 300 ifb:\n",
      "[[ 1.20588974e+02 -5.86396609e-01]\n",
      " [-5.86396609e-01  6.50509161e-02]]\n"
     ]
    }
   ],
   "source": [
    "info_histo_1d, cov_histo_1d = fisher.histo_information(\n",
    "    theta=[0.0, 0.0],\n",
    "    luminosity=300.0 * 1000.0,\n",
    "    observable=\"pt_j1\",\n",
    "    bins=[30.0, 100.0, 200.0, 400.0],\n",
    "    histrange=[30.0, 400.0],\n",
    ")\n",
    "\n",
    "print(\"Histogram Fisher information after 300 ifb:\\n{}\".format(info_histo_1d))"
   ]
  },
  {
   "cell_type": "markdown",
   "metadata": {},
   "source": [
    "We can do the same thing in 2D:"
   ]
  },
  {
   "cell_type": "code",
   "execution_count": 16,
   "metadata": {},
   "outputs": [
    {
     "name": "stderr",
     "output_type": "stream",
     "text": [
      "14:20 madminer.fisherinfor INFO    Bins with largest statistical uncertainties on rates:\n",
      "14:20 madminer.fisherinfor INFO      Bin (1, 4): (0.00135 +/- 0.00049) fb (36 %)\n",
      "14:20 madminer.fisherinfor INFO      Bin (1, 3): (0.00346 +/- 0.00085) fb (25 %)\n",
      "14:20 madminer.fisherinfor INFO      Bin (1, 1): (0.00795 +/- 0.00174) fb (22 %)\n",
      "14:20 madminer.fisherinfor INFO      Bin (1, 2): (0.00195 +/- 0.00034) fb (17 %)\n",
      "14:20 madminer.fisherinfor INFO      Bin (5, 4): (0.00100 +/- 0.00010) fb (10 %)\n",
      "14:20 madminer.fisherinfor WARNING Cannot include nuisance parameters as none were found in the setup file\n"
     ]
    },
    {
     "name": "stdout",
     "output_type": "stream",
     "text": [
      "Histogram Fisher information after 300 ifb:\n",
      "[[131.93760317   1.33467507]\n",
      " [  1.33467507  90.6301305 ]]\n"
     ]
    }
   ],
   "source": [
    "info_histo_2d, cov_histo_2d = fisher.histo_information_2d(\n",
    "    theta=[0.0, 0.0],\n",
    "    luminosity=300.0 * 1000.0,\n",
    "    observable1=\"pt_j1\",\n",
    "    bins1=[30.0, 100.0, 200.0, 400.0],\n",
    "    histrange1=[30.0, 400.0],\n",
    "    observable2=\"delta_phi_jj\",\n",
    "    bins2=5,\n",
    "    histrange2=[0, 6.2],\n",
    ")\n",
    "\n",
    "print(\"Histogram Fisher information after 300 ifb:\\n{}\".format(info_histo_2d))"
   ]
  },
  {
   "cell_type": "markdown",
   "metadata": {},
   "source": [
    "## 2. Calculating the Fisher information from a SALLY model"
   ]
  },
  {
   "cell_type": "markdown",
   "metadata": {},
   "source": [
    "We can also calculate the Fisher Information using an ALICES model"
   ]
  },
  {
   "cell_type": "code",
   "execution_count": 17,
   "metadata": {},
   "outputs": [
    {
     "name": "stderr",
     "output_type": "stream",
     "text": [
      "14:20 madminer.ml.base     INFO    Loading model from models/alices\n",
      "14:20 madminer.fisherinfor INFO    Found 2 parameters in Parameterized Ratio Estimator model, matching 2 physical parameters in MadMiner file\n",
      "14:20 madminer.fisherinfor INFO    Evaluating rate Fisher information\n",
      "14:20 madminer.fisherinfor INFO    Evaluating kinematic Fisher information on batch 1 / 1\n",
      "14:20 madminer.ml.base     INFO    Loading evaluation data\n",
      "14:20 madminer.ml.base     INFO    Calculating Fisher information\n"
     ]
    },
    {
     "name": "stdout",
     "output_type": "stream",
     "text": [
      "Fisher information using ALICES after 300 ifb:\n",
      "[[128.48070599  -1.53107393]\n",
      " [ -1.53107393  96.49565785]]\n"
     ]
    }
   ],
   "source": [
    "info_alices, _ = fisher.full_information(\n",
    "    theta=[0.0, 0.0],\n",
    "    model_file=\"models/alices\",\n",
    "    luminosity=300.0 * 1000.0,\n",
    ")\n",
    "\n",
    "print(\"Fisher information using ALICES after 300 ifb:\\n{}\".format(info_alices))"
   ]
  },
  {
   "cell_type": "markdown",
   "metadata": {},
   "source": [
    "## 3. Plot Fisher distances"
   ]
  },
  {
   "cell_type": "markdown",
   "metadata": {},
   "source": [
    "We also provide a convenience function to plot contours of constant Fisher distance `d^2(theta, theta_ref) = I_ij(theta_ref) * (theta-theta_ref)_i * (theta-theta_ref)_j`:"
   ]
  },
  {
   "cell_type": "code",
   "execution_count": 18,
   "metadata": {},
   "outputs": [
    {
     "data": {
      "image/png": "[encoded data removed]",
      "text/plain": [
       "<Figure size 500x500 with 3 Axes>"
      ]
     },
     "metadata": {},
     "output_type": "display_data"
    }
   ],
   "source": [
    "_ = plot_fisher_information_contours_2d(\n",
    "    [info_sally, info_histo_1d, info_histo_2d, info_alices],\n",
    "    [None, cov_histo_1d, cov_histo_2d, None],\n",
    "    inline_labels=[\"SALLY\", \"1d\", \"2d\", \"ALICES\"],\n",
    "    xrange=(-0.3, 0.3),\n",
    "    yrange=(-0.3, 0.3),\n",
    ")"
   ]
  },
  {
   "cell_type": "code",
   "execution_count": null,
   "metadata": {},
   "outputs": [],
   "source": []
  }
 ],
 "metadata": {
  "kernelspec": {
   "display_name": "Python 3",
   "language": "python",
   "name": "python3"
  },
  "language_info": {
   "codemirror_mode": {
    "name": "ipython",
    "version": 3
   },
   "file_extension": ".py",
   "mimetype": "text/x-python",
   "name": "python",
   "nbconvert_exporter": "python",
   "pygments_lexer": "ipython3",
   "version": "3.10.13"
  }
 },
 "nbformat": 4,
 "nbformat_minor": 2
}
